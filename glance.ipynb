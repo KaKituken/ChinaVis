{
 "cells": [
  {
   "cell_type": "code",
   "execution_count": 36,
   "metadata": {
    "collapsed": true,
    "pycharm": {
     "name": "#%%\n"
    }
   },
   "outputs": [],
   "source": [
    "import pandas as pd\n",
    "import copy\n",
    "import os"
   ]
  },
  {
   "cell_type": "code",
   "execution_count": 2,
   "outputs": [
    {
     "data": {
      "text/plain": "      relation                                             source  \\\n0  r_subdomain  Domain_34a6231f101fdfa2b051beaa4b94d463fe5f9f4...   \n1      r_dns_a  Domain_34a6231f101fdfa2b051beaa4b94d463fe5f9f4...   \n2       r_cert  Domain_34a6231f101fdfa2b051beaa4b94d463fe5f9f4...   \n3      r_dns_a  Domain_5052db3f33d5337ab631025f7d5de3c5ac559ed...   \n4      r_dns_a  Domain_32b4d5d93789d5436fe729499c7b4d311742797...   \n\n                                              target  \n0  Domain_5052db3f33d5337ab631025f7d5de3c5ac559ed...  \n1  IP_37f7ed5739b43757ff23c712ae4d60d16615c59c081...  \n2  Cert_9ace6aae20e3ac6d9ebfae8938b91112460b27ad2...  \n3  IP_37f7ed5739b43757ff23c712ae4d60d16615c59c081...  \n4  IP_37f7ed5739b43757ff23c712ae4d60d16615c59c081...  ",
      "text/html": "<div>\n<style scoped>\n    .dataframe tbody tr th:only-of-type {\n        vertical-align: middle;\n    }\n\n    .dataframe tbody tr th {\n        vertical-align: top;\n    }\n\n    .dataframe thead th {\n        text-align: right;\n    }\n</style>\n<table border=\"1\" class=\"dataframe\">\n  <thead>\n    <tr style=\"text-align: right;\">\n      <th></th>\n      <th>relation</th>\n      <th>source</th>\n      <th>target</th>\n    </tr>\n  </thead>\n  <tbody>\n    <tr>\n      <th>0</th>\n      <td>r_subdomain</td>\n      <td>Domain_34a6231f101fdfa2b051beaa4b94d463fe5f9f4...</td>\n      <td>Domain_5052db3f33d5337ab631025f7d5de3c5ac559ed...</td>\n    </tr>\n    <tr>\n      <th>1</th>\n      <td>r_dns_a</td>\n      <td>Domain_34a6231f101fdfa2b051beaa4b94d463fe5f9f4...</td>\n      <td>IP_37f7ed5739b43757ff23c712ae4d60d16615c59c081...</td>\n    </tr>\n    <tr>\n      <th>2</th>\n      <td>r_cert</td>\n      <td>Domain_34a6231f101fdfa2b051beaa4b94d463fe5f9f4...</td>\n      <td>Cert_9ace6aae20e3ac6d9ebfae8938b91112460b27ad2...</td>\n    </tr>\n    <tr>\n      <th>3</th>\n      <td>r_dns_a</td>\n      <td>Domain_5052db3f33d5337ab631025f7d5de3c5ac559ed...</td>\n      <td>IP_37f7ed5739b43757ff23c712ae4d60d16615c59c081...</td>\n    </tr>\n    <tr>\n      <th>4</th>\n      <td>r_dns_a</td>\n      <td>Domain_32b4d5d93789d5436fe729499c7b4d311742797...</td>\n      <td>IP_37f7ed5739b43757ff23c712ae4d60d16615c59c081...</td>\n    </tr>\n  </tbody>\n</table>\n</div>"
     },
     "execution_count": 2,
     "metadata": {},
     "output_type": "execute_result"
    }
   ],
   "source": [
    "df_link = pd.read_csv(\"ChinaVis_data/Link.csv\")\n",
    "df_link = df_link.drop_duplicates()\n",
    "df_link.head()"
   ],
   "metadata": {
    "collapsed": false,
    "pycharm": {
     "name": "#%%\n"
    }
   }
  },
  {
   "cell_type": "code",
   "execution_count": 3,
   "outputs": [
    {
     "name": "stdout",
     "output_type": "stream",
     "text": [
      "#node: 2371558\n"
     ]
    },
    {
     "data": {
      "text/plain": "                                                  id            name    type  \\\n0  Domain_34a6231f101fdfa2b051beaa4b94d463fe5f9f4...  34a6231f10.com  Domain   \n1  Domain_5052db3f33d5337ab631025f7d5de3c5ac559ed...  5052db3f33.com  Domain   \n2  IP_37f7ed5739b43757ff23c712ae4d60d16615c59c081...   5.180.xxx.xxx      IP   \n3  Cert_9ace6aae20e3ac6d9ebfae8938b91112460b27ad2...      9ace6aae20    Cert   \n4  Domain_32b4d5d93789d5436fe729499c7b4d311742797...  32b4d5d937.com  Domain   \n\n               industry  \n0  ['C', 'E', 'A', 'B']  \n1  ['C', 'E', 'A', 'B']  \n2                    []  \n3                    []  \n4  ['C', 'E', 'A', 'B']  ",
      "text/html": "<div>\n<style scoped>\n    .dataframe tbody tr th:only-of-type {\n        vertical-align: middle;\n    }\n\n    .dataframe tbody tr th {\n        vertical-align: top;\n    }\n\n    .dataframe thead th {\n        text-align: right;\n    }\n</style>\n<table border=\"1\" class=\"dataframe\">\n  <thead>\n    <tr style=\"text-align: right;\">\n      <th></th>\n      <th>id</th>\n      <th>name</th>\n      <th>type</th>\n      <th>industry</th>\n    </tr>\n  </thead>\n  <tbody>\n    <tr>\n      <th>0</th>\n      <td>Domain_34a6231f101fdfa2b051beaa4b94d463fe5f9f4...</td>\n      <td>34a6231f10.com</td>\n      <td>Domain</td>\n      <td>['C', 'E', 'A', 'B']</td>\n    </tr>\n    <tr>\n      <th>1</th>\n      <td>Domain_5052db3f33d5337ab631025f7d5de3c5ac559ed...</td>\n      <td>5052db3f33.com</td>\n      <td>Domain</td>\n      <td>['C', 'E', 'A', 'B']</td>\n    </tr>\n    <tr>\n      <th>2</th>\n      <td>IP_37f7ed5739b43757ff23c712ae4d60d16615c59c081...</td>\n      <td>5.180.xxx.xxx</td>\n      <td>IP</td>\n      <td>[]</td>\n    </tr>\n    <tr>\n      <th>3</th>\n      <td>Cert_9ace6aae20e3ac6d9ebfae8938b91112460b27ad2...</td>\n      <td>9ace6aae20</td>\n      <td>Cert</td>\n      <td>[]</td>\n    </tr>\n    <tr>\n      <th>4</th>\n      <td>Domain_32b4d5d93789d5436fe729499c7b4d311742797...</td>\n      <td>32b4d5d937.com</td>\n      <td>Domain</td>\n      <td>['C', 'E', 'A', 'B']</td>\n    </tr>\n  </tbody>\n</table>\n</div>"
     },
     "execution_count": 3,
     "metadata": {},
     "output_type": "execute_result"
    }
   ],
   "source": [
    "df_node = pd.read_csv(\"ChinaVis_data/Node.csv\")\n",
    "print(\"#node: %d\" % len(df_node))\n",
    "df_node.head()"
   ],
   "metadata": {
    "collapsed": false,
    "pycharm": {
     "name": "#%%\n"
    }
   }
  },
  {
   "cell_type": "code",
   "execution_count": 4,
   "outputs": [
    {
     "name": "stdout",
     "output_type": "stream",
     "text": [
      "#node: 2339835\n"
     ]
    },
    {
     "data": {
      "text/plain": "                                                  id            name    type  \\\n0  Domain_34a6231f101fdfa2b051beaa4b94d463fe5f9f4...  34a6231f10.com  Domain   \n1  Domain_5052db3f33d5337ab631025f7d5de3c5ac559ed...  5052db3f33.com  Domain   \n2  IP_37f7ed5739b43757ff23c712ae4d60d16615c59c081...   5.180.xxx.xxx      IP   \n3  Cert_9ace6aae20e3ac6d9ebfae8938b91112460b27ad2...      9ace6aae20    Cert   \n4  Domain_32b4d5d93789d5436fe729499c7b4d311742797...  32b4d5d937.com  Domain   \n\n               industry  \n0  ['C', 'E', 'A', 'B']  \n1  ['C', 'E', 'A', 'B']  \n2                    []  \n3                    []  \n4  ['C', 'E', 'A', 'B']  ",
      "text/html": "<div>\n<style scoped>\n    .dataframe tbody tr th:only-of-type {\n        vertical-align: middle;\n    }\n\n    .dataframe tbody tr th {\n        vertical-align: top;\n    }\n\n    .dataframe thead th {\n        text-align: right;\n    }\n</style>\n<table border=\"1\" class=\"dataframe\">\n  <thead>\n    <tr style=\"text-align: right;\">\n      <th></th>\n      <th>id</th>\n      <th>name</th>\n      <th>type</th>\n      <th>industry</th>\n    </tr>\n  </thead>\n  <tbody>\n    <tr>\n      <th>0</th>\n      <td>Domain_34a6231f101fdfa2b051beaa4b94d463fe5f9f4...</td>\n      <td>34a6231f10.com</td>\n      <td>Domain</td>\n      <td>['C', 'E', 'A', 'B']</td>\n    </tr>\n    <tr>\n      <th>1</th>\n      <td>Domain_5052db3f33d5337ab631025f7d5de3c5ac559ed...</td>\n      <td>5052db3f33.com</td>\n      <td>Domain</td>\n      <td>['C', 'E', 'A', 'B']</td>\n    </tr>\n    <tr>\n      <th>2</th>\n      <td>IP_37f7ed5739b43757ff23c712ae4d60d16615c59c081...</td>\n      <td>5.180.xxx.xxx</td>\n      <td>IP</td>\n      <td>[]</td>\n    </tr>\n    <tr>\n      <th>3</th>\n      <td>Cert_9ace6aae20e3ac6d9ebfae8938b91112460b27ad2...</td>\n      <td>9ace6aae20</td>\n      <td>Cert</td>\n      <td>[]</td>\n    </tr>\n    <tr>\n      <th>4</th>\n      <td>Domain_32b4d5d93789d5436fe729499c7b4d311742797...</td>\n      <td>32b4d5d937.com</td>\n      <td>Domain</td>\n      <td>['C', 'E', 'A', 'B']</td>\n    </tr>\n  </tbody>\n</table>\n</div>"
     },
     "execution_count": 4,
     "metadata": {},
     "output_type": "execute_result"
    }
   ],
   "source": [
    "type_cores = ['Domain', 'IP', 'Cert']\n",
    "df_cores = df_node[df_node['type'].isin(type_cores)]\n",
    "print(\"#node: %d\" % len(df_cores))\n",
    "df_cores.head()"
   ],
   "metadata": {
    "collapsed": false,
    "pycharm": {
     "name": "#%%\n"
    }
   }
  },
  {
   "cell_type": "markdown",
   "source": [
    "### 2022.05.19 Plan: search neighbors with depth 3, record all ip and cert nodes."
   ],
   "metadata": {
    "collapsed": false,
    "pycharm": {
     "name": "#%% md\n"
    }
   }
  },
  {
   "cell_type": "code",
   "execution_count": 12,
   "outputs": [
    {
     "data": {
      "text/plain": "array(['r_subdomain', 'r_dns_a', 'r_cert', 'r_asn', 'r_cert_chain',\n       'r_whois_name', 'r_whois_email', 'r_whois_phone', 'r_cidr',\n       'r_cname', 'r_request_jump'], dtype=object)"
     },
     "execution_count": 12,
     "metadata": {},
     "output_type": "execute_result"
    }
   ],
   "source": [
    "df_link['relation'].unique()"
   ],
   "metadata": {
    "collapsed": false,
    "pycharm": {
     "name": "#%%\n"
    }
   }
  },
  {
   "cell_type": "code",
   "execution_count": 13,
   "outputs": [
    {
     "data": {
      "text/plain": "      relation                                             source  \\\n0  r_subdomain  Domain_34a6231f101fdfa2b051beaa4b94d463fe5f9f4...   \n1      r_dns_a  Domain_34a6231f101fdfa2b051beaa4b94d463fe5f9f4...   \n2       r_cert  Domain_34a6231f101fdfa2b051beaa4b94d463fe5f9f4...   \n3      r_dns_a  Domain_5052db3f33d5337ab631025f7d5de3c5ac559ed...   \n4      r_dns_a  Domain_32b4d5d93789d5436fe729499c7b4d311742797...   \n\n                                              target  link_strength  \n0  Domain_5052db3f33d5337ab631025f7d5de3c5ac559ed...              3  \n1  IP_37f7ed5739b43757ff23c712ae4d60d16615c59c081...              3  \n2  Cert_9ace6aae20e3ac6d9ebfae8938b91112460b27ad2...              0  \n3  IP_37f7ed5739b43757ff23c712ae4d60d16615c59c081...              3  \n4  IP_37f7ed5739b43757ff23c712ae4d60d16615c59c081...              3  ",
      "text/html": "<div>\n<style scoped>\n    .dataframe tbody tr th:only-of-type {\n        vertical-align: middle;\n    }\n\n    .dataframe tbody tr th {\n        vertical-align: top;\n    }\n\n    .dataframe thead th {\n        text-align: right;\n    }\n</style>\n<table border=\"1\" class=\"dataframe\">\n  <thead>\n    <tr style=\"text-align: right;\">\n      <th></th>\n      <th>relation</th>\n      <th>source</th>\n      <th>target</th>\n      <th>link_strength</th>\n    </tr>\n  </thead>\n  <tbody>\n    <tr>\n      <th>0</th>\n      <td>r_subdomain</td>\n      <td>Domain_34a6231f101fdfa2b051beaa4b94d463fe5f9f4...</td>\n      <td>Domain_5052db3f33d5337ab631025f7d5de3c5ac559ed...</td>\n      <td>3</td>\n    </tr>\n    <tr>\n      <th>1</th>\n      <td>r_dns_a</td>\n      <td>Domain_34a6231f101fdfa2b051beaa4b94d463fe5f9f4...</td>\n      <td>IP_37f7ed5739b43757ff23c712ae4d60d16615c59c081...</td>\n      <td>3</td>\n    </tr>\n    <tr>\n      <th>2</th>\n      <td>r_cert</td>\n      <td>Domain_34a6231f101fdfa2b051beaa4b94d463fe5f9f4...</td>\n      <td>Cert_9ace6aae20e3ac6d9ebfae8938b91112460b27ad2...</td>\n      <td>0</td>\n    </tr>\n    <tr>\n      <th>3</th>\n      <td>r_dns_a</td>\n      <td>Domain_5052db3f33d5337ab631025f7d5de3c5ac559ed...</td>\n      <td>IP_37f7ed5739b43757ff23c712ae4d60d16615c59c081...</td>\n      <td>3</td>\n    </tr>\n    <tr>\n      <th>4</th>\n      <td>r_dns_a</td>\n      <td>Domain_32b4d5d93789d5436fe729499c7b4d311742797...</td>\n      <td>IP_37f7ed5739b43757ff23c712ae4d60d16615c59c081...</td>\n      <td>3</td>\n    </tr>\n  </tbody>\n</table>\n</div>"
     },
     "execution_count": 13,
     "metadata": {},
     "output_type": "execute_result"
    }
   ],
   "source": [
    "very_strong_links = [\"r_cert\", \"r_subdomain\", \"r_request_jump\", \"r_dns_a\"]\n",
    "strong_links = [\"r_whois_name\", \"r_whois_email\", \"r_whois_phone\"]\n",
    "common_links = [\"r_cert_chain\", \"r_cname\"]\n",
    "weak_links = [\"r_asn\", \"r_cidr\"]\n",
    "# ignore_links = [\"r_cert\", \"r_asn\", \"r_cidr\"]\n",
    "\n",
    "df_link[\"link_strength\"] = 0\n",
    "df_link.loc[df_link['relation'].isin(very_strong_links), 'link_strength'] = 3\n",
    "df_link.loc[df_link['relation'].isin(strong_links), 'link_strength'] = 3\n",
    "df_link.loc[df_link['relation'].isin(common_links), 'link_strength'] = 2\n",
    "df_link.loc[df_link['relation'].isin(weak_links), 'link_strength'] = 1\n",
    "# df_link.loc[df_link['relation'].isin(ignore_links), 'link_strength'] = 0\n",
    "df_link.head()"
   ],
   "metadata": {
    "collapsed": false,
    "pycharm": {
     "name": "#%%\n"
    }
   }
  },
  {
   "cell_type": "markdown",
   "source": [
    "### Explorer"
   ],
   "metadata": {
    "collapsed": false,
    "pycharm": {
     "name": "#%% md\n"
    }
   }
  },
  {
   "cell_type": "code",
   "execution_count": null,
   "outputs": [],
   "source": [
    "illegal_domains = df_node[df_node['industry'] != '[]'].to_list()\n",
    "illegal_domains"
   ],
   "metadata": {
    "collapsed": false,
    "pycharm": {
     "name": "#%%\n"
    }
   }
  },
  {
   "cell_type": "code",
   "execution_count": 14,
   "outputs": [],
   "source": [
    "cores = set()\n",
    "visited_nodes = set()\n",
    "\n",
    "\n",
    "def Search(node_id, depth, path):\n",
    "    visited_nodes.add(node_id)\n",
    "\n",
    "    if len(visited_nodes) % 3000 == 0:\n",
    "        print(\"#visited nodes: %d\\t#core nodes: %d\" % (len(visited_nodes), len(cores)))\n",
    "\n",
    "    if depth == 0: return\n",
    "\n",
    "    df = df_link[(df_link['source'] == node_id) | (df_link['target'] == node_id)]\n",
    "    if node_id.startswith(\"Cert\"):\n",
    "        df =  df[(df['relation'] != 'r_cert') | (df['source'].isin(illegal_domains)) | (df['source'].isin(cores))]\n",
    "\n",
    "\n",
    "    neighbors = []\n",
    "    for _, link in df.iterrows():\n",
    "        if link['source'] not in visited_nodes:\n",
    "            neighbors.append({\"id\": link['source'], \"depth\": link['link_strength']})\n",
    "\n",
    "        if link['target'] not in visited_nodes:\n",
    "            neighbors.append({\"id\": link['target'], \"depth\": link['link_strength']})\n",
    "\n",
    "    # find a clue node!\n",
    "    if (len(df[(~df['source'].isin(path)) & (df['source'].isin(clues))]) != 0) or (len(\n",
    "            df[(~df['target'].isin(path)) & (df['target'].isin(clues))]) != 0):\n",
    "        print(\"Find a path.\")\n",
    "        for path_node in path:\n",
    "            cores.add(path_node)\n",
    "\n",
    "    # if len(neighbors) > 50:\n",
    "    #     print(node_id)\n",
    "    #     print(\"#neighbor: %d\" % len(neighbors))\n",
    "\n",
    "    for neighbor in neighbors:\n",
    "        node_id = neighbor[\"id\"]\n",
    "\n",
    "        path.append(node_id)\n",
    "        Search(node_id, min(depth - 1, neighbor[\"depth\"]), path)\n",
    "        path.remove(node_id)"
   ],
   "metadata": {
    "collapsed": false,
    "pycharm": {
     "name": "#%%\n"
    }
   }
  },
  {
   "cell_type": "markdown",
   "source": [
    "### Drawer"
   ],
   "metadata": {
    "collapsed": false,
    "pycharm": {
     "name": "#%% md\n"
    }
   }
  },
  {
   "cell_type": "code",
   "execution_count": 215,
   "outputs": [],
   "source": [
    "from pyecharts.charts import Graph\n",
    "from pyecharts import options as opts\n",
    "\n",
    "\n",
    "def Draw(nodes, df_links, name):\n",
    "    name_length = 15\n",
    "\n",
    "    node_list = []\n",
    "    for node in nodes:\n",
    "        if node in clues:\n",
    "            node_list.append({\"name\": node[0:name_length], \"itemStyle\": {\"color\": \"#71995a\"}})\n",
    "        else:\n",
    "            node_list.append({\"name\": node[0:name_length]})\n",
    "\n",
    "    link_list = []\n",
    "    for index, row in df_links.iterrows():\n",
    "        link_list.append(\n",
    "            {\"source\": row['source'][0:name_length], \"target\": row['target'][0:name_length], \"value\": row['relation']})\n",
    "\n",
    "    print(\"#node: %d\\t#links: %d\" % (len(node_list), len(link_list)))\n",
    "\n",
    "    c = (\n",
    "        Graph()\n",
    "            .add(\"\", node_list, link_list, repulsion=1000, edge_label=opts.LabelOpts(\n",
    "            is_show=True, position=\"middle\", formatter=\"relation\"))\n",
    "            .set_global_opts(title_opts=opts.TitleOpts(title=name))\n",
    "            .render(name + \".html\")\n",
    "    )"
   ],
   "metadata": {
    "collapsed": false,
    "pycharm": {
     "name": "#%%\n"
    }
   }
  },
  {
   "cell_type": "markdown",
   "source": [
    "### JSON Generator"
   ],
   "metadata": {
    "collapsed": false,
    "pycharm": {
     "name": "#%% md\n"
    }
   }
  },
  {
   "cell_type": "code",
   "execution_count": 216,
   "outputs": [],
   "source": [
    "def ToJSON(nodes, df_links, name):\n",
    "    df_json_node = df_node[df_node['id'].isin(nodes)]\n",
    "    df_json_node = df_json_node.rename(columns={\"type\": \"group\"})\n",
    "\n",
    "    df_json_link = df_links.drop(['link_strength'], axis=1)\n",
    "    df_json_link = df_json_link.rename(columns={\"relation\": \"value\"})\n",
    "\n",
    "    if not os.path.exists(name):\n",
    "        os.mkdir(name)\n",
    "    df_json_node.to_json(name + \"/nodes.json\", orient=\"records\")\n",
    "    df_json_link.to_json(name + \"/links.json\", orient=\"records\")"
   ],
   "metadata": {
    "collapsed": false,
    "pycharm": {
     "name": "#%%\n"
    }
   }
  },
  {
   "cell_type": "code",
   "execution_count": 217,
   "outputs": [],
   "source": [
    "def Filter(relation, df_graph, cores, threshold=20):\n",
    "    df_relation = df_graph[df_graph['relation'] == relation]\n",
    "    domains = []\n",
    "    uniques = df_relation['target'].unique()\n",
    "    for unique in uniques:\n",
    "        df = df_relation[df_relation['target'] == unique]\n",
    "        if len(df) > threshold:\n",
    "            df = df.sample(threshold)\n",
    "        domains += df['source'].to_list()\n",
    "\n",
    "    df_graph = df_graph[\n",
    "        (df_graph['relation'] != relation) | (df_graph['source'].isin(domains)) | df_graph['source'].isin(cores)]\n",
    "\n",
    "    return df_graph"
   ],
   "metadata": {
    "collapsed": false,
    "pycharm": {
     "name": "#%%\n"
    }
   }
  },
  {
   "cell_type": "code",
   "execution_count": 248,
   "outputs": [],
   "source": [
    "name = \"group-4\"\n",
    "if not os.path.exists(name):\n",
    "    os.mkdir(name)\n",
    "\n",
    "# clues = [\"Domain_c58c149eec59bb14b0c102a0f303d4c20366926b5c3206555d2937474124beb9\",\n",
    "#          \"Domain_f3554b666038baffa5814c319d3053ee2c2eb30d31d0ef509a1a463386b69845\"]\n",
    "\n",
    "# clues = [\"Domain_b10f98a9b53806ccd3a5ee45676c7c09366545c5b12aa96955cde3953e7ad058\",\n",
    "#          \"IP_400c19e584976ff2a35950659d4d148a3d146f1b71692468132b849b0eb8702c\"]\n",
    "#\n",
    "# clues = [\"Domain_24acfd52f9ceb424d4a2643a832638ce1673b8689fa952d9010dd44949e6b1d9\",\n",
    "#          \"Domain_9c72287c3f9bb38cb0186acf37b7054442b75ac32324dfd245aed46a03026de1\",\n",
    "#          \"Domain_717aa5778731a1f4d6f0218dd3a27b114c839213b4af781427ac1e22dc9a7dea\",\n",
    "#          \"Domain_8748687a61811032f0ed1dcdb57e01efef9983a6d9c236b82997b07477e66177\",\n",
    "#          \"Whois_Phone_f4a84443fb72da27731660695dd00877e8ce25b264ec418504fface62cdcbbd7\"]\n",
    "#\n",
    "# clues = [\"IP_7e730b193c2496fc908086e8c44fc2dbbf7766e599fabde86a4bcb6afdaad66e\",\n",
    "#          \"Cert_6724539e5c0851f37dcf91b7ac85cb35fcd9f8ba4df0107332c308aa53d63bdb\"]\n",
    "#\n",
    "clues = [\"Whois_Phone_fd0a3f6712ff520edae7e554cb6dfb4bdd2af1e4a97a39ed9357b31b6888b4af\",\n",
    "         \"IP_21ce145cae6730a99300bf677b83bbe430cc0ec957047172e73659372f0031b8\",\n",
    "         \"Domain_7939d01c5b99c39d2a0f2b418f6060b917804e60c15309811ef4059257c0818a\",\n",
    "         \"Domain_587da0bac152713947db682a5443ef639e35f77a3b59e246e8a07c5eccae67e5\"]"
   ],
   "metadata": {
    "collapsed": false,
    "pycharm": {
     "name": "#%%\n"
    }
   }
  },
  {
   "cell_type": "code",
   "execution_count": null,
   "outputs": [
    {
     "name": "stdout",
     "output_type": "stream",
     "text": [
      "Find a path.\n",
      "Find a path.\n",
      "Find a path.\n",
      "#visited nodes: 3000\t#core nodes: 7\n",
      "Find a path.\n",
      "Find a path.\n",
      "Find a path.\n",
      "Find a path.\n",
      "#visited nodes: 6000\t#core nodes: 8\n",
      "#visited nodes: 9000\t#core nodes: 8\n"
     ]
    }
   ],
   "source": [
    "cores.clear()\n",
    "visited_nodes.clear()\n",
    "for clue in clues:\n",
    "    cores.add(clue)\n",
    "\n",
    "for clue in clues:\n",
    "    Search(clue, 3, [clue])\n",
    "\n",
    "print(\"#cores: %d\" % len(cores))\n",
    "print(\"#visited nodes: %d\" % len(visited_nodes))"
   ],
   "metadata": {
    "collapsed": false,
    "pycharm": {
     "name": "#%%\n",
     "is_executing": true
    }
   }
  },
  {
   "cell_type": "markdown",
   "source": [
    "### Clue Sketch"
   ],
   "metadata": {
    "collapsed": false,
    "pycharm": {
     "name": "#%% md\n"
    }
   }
  },
  {
   "cell_type": "code",
   "execution_count": null,
   "outputs": [],
   "source": [
    "sketch_nodes = copy.deepcopy(cores)\n",
    "df_sketch = df_link[(df_link['source'].isin(sketch_nodes)) & (df_link['target'].isin(sketch_nodes))]\n",
    "\n",
    "# filter cert and ip\n",
    "df_sketch = Filter('r_cert', df_sketch, sketch_nodes)\n",
    "df_sketch = Filter('r_dns_a', df_sketch, sketch_nodes)\n",
    "df_sketch = Filter('r_whois_phone', df_sketch, sketch_nodes)\n",
    "\n",
    "# sketch_nodes = df_sketch['source'].to_list() + df_sketch['target'].to_list()\n",
    "# sketch_nodes = set(sketch_nodes)\n",
    "\n",
    "Draw(sketch_nodes, df_sketch, name + \"/sketch\")\n",
    "ToJSON(sketch_nodes, df_sketch, name + \"/sketch\")"
   ],
   "metadata": {
    "collapsed": false,
    "pycharm": {
     "name": "#%%\n",
     "is_executing": true
    }
   }
  },
  {
   "cell_type": "markdown",
   "source": [
    "### Cores Nodes"
   ],
   "metadata": {
    "collapsed": false,
    "pycharm": {
     "name": "#%% md\n"
    }
   }
  },
  {
   "cell_type": "code",
   "execution_count": null,
   "outputs": [],
   "source": [
    "# find all related ip and certs along the path\n",
    "cores_ip_cert = copy.deepcopy(cores)\n",
    "df_depth = df_link[(df_link['source'].isin(cores)) | (df_link['target'].isin(cores))]\n",
    "nodes = df_depth['source'].to_list() + df_depth['target'].to_list()\n",
    "for node in nodes:\n",
    "    if node.startswith(\"IP\") or node.startswith(\"Cert\"):\n",
    "        cores_ip_cert.add(node)\n",
    "\n",
    "df_cores_ip_certs = df_link[(df_link['source'].isin(cores_ip_cert)) & (df_link['target'].isin(cores_ip_cert))]\n",
    "\n",
    "# filter cert and ip\n",
    "df_cores_ip_certs = Filter('r_cert', df_cores_ip_certs, cores_ip_cert)\n",
    "df_cores_ip_certs = Filter('r_dns_a', df_cores_ip_certs, cores_ip_cert)\n",
    "df_cores_ip_certs = Filter('r_whois_phone', df_cores_ip_certs, cores_ip_cert)\n",
    "\n",
    "cores_nodes = df_cores_ip_certs['source'].to_list() + df_cores_ip_certs['target'].to_list()\n",
    "cores_nodes = set(cores_nodes)\n",
    "\n",
    "Draw(cores_nodes, df_cores_ip_certs, name + \"/cores\")\n",
    "ToJSON(cores_nodes, df_cores_ip_certs, name + \"/cores\")"
   ],
   "metadata": {
    "collapsed": false,
    "pycharm": {
     "name": "#%%\n",
     "is_executing": true
    }
   }
  },
  {
   "cell_type": "markdown",
   "source": [
    "### Subgraph - all"
   ],
   "metadata": {
    "collapsed": false,
    "pycharm": {
     "name": "#%% md\n"
    }
   }
  },
  {
   "cell_type": "code",
   "execution_count": null,
   "outputs": [],
   "source": [
    "subgraph_nodes = copy.deepcopy(cores_nodes)\n",
    "df_subgraph = df_link[(df_link['source'].isin(subgraph_nodes)) | (df_link['target'].isin(subgraph_nodes))]\n",
    "\n",
    "# filter cert and ip\n",
    "df_subgraph = Filter('r_cert', df_subgraph, subgraph_nodes)\n",
    "df_subgraph = Filter('r_dns_a', df_subgraph, subgraph_nodes)\n",
    "\n",
    "subgraph_nodes = df_subgraph['source'].to_list() + df_subgraph['target'].to_list()\n",
    "subgraph_nodes = set(subgraph_nodes)\n",
    "\n",
    "Draw(subgraph_nodes, df_subgraph, name + \"/subgraph-all\")\n",
    "ToJSON(subgraph_nodes, df_subgraph, name + \"/subgraph-all\")"
   ],
   "metadata": {
    "collapsed": false,
    "pycharm": {
     "name": "#%%\n",
     "is_executing": true
    }
   }
  },
  {
   "cell_type": "markdown",
   "source": [
    "### Subgraph - illegal"
   ],
   "metadata": {
    "collapsed": false,
    "pycharm": {
     "name": "#%% md\n"
    }
   }
  },
  {
   "cell_type": "code",
   "execution_count": null,
   "outputs": [],
   "source": [
    "# if we only care illegal nodes?\n",
    "illegal_domain = df_node[df_node['industry'] != '[]']['id']\n",
    "df_subgraph_illegal = df_subgraph[\n",
    "    (df_subgraph['source'].isin(illegal_domain)) | df_subgraph['source'].isin(cores_nodes)]\n",
    "\n",
    "subgraph_nodes_illegal = df_subgraph_illegal['source'].to_list() + df_subgraph_illegal['target'].to_list()\n",
    "subgraph_nodes_illegal = set(subgraph_nodes_illegal)\n",
    "\n",
    "Draw(subgraph_nodes_illegal, df_subgraph_illegal, name + \"/subgraph-illegal\")\n",
    "ToJSON(subgraph_nodes_illegal, df_subgraph_illegal, name + \"/subgraph-illegal\")"
   ],
   "metadata": {
    "collapsed": false,
    "pycharm": {
     "name": "#%%\n",
     "is_executing": true
    }
   }
  },
  {
   "cell_type": "code",
   "execution_count": null,
   "outputs": [],
   "source": [],
   "metadata": {
    "collapsed": false,
    "pycharm": {
     "name": "#%%\n"
    }
   }
  }
 ],
 "metadata": {
  "kernelspec": {
   "display_name": "Python 3",
   "language": "python",
   "name": "python3"
  },
  "language_info": {
   "codemirror_mode": {
    "name": "ipython",
    "version": 2
   },
   "file_extension": ".py",
   "mimetype": "text/x-python",
   "name": "python",
   "nbconvert_exporter": "python",
   "pygments_lexer": "ipython2",
   "version": "2.7.6"
  }
 },
 "nbformat": 4,
 "nbformat_minor": 0
}