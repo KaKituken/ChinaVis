{
 "cells": [
  {
   "cell_type": "code",
   "execution_count": 49,
   "id": "f98eb71c",
   "metadata": {},
   "outputs": [],
   "source": [
    "import numpy as np\n",
    "import pandas as pd\n",
    "df_link = pd.read_csv('../Link.csv')\n",
    "df_node = pd.read_csv(\"../Node.csv\")"
   ]
  },
  {
   "cell_type": "code",
   "execution_count": 7,
   "id": "2add02e8",
   "metadata": {},
   "outputs": [
    {
     "data": {
      "text/plain": [
       "207878"
      ]
     },
     "execution_count": 7,
     "metadata": {},
     "output_type": "execute_result"
    }
   ],
   "source": [
    "IPs = list(df_node[df_node['type'] == 'IP']['id'])\n",
    "len(IPs)"
   ]
  },
  {
   "cell_type": "code",
   "execution_count": 21,
   "id": "edec0cee",
   "metadata": {},
   "outputs": [],
   "source": [
    "Domains_next_to_ip = {}\n",
    "for ip in IPs[:100]:\n",
    "    Domains = list(df_link[df_link['target'] == ip]['source'])\n",
    "    Domains_next_to_ip[ip] = Domains"
   ]
  },
  {
   "cell_type": "code",
   "execution_count": 23,
   "id": "59fba034",
   "metadata": {},
   "outputs": [
    {
     "data": {
      "text/html": [
       "<div>\n",
       "<style scoped>\n",
       "    .dataframe tbody tr th:only-of-type {\n",
       "        vertical-align: middle;\n",
       "    }\n",
       "\n",
       "    .dataframe tbody tr th {\n",
       "        vertical-align: top;\n",
       "    }\n",
       "\n",
       "    .dataframe thead th {\n",
       "        text-align: right;\n",
       "    }\n",
       "</style>\n",
       "<table border=\"1\" class=\"dataframe\">\n",
       "  <thead>\n",
       "    <tr style=\"text-align: right;\">\n",
       "      <th></th>\n",
       "      <th>relation</th>\n",
       "      <th>source</th>\n",
       "      <th>target</th>\n",
       "    </tr>\n",
       "  </thead>\n",
       "  <tbody>\n",
       "    <tr>\n",
       "      <th>1</th>\n",
       "      <td>r_dns_a</td>\n",
       "      <td>Domain_34a6231f101fdfa2b051beaa4b94d463fe5f9f4...</td>\n",
       "      <td>IP_37f7ed5739b43757ff23c712ae4d60d16615c59c081...</td>\n",
       "    </tr>\n",
       "    <tr>\n",
       "      <th>3</th>\n",
       "      <td>r_dns_a</td>\n",
       "      <td>Domain_5052db3f33d5337ab631025f7d5de3c5ac559ed...</td>\n",
       "      <td>IP_37f7ed5739b43757ff23c712ae4d60d16615c59c081...</td>\n",
       "    </tr>\n",
       "    <tr>\n",
       "      <th>4</th>\n",
       "      <td>r_dns_a</td>\n",
       "      <td>Domain_32b4d5d93789d5436fe729499c7b4d311742797...</td>\n",
       "      <td>IP_37f7ed5739b43757ff23c712ae4d60d16615c59c081...</td>\n",
       "    </tr>\n",
       "    <tr>\n",
       "      <th>5</th>\n",
       "      <td>r_dns_a</td>\n",
       "      <td>Domain_70d6d09e0e5ab16df4420cd6ff62b1704e2ea51...</td>\n",
       "      <td>IP_37f7ed5739b43757ff23c712ae4d60d16615c59c081...</td>\n",
       "    </tr>\n",
       "    <tr>\n",
       "      <th>6</th>\n",
       "      <td>r_dns_a</td>\n",
       "      <td>Domain_d3d0abc4c07c370e8c7413efd154a05a602e5e2...</td>\n",
       "      <td>IP_37f7ed5739b43757ff23c712ae4d60d16615c59c081...</td>\n",
       "    </tr>\n",
       "    <tr>\n",
       "      <th>...</th>\n",
       "      <td>...</td>\n",
       "      <td>...</td>\n",
       "      <td>...</td>\n",
       "    </tr>\n",
       "    <tr>\n",
       "      <th>3286981</th>\n",
       "      <td>r_dns_a</td>\n",
       "      <td>Domain_b7e3aa4728cae809cb6fdf9d3116b80dd068cc4...</td>\n",
       "      <td>IP_ce9be92e2d61fdca335872352ae62bdb3582d4699cc...</td>\n",
       "    </tr>\n",
       "    <tr>\n",
       "      <th>3286982</th>\n",
       "      <td>r_dns_a</td>\n",
       "      <td>Domain_394cdafce87175cbb1f3851e037a29790a83836...</td>\n",
       "      <td>IP_ce9be92e2d61fdca335872352ae62bdb3582d4699cc...</td>\n",
       "    </tr>\n",
       "    <tr>\n",
       "      <th>3286983</th>\n",
       "      <td>r_dns_a</td>\n",
       "      <td>Domain_4840dc2c80c94cdec1abcaed2a7537c3effb78d...</td>\n",
       "      <td>IP_ce9be92e2d61fdca335872352ae62bdb3582d4699cc...</td>\n",
       "    </tr>\n",
       "    <tr>\n",
       "      <th>3286984</th>\n",
       "      <td>r_dns_a</td>\n",
       "      <td>Domain_831c867dd78c1034424c75eb6ee8b805440511c...</td>\n",
       "      <td>IP_ce9be92e2d61fdca335872352ae62bdb3582d4699cc...</td>\n",
       "    </tr>\n",
       "    <tr>\n",
       "      <th>3286985</th>\n",
       "      <td>r_dns_a</td>\n",
       "      <td>Domain_b08e07e42fe1a500461b85f626817f4b220b6f5...</td>\n",
       "      <td>IP_ce9be92e2d61fdca335872352ae62bdb3582d4699cc...</td>\n",
       "    </tr>\n",
       "  </tbody>\n",
       "</table>\n",
       "<p>2054077 rows × 3 columns</p>\n",
       "</div>"
      ],
      "text/plain": [
       "        relation                                             source  \\\n",
       "1        r_dns_a  Domain_34a6231f101fdfa2b051beaa4b94d463fe5f9f4...   \n",
       "3        r_dns_a  Domain_5052db3f33d5337ab631025f7d5de3c5ac559ed...   \n",
       "4        r_dns_a  Domain_32b4d5d93789d5436fe729499c7b4d311742797...   \n",
       "5        r_dns_a  Domain_70d6d09e0e5ab16df4420cd6ff62b1704e2ea51...   \n",
       "6        r_dns_a  Domain_d3d0abc4c07c370e8c7413efd154a05a602e5e2...   \n",
       "...          ...                                                ...   \n",
       "3286981  r_dns_a  Domain_b7e3aa4728cae809cb6fdf9d3116b80dd068cc4...   \n",
       "3286982  r_dns_a  Domain_394cdafce87175cbb1f3851e037a29790a83836...   \n",
       "3286983  r_dns_a  Domain_4840dc2c80c94cdec1abcaed2a7537c3effb78d...   \n",
       "3286984  r_dns_a  Domain_831c867dd78c1034424c75eb6ee8b805440511c...   \n",
       "3286985  r_dns_a  Domain_b08e07e42fe1a500461b85f626817f4b220b6f5...   \n",
       "\n",
       "                                                    target  \n",
       "1        IP_37f7ed5739b43757ff23c712ae4d60d16615c59c081...  \n",
       "3        IP_37f7ed5739b43757ff23c712ae4d60d16615c59c081...  \n",
       "4        IP_37f7ed5739b43757ff23c712ae4d60d16615c59c081...  \n",
       "5        IP_37f7ed5739b43757ff23c712ae4d60d16615c59c081...  \n",
       "6        IP_37f7ed5739b43757ff23c712ae4d60d16615c59c081...  \n",
       "...                                                    ...  \n",
       "3286981  IP_ce9be92e2d61fdca335872352ae62bdb3582d4699cc...  \n",
       "3286982  IP_ce9be92e2d61fdca335872352ae62bdb3582d4699cc...  \n",
       "3286983  IP_ce9be92e2d61fdca335872352ae62bdb3582d4699cc...  \n",
       "3286984  IP_ce9be92e2d61fdca335872352ae62bdb3582d4699cc...  \n",
       "3286985  IP_ce9be92e2d61fdca335872352ae62bdb3582d4699cc...  \n",
       "\n",
       "[2054077 rows x 3 columns]"
      ]
     },
     "execution_count": 23,
     "metadata": {},
     "output_type": "execute_result"
    }
   ],
   "source": [
    "df_ip_link = df_link[df_link['target'].isin(IPs)]\n",
    "df_ip_link"
   ]
  },
  {
   "cell_type": "markdown",
   "id": "a5371c2b",
   "metadata": {},
   "source": [
    "所有IP连出去的Domain"
   ]
  },
  {
   "cell_type": "code",
   "execution_count": 24,
   "id": "945278d6",
   "metadata": {},
   "outputs": [
    {
     "data": {
      "text/plain": [
       "1          Domain_34a6231f101fdfa2b051beaa4b94d463fe5f9f4...\n",
       "3          Domain_5052db3f33d5337ab631025f7d5de3c5ac559ed...\n",
       "4          Domain_32b4d5d93789d5436fe729499c7b4d311742797...\n",
       "5          Domain_70d6d09e0e5ab16df4420cd6ff62b1704e2ea51...\n",
       "6          Domain_d3d0abc4c07c370e8c7413efd154a05a602e5e2...\n",
       "                                 ...                        \n",
       "3286981    Domain_b7e3aa4728cae809cb6fdf9d3116b80dd068cc4...\n",
       "3286982    Domain_394cdafce87175cbb1f3851e037a29790a83836...\n",
       "3286983    Domain_4840dc2c80c94cdec1abcaed2a7537c3effb78d...\n",
       "3286984    Domain_831c867dd78c1034424c75eb6ee8b805440511c...\n",
       "3286985    Domain_b08e07e42fe1a500461b85f626817f4b220b6f5...\n",
       "Name: source, Length: 2054077, dtype: object"
      ]
     },
     "execution_count": 24,
     "metadata": {},
     "output_type": "execute_result"
    }
   ],
   "source": [
    "domains = df_ip_link['source']\n",
    "domains"
   ]
  },
  {
   "cell_type": "code",
   "execution_count": 33,
   "id": "382f1551",
   "metadata": {},
   "outputs": [
    {
     "data": {
      "text/plain": [
       "[]                           1378733\n",
       "['A']                         115807\n",
       "['B']                         113233\n",
       "['A', 'B']                     14114\n",
       "['G']                           7253\n",
       "                              ...   \n",
       "['A', 'G', 'C', 'I', 'B']          1\n",
       "['F', 'B']                         1\n",
       "['C', 'A', 'D', 'B']               1\n",
       "['A', 'AB']                        1\n",
       "['C', 'G', 'A', 'B']               1\n",
       "Name: industry, Length: 73, dtype: int64"
      ]
     },
     "execution_count": 33,
     "metadata": {},
     "output_type": "execute_result"
    }
   ],
   "source": [
    "df_domain = df_node[df_node['id'].isin(domains)]"
   ]
  },
  {
   "cell_type": "code",
   "execution_count": 39,
   "id": "4e1423b2",
   "metadata": {},
   "outputs": [
    {
     "data": {
      "text/plain": [
       "[]                           1378733\n",
       "['A']                         115807\n",
       "['B']                         113233\n",
       "['A', 'B']                     14114\n",
       "['G']                           7253\n",
       "                              ...   \n",
       "['A', 'G', 'C', 'I', 'B']          1\n",
       "['F', 'B']                         1\n",
       "['C', 'A', 'D', 'B']               1\n",
       "['A', 'AB']                        1\n",
       "['C', 'G', 'A', 'B']               1\n",
       "Name: industry, Length: 73, dtype: int64"
      ]
     },
     "execution_count": 39,
     "metadata": {},
     "output_type": "execute_result"
    }
   ],
   "source": [
    "df_domain['industry'].value_counts()"
   ]
  },
  {
   "cell_type": "code",
   "execution_count": 40,
   "id": "a533f314",
   "metadata": {},
   "outputs": [
    {
     "data": {
      "image/png": "[encoded data removed]",
      "text/plain": [
       "<Figure size 360x360 with 1 Axes>"
      ]
     },
     "metadata": {},
     "output_type": "display_data"
    }
   ],
   "source": [
    "plot = df_domain['industry'].value_counts().plot.pie(figsize=(5, 5))"
   ]
  },
  {
   "cell_type": "markdown",
   "id": "2eaed289",
   "metadata": {},
   "source": [
    "IP本身"
   ]
  },
  {
   "cell_type": "code",
   "execution_count": 58,
   "id": "cce05d0d",
   "metadata": {},
   "outputs": [
    {
     "data": {
      "text/html": [
       "<div>\n",
       "<style scoped>\n",
       "    .dataframe tbody tr th:only-of-type {\n",
       "        vertical-align: middle;\n",
       "    }\n",
       "\n",
       "    .dataframe tbody tr th {\n",
       "        vertical-align: top;\n",
       "    }\n",
       "\n",
       "    .dataframe thead th {\n",
       "        text-align: right;\n",
       "    }\n",
       "</style>\n",
       "<table border=\"1\" class=\"dataframe\">\n",
       "  <thead>\n",
       "    <tr style=\"text-align: right;\">\n",
       "      <th></th>\n",
       "      <th>relation</th>\n",
       "      <th>source</th>\n",
       "      <th>target</th>\n",
       "      <th>industry</th>\n",
       "    </tr>\n",
       "  </thead>\n",
       "  <tbody>\n",
       "    <tr>\n",
       "      <th>1</th>\n",
       "      <td>r_dns_a</td>\n",
       "      <td>Domain_34a6231f101fdfa2b051beaa4b94d463fe5f9f4...</td>\n",
       "      <td>IP_37f7ed5739b43757ff23c712ae4d60d16615c59c081...</td>\n",
       "      <td>['C', 'E', 'A', 'B']</td>\n",
       "    </tr>\n",
       "    <tr>\n",
       "      <th>3</th>\n",
       "      <td>r_dns_a</td>\n",
       "      <td>Domain_5052db3f33d5337ab631025f7d5de3c5ac559ed...</td>\n",
       "      <td>IP_37f7ed5739b43757ff23c712ae4d60d16615c59c081...</td>\n",
       "      <td>['C', 'E', 'A', 'B']</td>\n",
       "    </tr>\n",
       "    <tr>\n",
       "      <th>4</th>\n",
       "      <td>r_dns_a</td>\n",
       "      <td>Domain_32b4d5d93789d5436fe729499c7b4d311742797...</td>\n",
       "      <td>IP_37f7ed5739b43757ff23c712ae4d60d16615c59c081...</td>\n",
       "      <td>['C', 'E', 'A', 'B']</td>\n",
       "    </tr>\n",
       "    <tr>\n",
       "      <th>5</th>\n",
       "      <td>r_dns_a</td>\n",
       "      <td>Domain_70d6d09e0e5ab16df4420cd6ff62b1704e2ea51...</td>\n",
       "      <td>IP_37f7ed5739b43757ff23c712ae4d60d16615c59c081...</td>\n",
       "      <td>['C', 'E', 'A', 'B']</td>\n",
       "    </tr>\n",
       "    <tr>\n",
       "      <th>6</th>\n",
       "      <td>r_dns_a</td>\n",
       "      <td>Domain_d3d0abc4c07c370e8c7413efd154a05a602e5e2...</td>\n",
       "      <td>IP_37f7ed5739b43757ff23c712ae4d60d16615c59c081...</td>\n",
       "      <td>[]</td>\n",
       "    </tr>\n",
       "    <tr>\n",
       "      <th>...</th>\n",
       "      <td>...</td>\n",
       "      <td>...</td>\n",
       "      <td>...</td>\n",
       "      <td>...</td>\n",
       "    </tr>\n",
       "    <tr>\n",
       "      <th>3286981</th>\n",
       "      <td>r_dns_a</td>\n",
       "      <td>Domain_b7e3aa4728cae809cb6fdf9d3116b80dd068cc4...</td>\n",
       "      <td>IP_ce9be92e2d61fdca335872352ae62bdb3582d4699cc...</td>\n",
       "      <td>['B']</td>\n",
       "    </tr>\n",
       "    <tr>\n",
       "      <th>3286982</th>\n",
       "      <td>r_dns_a</td>\n",
       "      <td>Domain_394cdafce87175cbb1f3851e037a29790a83836...</td>\n",
       "      <td>IP_ce9be92e2d61fdca335872352ae62bdb3582d4699cc...</td>\n",
       "      <td>[]</td>\n",
       "    </tr>\n",
       "    <tr>\n",
       "      <th>3286983</th>\n",
       "      <td>r_dns_a</td>\n",
       "      <td>Domain_4840dc2c80c94cdec1abcaed2a7537c3effb78d...</td>\n",
       "      <td>IP_ce9be92e2d61fdca335872352ae62bdb3582d4699cc...</td>\n",
       "      <td>['A']</td>\n",
       "    </tr>\n",
       "    <tr>\n",
       "      <th>3286984</th>\n",
       "      <td>r_dns_a</td>\n",
       "      <td>Domain_831c867dd78c1034424c75eb6ee8b805440511c...</td>\n",
       "      <td>IP_ce9be92e2d61fdca335872352ae62bdb3582d4699cc...</td>\n",
       "      <td>[]</td>\n",
       "    </tr>\n",
       "    <tr>\n",
       "      <th>3286985</th>\n",
       "      <td>r_dns_a</td>\n",
       "      <td>Domain_b08e07e42fe1a500461b85f626817f4b220b6f5...</td>\n",
       "      <td>IP_ce9be92e2d61fdca335872352ae62bdb3582d4699cc...</td>\n",
       "      <td>[]</td>\n",
       "    </tr>\n",
       "  </tbody>\n",
       "</table>\n",
       "<p>2054077 rows × 4 columns</p>\n",
       "</div>"
      ],
      "text/plain": [
       "        relation                                             source  \\\n",
       "1        r_dns_a  Domain_34a6231f101fdfa2b051beaa4b94d463fe5f9f4...   \n",
       "3        r_dns_a  Domain_5052db3f33d5337ab631025f7d5de3c5ac559ed...   \n",
       "4        r_dns_a  Domain_32b4d5d93789d5436fe729499c7b4d311742797...   \n",
       "5        r_dns_a  Domain_70d6d09e0e5ab16df4420cd6ff62b1704e2ea51...   \n",
       "6        r_dns_a  Domain_d3d0abc4c07c370e8c7413efd154a05a602e5e2...   \n",
       "...          ...                                                ...   \n",
       "3286981  r_dns_a  Domain_b7e3aa4728cae809cb6fdf9d3116b80dd068cc4...   \n",
       "3286982  r_dns_a  Domain_394cdafce87175cbb1f3851e037a29790a83836...   \n",
       "3286983  r_dns_a  Domain_4840dc2c80c94cdec1abcaed2a7537c3effb78d...   \n",
       "3286984  r_dns_a  Domain_831c867dd78c1034424c75eb6ee8b805440511c...   \n",
       "3286985  r_dns_a  Domain_b08e07e42fe1a500461b85f626817f4b220b6f5...   \n",
       "\n",
       "                                                    target  \\\n",
       "1        IP_37f7ed5739b43757ff23c712ae4d60d16615c59c081...   \n",
       "3        IP_37f7ed5739b43757ff23c712ae4d60d16615c59c081...   \n",
       "4        IP_37f7ed5739b43757ff23c712ae4d60d16615c59c081...   \n",
       "5        IP_37f7ed5739b43757ff23c712ae4d60d16615c59c081...   \n",
       "6        IP_37f7ed5739b43757ff23c712ae4d60d16615c59c081...   \n",
       "...                                                    ...   \n",
       "3286981  IP_ce9be92e2d61fdca335872352ae62bdb3582d4699cc...   \n",
       "3286982  IP_ce9be92e2d61fdca335872352ae62bdb3582d4699cc...   \n",
       "3286983  IP_ce9be92e2d61fdca335872352ae62bdb3582d4699cc...   \n",
       "3286984  IP_ce9be92e2d61fdca335872352ae62bdb3582d4699cc...   \n",
       "3286985  IP_ce9be92e2d61fdca335872352ae62bdb3582d4699cc...   \n",
       "\n",
       "                     industry  \n",
       "1        ['C', 'E', 'A', 'B']  \n",
       "3        ['C', 'E', 'A', 'B']  \n",
       "4        ['C', 'E', 'A', 'B']  \n",
       "5        ['C', 'E', 'A', 'B']  \n",
       "6                          []  \n",
       "...                       ...  \n",
       "3286981                 ['B']  \n",
       "3286982                    []  \n",
       "3286983                 ['A']  \n",
       "3286984                    []  \n",
       "3286985                    []  \n",
       "\n",
       "[2054077 rows x 4 columns]"
      ]
     },
     "execution_count": 58,
     "metadata": {},
     "output_type": "execute_result"
    }
   ],
   "source": [
    "df_node_domain = df_node.copy()\n",
    "df_node_domain.index = df_node_domain['id']\n",
    "df_node_domain.drop('id',axis = 1,inplace = True)\n",
    "df_node_domain = df_node_domain.loc[domains]\n",
    "df_ip_link['industry'] = list(df_node_domain.industry)\n",
    "df_ip_link"
   ]
  },
  {
   "cell_type": "code",
   "execution_count": 60,
   "id": "9998508b",
   "metadata": {},
   "outputs": [
    {
     "data": {
      "text/html": [
       "<div>\n",
       "<style scoped>\n",
       "    .dataframe tbody tr th:only-of-type {\n",
       "        vertical-align: middle;\n",
       "    }\n",
       "\n",
       "    .dataframe tbody tr th {\n",
       "        vertical-align: top;\n",
       "    }\n",
       "\n",
       "    .dataframe thead th {\n",
       "        text-align: right;\n",
       "    }\n",
       "</style>\n",
       "<table border=\"1\" class=\"dataframe\">\n",
       "  <thead>\n",
       "    <tr style=\"text-align: right;\">\n",
       "      <th></th>\n",
       "      <th>relation</th>\n",
       "      <th>source</th>\n",
       "      <th>target</th>\n",
       "      <th>industry</th>\n",
       "    </tr>\n",
       "  </thead>\n",
       "  <tbody>\n",
       "    <tr>\n",
       "      <th>1460897</th>\n",
       "      <td>r_dns_a</td>\n",
       "      <td>Domain_594cffa9ab601c294a6b9e7db16c6ec4f39b869...</td>\n",
       "      <td>IP_0000a97ea944a973fbcea5990411568a73dc46f3f78...</td>\n",
       "      <td>['B']</td>\n",
       "    </tr>\n",
       "    <tr>\n",
       "      <th>284116</th>\n",
       "      <td>r_dns_a</td>\n",
       "      <td>Domain_0326caded0683fd53d70243fc0bb198c84c8efc...</td>\n",
       "      <td>IP_0000feb07dc6821453b4c5c344457af8230a6a1ade4...</td>\n",
       "      <td>[]</td>\n",
       "    </tr>\n",
       "    <tr>\n",
       "      <th>284205</th>\n",
       "      <td>r_dns_a</td>\n",
       "      <td>Domain_1fb26092de2ad5e7a78c83bda0edbdd7fc97e74...</td>\n",
       "      <td>IP_0000feb07dc6821453b4c5c344457af8230a6a1ade4...</td>\n",
       "      <td>[]</td>\n",
       "    </tr>\n",
       "    <tr>\n",
       "      <th>284223</th>\n",
       "      <td>r_dns_a</td>\n",
       "      <td>Domain_706119f1f05385d2094a744ac6a6dc6a42c842c...</td>\n",
       "      <td>IP_0000feb07dc6821453b4c5c344457af8230a6a1ade4...</td>\n",
       "      <td>['G']</td>\n",
       "    </tr>\n",
       "    <tr>\n",
       "      <th>284185</th>\n",
       "      <td>r_dns_a</td>\n",
       "      <td>Domain_7f3325f7d5acbca772cdb3ff2cae28ade3a8145...</td>\n",
       "      <td>IP_0000feb07dc6821453b4c5c344457af8230a6a1ade4...</td>\n",
       "      <td>['G']</td>\n",
       "    </tr>\n",
       "    <tr>\n",
       "      <th>...</th>\n",
       "      <td>...</td>\n",
       "      <td>...</td>\n",
       "      <td>...</td>\n",
       "      <td>...</td>\n",
       "    </tr>\n",
       "    <tr>\n",
       "      <th>1568729</th>\n",
       "      <td>r_dns_a</td>\n",
       "      <td>Domain_bce61f0668d3a03dbd873a8fd4b213fc0428ff5...</td>\n",
       "      <td>IP_fffe1f6d7d72071ab01632445f85782277cf7fdc214...</td>\n",
       "      <td>['B']</td>\n",
       "    </tr>\n",
       "    <tr>\n",
       "      <th>75175</th>\n",
       "      <td>r_dns_a</td>\n",
       "      <td>Domain_b008fb2ca10b61a1ae2b6c8fbed7fef306b7514...</td>\n",
       "      <td>IP_fffedd65fa11c3cbd4f2db0a12b5dcb531ec03731ad...</td>\n",
       "      <td>[]</td>\n",
       "    </tr>\n",
       "    <tr>\n",
       "      <th>75225</th>\n",
       "      <td>r_dns_a</td>\n",
       "      <td>Domain_9d4c4c795815beb9f8fd3abe5fe0dc3097319bc...</td>\n",
       "      <td>IP_fffedd65fa11c3cbd4f2db0a12b5dcb531ec03731ad...</td>\n",
       "      <td>[]</td>\n",
       "    </tr>\n",
       "    <tr>\n",
       "      <th>75152</th>\n",
       "      <td>r_dns_a</td>\n",
       "      <td>Domain_c665f4da34db0a696a8585db68f415dae85e139...</td>\n",
       "      <td>IP_fffedd65fa11c3cbd4f2db0a12b5dcb531ec03731ad...</td>\n",
       "      <td>['B']</td>\n",
       "    </tr>\n",
       "    <tr>\n",
       "      <th>75199</th>\n",
       "      <td>r_dns_a</td>\n",
       "      <td>Domain_139bdf52b2bf7fd9094edcd667e94b831fe1e85...</td>\n",
       "      <td>IP_fffedd65fa11c3cbd4f2db0a12b5dcb531ec03731ad...</td>\n",
       "      <td>['B']</td>\n",
       "    </tr>\n",
       "  </tbody>\n",
       "</table>\n",
       "<p>2054077 rows × 4 columns</p>\n",
       "</div>"
      ],
      "text/plain": [
       "        relation                                             source  \\\n",
       "1460897  r_dns_a  Domain_594cffa9ab601c294a6b9e7db16c6ec4f39b869...   \n",
       "284116   r_dns_a  Domain_0326caded0683fd53d70243fc0bb198c84c8efc...   \n",
       "284205   r_dns_a  Domain_1fb26092de2ad5e7a78c83bda0edbdd7fc97e74...   \n",
       "284223   r_dns_a  Domain_706119f1f05385d2094a744ac6a6dc6a42c842c...   \n",
       "284185   r_dns_a  Domain_7f3325f7d5acbca772cdb3ff2cae28ade3a8145...   \n",
       "...          ...                                                ...   \n",
       "1568729  r_dns_a  Domain_bce61f0668d3a03dbd873a8fd4b213fc0428ff5...   \n",
       "75175    r_dns_a  Domain_b008fb2ca10b61a1ae2b6c8fbed7fef306b7514...   \n",
       "75225    r_dns_a  Domain_9d4c4c795815beb9f8fd3abe5fe0dc3097319bc...   \n",
       "75152    r_dns_a  Domain_c665f4da34db0a696a8585db68f415dae85e139...   \n",
       "75199    r_dns_a  Domain_139bdf52b2bf7fd9094edcd667e94b831fe1e85...   \n",
       "\n",
       "                                                    target industry  \n",
       "1460897  IP_0000a97ea944a973fbcea5990411568a73dc46f3f78...    ['B']  \n",
       "284116   IP_0000feb07dc6821453b4c5c344457af8230a6a1ade4...       []  \n",
       "284205   IP_0000feb07dc6821453b4c5c344457af8230a6a1ade4...       []  \n",
       "284223   IP_0000feb07dc6821453b4c5c344457af8230a6a1ade4...    ['G']  \n",
       "284185   IP_0000feb07dc6821453b4c5c344457af8230a6a1ade4...    ['G']  \n",
       "...                                                    ...      ...  \n",
       "1568729  IP_fffe1f6d7d72071ab01632445f85782277cf7fdc214...    ['B']  \n",
       "75175    IP_fffedd65fa11c3cbd4f2db0a12b5dcb531ec03731ad...       []  \n",
       "75225    IP_fffedd65fa11c3cbd4f2db0a12b5dcb531ec03731ad...       []  \n",
       "75152    IP_fffedd65fa11c3cbd4f2db0a12b5dcb531ec03731ad...    ['B']  \n",
       "75199    IP_fffedd65fa11c3cbd4f2db0a12b5dcb531ec03731ad...    ['B']  \n",
       "\n",
       "[2054077 rows x 4 columns]"
      ]
     },
     "execution_count": 60,
     "metadata": {},
     "output_type": "execute_result"
    }
   ],
   "source": [
    "df_ip_link.sort_values('target')"
   ]
  },
  {
   "cell_type": "code",
   "execution_count": 93,
   "id": "8e6eb57b",
   "metadata": {},
   "outputs": [],
   "source": [
    "df_ip_industry_set = df_ip_link.groupby('target')['industry'].apply(lambda x:set(x)).reset_index()\n",
    "df_ip_industry_list = df_ip_link.groupby('target')['industry'].apply(lambda x:list(x)).reset_index()"
   ]
  },
  {
   "cell_type": "code",
   "execution_count": 94,
   "id": "42bc95ec",
   "metadata": {},
   "outputs": [
    {
     "data": {
      "image/png": "[encoded data removed]",
      "text/plain": [
       "<Figure size 360x360 with 1 Axes>"
      ]
     },
     "metadata": {},
     "output_type": "display_data"
    }
   ],
   "source": [
    "plot = df_ip_industry_set['industry'].value_counts().plot.pie(figsize=(5, 5))"
   ]
  },
  {
   "cell_type": "code",
   "execution_count": 102,
   "id": "47aa8b65",
   "metadata": {},
   "outputs": [
    {
     "data": {
      "text/html": [
       "<div>\n",
       "<style scoped>\n",
       "    .dataframe tbody tr th:only-of-type {\n",
       "        vertical-align: middle;\n",
       "    }\n",
       "\n",
       "    .dataframe tbody tr th {\n",
       "        vertical-align: top;\n",
       "    }\n",
       "\n",
       "    .dataframe thead th {\n",
       "        text-align: right;\n",
       "    }\n",
       "</style>\n",
       "<table border=\"1\" class=\"dataframe\">\n",
       "  <thead>\n",
       "    <tr style=\"text-align: right;\">\n",
       "      <th></th>\n",
       "      <th>target</th>\n",
       "      <th>industry</th>\n",
       "      <th>freq</th>\n",
       "    </tr>\n",
       "  </thead>\n",
       "  <tbody>\n",
       "    <tr>\n",
       "      <th>0</th>\n",
       "      <td>IP_0000a97ea944a973fbcea5990411568a73dc46f3f78...</td>\n",
       "      <td>[['B']]</td>\n",
       "      <td>1.000000</td>\n",
       "    </tr>\n",
       "    <tr>\n",
       "      <th>1</th>\n",
       "      <td>IP_0000feb07dc6821453b4c5c344457af8230a6a1ade4...</td>\n",
       "      <td>[['B'], [], [], ['G'], [], ['G'], [], ['G'], [...</td>\n",
       "      <td>0.476190</td>\n",
       "    </tr>\n",
       "    <tr>\n",
       "      <th>2</th>\n",
       "      <td>IP_00030942de9e5e589fe3c13f8577c1edecf8e153612...</td>\n",
       "      <td>[[], [], ['B'], ['B']]</td>\n",
       "      <td>0.500000</td>\n",
       "    </tr>\n",
       "    <tr>\n",
       "      <th>3</th>\n",
       "      <td>IP_00035117b1d5e3f92d578e7fb46efa014d15d4e24a9...</td>\n",
       "      <td>[[]]</td>\n",
       "      <td>0.000000</td>\n",
       "    </tr>\n",
       "    <tr>\n",
       "      <th>4</th>\n",
       "      <td>IP_0003c870a791dc478bf3689b0f159796798a0609395...</td>\n",
       "      <td>[[], [], ['B'], [], [], [], [], [], ['B'], [],...</td>\n",
       "      <td>0.125000</td>\n",
       "    </tr>\n",
       "    <tr>\n",
       "      <th>...</th>\n",
       "      <td>...</td>\n",
       "      <td>...</td>\n",
       "      <td>...</td>\n",
       "    </tr>\n",
       "    <tr>\n",
       "      <th>76368</th>\n",
       "      <td>IP_fffa3568a4823dd357f19c73df18583e3c893202be7...</td>\n",
       "      <td>[[], [], ['B'], [], [], ['B'], ['B'], [], [], ...</td>\n",
       "      <td>0.309524</td>\n",
       "    </tr>\n",
       "    <tr>\n",
       "      <th>76369</th>\n",
       "      <td>IP_fffacd274329b7847b03885f7dc75009e9c31e8a611...</td>\n",
       "      <td>[[], [], [], [], [], [], [], [], [], [], [], [...</td>\n",
       "      <td>0.000000</td>\n",
       "    </tr>\n",
       "    <tr>\n",
       "      <th>76370</th>\n",
       "      <td>IP_fffd33daeb8a7fd2c31ff7a04a00cf4aba897da894f...</td>\n",
       "      <td>[[], [], [], [], ['G'], []]</td>\n",
       "      <td>0.166667</td>\n",
       "    </tr>\n",
       "    <tr>\n",
       "      <th>76371</th>\n",
       "      <td>IP_fffe1f6d7d72071ab01632445f85782277cf7fdc214...</td>\n",
       "      <td>[['B'], ['B']]</td>\n",
       "      <td>1.000000</td>\n",
       "    </tr>\n",
       "    <tr>\n",
       "      <th>76372</th>\n",
       "      <td>IP_fffedd65fa11c3cbd4f2db0a12b5dcb531ec03731ad...</td>\n",
       "      <td>[['B'], [], ['B'], []]</td>\n",
       "      <td>0.500000</td>\n",
       "    </tr>\n",
       "  </tbody>\n",
       "</table>\n",
       "<p>76373 rows × 3 columns</p>\n",
       "</div>"
      ],
      "text/plain": [
       "                                                  target  \\\n",
       "0      IP_0000a97ea944a973fbcea5990411568a73dc46f3f78...   \n",
       "1      IP_0000feb07dc6821453b4c5c344457af8230a6a1ade4...   \n",
       "2      IP_00030942de9e5e589fe3c13f8577c1edecf8e153612...   \n",
       "3      IP_00035117b1d5e3f92d578e7fb46efa014d15d4e24a9...   \n",
       "4      IP_0003c870a791dc478bf3689b0f159796798a0609395...   \n",
       "...                                                  ...   \n",
       "76368  IP_fffa3568a4823dd357f19c73df18583e3c893202be7...   \n",
       "76369  IP_fffacd274329b7847b03885f7dc75009e9c31e8a611...   \n",
       "76370  IP_fffd33daeb8a7fd2c31ff7a04a00cf4aba897da894f...   \n",
       "76371  IP_fffe1f6d7d72071ab01632445f85782277cf7fdc214...   \n",
       "76372  IP_fffedd65fa11c3cbd4f2db0a12b5dcb531ec03731ad...   \n",
       "\n",
       "                                                industry      freq  \n",
       "0                                                [['B']]  1.000000  \n",
       "1      [['B'], [], [], ['G'], [], ['G'], [], ['G'], [...  0.476190  \n",
       "2                                 [[], [], ['B'], ['B']]  0.500000  \n",
       "3                                                   [[]]  0.000000  \n",
       "4      [[], [], ['B'], [], [], [], [], [], ['B'], [],...  0.125000  \n",
       "...                                                  ...       ...  \n",
       "76368  [[], [], ['B'], [], [], ['B'], ['B'], [], [], ...  0.309524  \n",
       "76369  [[], [], [], [], [], [], [], [], [], [], [], [...  0.000000  \n",
       "76370                        [[], [], [], [], ['G'], []]  0.166667  \n",
       "76371                                     [['B'], ['B']]  1.000000  \n",
       "76372                             [['B'], [], ['B'], []]  0.500000  \n",
       "\n",
       "[76373 rows x 3 columns]"
      ]
     },
     "execution_count": 102,
     "metadata": {},
     "output_type": "execute_result"
    }
   ],
   "source": [
    "from collections import Counter\n",
    "df_ip_industry_list['freq'] = list(df_ip_industry_list['industry'].apply(lambda x: 1-Counter(x)['[]']/len(x)))\n",
    "df_ip_industry_list"
   ]
  },
  {
   "cell_type": "code",
   "execution_count": 104,
   "id": "5999ab7d",
   "metadata": {},
   "outputs": [
    {
     "data": {
      "image/png": "[encoded data removed]",
      "text/plain": [
       "<Figure size 720x576 with 1 Axes>"
      ]
     },
     "metadata": {
      "needs_background": "light"
     },
     "output_type": "display_data"
    }
   ],
   "source": [
    "industry_hist = df_ip_industry_list.plot.hist(column=['freq'], figsize=(10, 8))"
   ]
  },
  {
   "cell_type": "code",
   "execution_count": null,
   "id": "c4968c8a",
   "metadata": {},
   "outputs": [],
   "source": []
  }
 ],
 "metadata": {
  "kernelspec": {
   "display_name": "Python 3",
   "language": "python",
   "name": "python3"
  },
  "language_info": {
   "codemirror_mode": {
    "name": "ipython",
    "version": 3
   },
   "file_extension": ".py",
   "mimetype": "text/x-python",
   "name": "python",
   "nbconvert_exporter": "python",
   "pygments_lexer": "ipython3",
   "version": "3.8.8"
  }
 },
 "nbformat": 4,
 "nbformat_minor": 5
}
