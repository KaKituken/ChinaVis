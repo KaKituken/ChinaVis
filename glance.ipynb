{
 "cells": [
  {
   "cell_type": "code",
   "execution_count": 1,
   "metadata": {
    "collapsed": true,
    "pycharm": {
     "name": "#%%\n"
    }
   },
   "outputs": [],
   "source": [
    "import pandas as pd\n",
    "import copy\n",
    "import os"
   ]
  },
  {
   "cell_type": "code",
   "execution_count": 2,
   "outputs": [
    {
     "data": {
      "text/plain": "      relation                                             source  \\\n0  r_subdomain  Domain_34a6231f101fdfa2b051beaa4b94d463fe5f9f4...   \n1      r_dns_a  Domain_34a6231f101fdfa2b051beaa4b94d463fe5f9f4...   \n2       r_cert  Domain_34a6231f101fdfa2b051beaa4b94d463fe5f9f4...   \n3      r_dns_a  Domain_5052db3f33d5337ab631025f7d5de3c5ac559ed...   \n4      r_dns_a  Domain_32b4d5d93789d5436fe729499c7b4d311742797...   \n\n                                              target  \n0  Domain_5052db3f33d5337ab631025f7d5de3c5ac559ed...  \n1  IP_37f7ed5739b43757ff23c712ae4d60d16615c59c081...  \n2  Cert_9ace6aae20e3ac6d9ebfae8938b91112460b27ad2...  \n3  IP_37f7ed5739b43757ff23c712ae4d60d16615c59c081...  \n4  IP_37f7ed5739b43757ff23c712ae4d60d16615c59c081...  ",
      "text/html": "<div>\n<style scoped>\n    .dataframe tbody tr th:only-of-type {\n        vertical-align: middle;\n    }\n\n    .dataframe tbody tr th {\n        vertical-align: top;\n    }\n\n    .dataframe thead th {\n        text-align: right;\n    }\n</style>\n<table border=\"1\" class=\"dataframe\">\n  <thead>\n    <tr style=\"text-align: right;\">\n      <th></th>\n      <th>relation</th>\n      <th>source</th>\n      <th>target</th>\n    </tr>\n  </thead>\n  <tbody>\n    <tr>\n      <th>0</th>\n      <td>r_subdomain</td>\n      <td>Domain_34a6231f101fdfa2b051beaa4b94d463fe5f9f4...</td>\n      <td>Domain_5052db3f33d5337ab631025f7d5de3c5ac559ed...</td>\n    </tr>\n    <tr>\n      <th>1</th>\n      <td>r_dns_a</td>\n      <td>Domain_34a6231f101fdfa2b051beaa4b94d463fe5f9f4...</td>\n      <td>IP_37f7ed5739b43757ff23c712ae4d60d16615c59c081...</td>\n    </tr>\n    <tr>\n      <th>2</th>\n      <td>r_cert</td>\n      <td>Domain_34a6231f101fdfa2b051beaa4b94d463fe5f9f4...</td>\n      <td>Cert_9ace6aae20e3ac6d9ebfae8938b91112460b27ad2...</td>\n    </tr>\n    <tr>\n      <th>3</th>\n      <td>r_dns_a</td>\n      <td>Domain_5052db3f33d5337ab631025f7d5de3c5ac559ed...</td>\n      <td>IP_37f7ed5739b43757ff23c712ae4d60d16615c59c081...</td>\n    </tr>\n    <tr>\n      <th>4</th>\n      <td>r_dns_a</td>\n      <td>Domain_32b4d5d93789d5436fe729499c7b4d311742797...</td>\n      <td>IP_37f7ed5739b43757ff23c712ae4d60d16615c59c081...</td>\n    </tr>\n  </tbody>\n</table>\n</div>"
     },
     "execution_count": 2,
     "metadata": {},
     "output_type": "execute_result"
    }
   ],
   "source": [
    "df_link = pd.read_csv(\"ChinaVis_data/Link.csv\")\n",
    "df_link = df_link.drop_duplicates()\n",
    "df_link.head()"
   ],
   "metadata": {
    "collapsed": false,
    "pycharm": {
     "name": "#%%\n"
    }
   }
  },
  {
   "cell_type": "code",
   "execution_count": 3,
   "outputs": [
    {
     "name": "stdout",
     "output_type": "stream",
     "text": [
      "#node: 2371558\n"
     ]
    },
    {
     "data": {
      "text/plain": "                                                  id            name    type  \\\n0  Domain_34a6231f101fdfa2b051beaa4b94d463fe5f9f4...  34a6231f10.com  Domain   \n1  Domain_5052db3f33d5337ab631025f7d5de3c5ac559ed...  5052db3f33.com  Domain   \n2  IP_37f7ed5739b43757ff23c712ae4d60d16615c59c081...   5.180.xxx.xxx      IP   \n3  Cert_9ace6aae20e3ac6d9ebfae8938b91112460b27ad2...      9ace6aae20    Cert   \n4  Domain_32b4d5d93789d5436fe729499c7b4d311742797...  32b4d5d937.com  Domain   \n\n               industry  \n0  ['C', 'E', 'A', 'B']  \n1  ['C', 'E', 'A', 'B']  \n2                    []  \n3                    []  \n4  ['C', 'E', 'A', 'B']  ",
      "text/html": "<div>\n<style scoped>\n    .dataframe tbody tr th:only-of-type {\n        vertical-align: middle;\n    }\n\n    .dataframe tbody tr th {\n        vertical-align: top;\n    }\n\n    .dataframe thead th {\n        text-align: right;\n    }\n</style>\n<table border=\"1\" class=\"dataframe\">\n  <thead>\n    <tr style=\"text-align: right;\">\n      <th></th>\n      <th>id</th>\n      <th>name</th>\n      <th>type</th>\n      <th>industry</th>\n    </tr>\n  </thead>\n  <tbody>\n    <tr>\n      <th>0</th>\n      <td>Domain_34a6231f101fdfa2b051beaa4b94d463fe5f9f4...</td>\n      <td>34a6231f10.com</td>\n      <td>Domain</td>\n      <td>['C', 'E', 'A', 'B']</td>\n    </tr>\n    <tr>\n      <th>1</th>\n      <td>Domain_5052db3f33d5337ab631025f7d5de3c5ac559ed...</td>\n      <td>5052db3f33.com</td>\n      <td>Domain</td>\n      <td>['C', 'E', 'A', 'B']</td>\n    </tr>\n    <tr>\n      <th>2</th>\n      <td>IP_37f7ed5739b43757ff23c712ae4d60d16615c59c081...</td>\n      <td>5.180.xxx.xxx</td>\n      <td>IP</td>\n      <td>[]</td>\n    </tr>\n    <tr>\n      <th>3</th>\n      <td>Cert_9ace6aae20e3ac6d9ebfae8938b91112460b27ad2...</td>\n      <td>9ace6aae20</td>\n      <td>Cert</td>\n      <td>[]</td>\n    </tr>\n    <tr>\n      <th>4</th>\n      <td>Domain_32b4d5d93789d5436fe729499c7b4d311742797...</td>\n      <td>32b4d5d937.com</td>\n      <td>Domain</td>\n      <td>['C', 'E', 'A', 'B']</td>\n    </tr>\n  </tbody>\n</table>\n</div>"
     },
     "execution_count": 3,
     "metadata": {},
     "output_type": "execute_result"
    }
   ],
   "source": [
    "df_node = pd.read_csv(\"ChinaVis_data/Node.csv\")\n",
    "print(\"#node: %d\" % len(df_node))\n",
    "df_node.head()"
   ],
   "metadata": {
    "collapsed": false,
    "pycharm": {
     "name": "#%%\n"
    }
   }
  },
  {
   "cell_type": "code",
   "execution_count": 20,
   "outputs": [
    {
     "name": "stdout",
     "output_type": "stream",
     "text": [
      "#node: 2339835\n"
     ]
    },
    {
     "data": {
      "text/plain": "                                                  id            name    type  \\\n0  Domain_34a6231f101fdfa2b051beaa4b94d463fe5f9f4...  34a6231f10.com  Domain   \n1  Domain_5052db3f33d5337ab631025f7d5de3c5ac559ed...  5052db3f33.com  Domain   \n2  IP_37f7ed5739b43757ff23c712ae4d60d16615c59c081...   5.180.xxx.xxx      IP   \n3  Cert_9ace6aae20e3ac6d9ebfae8938b91112460b27ad2...      9ace6aae20    Cert   \n4  Domain_32b4d5d93789d5436fe729499c7b4d311742797...  32b4d5d937.com  Domain   \n\n               industry  \n0  ['C', 'E', 'A', 'B']  \n1  ['C', 'E', 'A', 'B']  \n2                    []  \n3                    []  \n4  ['C', 'E', 'A', 'B']  ",
      "text/html": "<div>\n<style scoped>\n    .dataframe tbody tr th:only-of-type {\n        vertical-align: middle;\n    }\n\n    .dataframe tbody tr th {\n        vertical-align: top;\n    }\n\n    .dataframe thead th {\n        text-align: right;\n    }\n</style>\n<table border=\"1\" class=\"dataframe\">\n  <thead>\n    <tr style=\"text-align: right;\">\n      <th></th>\n      <th>id</th>\n      <th>name</th>\n      <th>type</th>\n      <th>industry</th>\n    </tr>\n  </thead>\n  <tbody>\n    <tr>\n      <th>0</th>\n      <td>Domain_34a6231f101fdfa2b051beaa4b94d463fe5f9f4...</td>\n      <td>34a6231f10.com</td>\n      <td>Domain</td>\n      <td>['C', 'E', 'A', 'B']</td>\n    </tr>\n    <tr>\n      <th>1</th>\n      <td>Domain_5052db3f33d5337ab631025f7d5de3c5ac559ed...</td>\n      <td>5052db3f33.com</td>\n      <td>Domain</td>\n      <td>['C', 'E', 'A', 'B']</td>\n    </tr>\n    <tr>\n      <th>2</th>\n      <td>IP_37f7ed5739b43757ff23c712ae4d60d16615c59c081...</td>\n      <td>5.180.xxx.xxx</td>\n      <td>IP</td>\n      <td>[]</td>\n    </tr>\n    <tr>\n      <th>3</th>\n      <td>Cert_9ace6aae20e3ac6d9ebfae8938b91112460b27ad2...</td>\n      <td>9ace6aae20</td>\n      <td>Cert</td>\n      <td>[]</td>\n    </tr>\n    <tr>\n      <th>4</th>\n      <td>Domain_32b4d5d93789d5436fe729499c7b4d311742797...</td>\n      <td>32b4d5d937.com</td>\n      <td>Domain</td>\n      <td>['C', 'E', 'A', 'B']</td>\n    </tr>\n  </tbody>\n</table>\n</div>"
     },
     "execution_count": 20,
     "metadata": {},
     "output_type": "execute_result"
    }
   ],
   "source": [
    "type_cores = ['Domain', 'IP', 'Cert']\n",
    "df_cores = df_node[df_node['type'].isin(type_cores)]\n",
    "print(\"#node: %d\" % len(df_cores))\n",
    "df_cores.head()"
   ],
   "metadata": {
    "collapsed": false,
    "pycharm": {
     "name": "#%%\n"
    }
   }
  },
  {
   "cell_type": "markdown",
   "source": [
    "### 2022.05.19 Plan: search neighbors with depth 3, record all ip and cert nodes."
   ],
   "metadata": {
    "collapsed": false,
    "pycharm": {
     "name": "#%% md\n"
    }
   }
  },
  {
   "cell_type": "code",
   "execution_count": 21,
   "outputs": [
    {
     "data": {
      "text/plain": "array(['r_subdomain', 'r_dns_a', 'r_cert', 'r_asn', 'r_cert_chain',\n       'r_whois_name', 'r_whois_email', 'r_whois_phone', 'r_cidr',\n       'r_cname', 'r_request_jump'], dtype=object)"
     },
     "execution_count": 21,
     "metadata": {},
     "output_type": "execute_result"
    }
   ],
   "source": [
    "df_link['relation'].unique()"
   ],
   "metadata": {
    "collapsed": false,
    "pycharm": {
     "name": "#%%\n"
    }
   }
  },
  {
   "cell_type": "code",
   "execution_count": 6,
   "outputs": [
    {
     "data": {
      "text/plain": "      relation                                             source  \\\n0  r_subdomain  Domain_34a6231f101fdfa2b051beaa4b94d463fe5f9f4...   \n1      r_dns_a  Domain_34a6231f101fdfa2b051beaa4b94d463fe5f9f4...   \n2       r_cert  Domain_34a6231f101fdfa2b051beaa4b94d463fe5f9f4...   \n3      r_dns_a  Domain_5052db3f33d5337ab631025f7d5de3c5ac559ed...   \n4      r_dns_a  Domain_32b4d5d93789d5436fe729499c7b4d311742797...   \n\n                                              target  link_strength  \n0  Domain_5052db3f33d5337ab631025f7d5de3c5ac559ed...              3  \n1  IP_37f7ed5739b43757ff23c712ae4d60d16615c59c081...              3  \n2  Cert_9ace6aae20e3ac6d9ebfae8938b91112460b27ad2...              3  \n3  IP_37f7ed5739b43757ff23c712ae4d60d16615c59c081...              3  \n4  IP_37f7ed5739b43757ff23c712ae4d60d16615c59c081...              3  ",
      "text/html": "<div>\n<style scoped>\n    .dataframe tbody tr th:only-of-type {\n        vertical-align: middle;\n    }\n\n    .dataframe tbody tr th {\n        vertical-align: top;\n    }\n\n    .dataframe thead th {\n        text-align: right;\n    }\n</style>\n<table border=\"1\" class=\"dataframe\">\n  <thead>\n    <tr style=\"text-align: right;\">\n      <th></th>\n      <th>relation</th>\n      <th>source</th>\n      <th>target</th>\n      <th>link_strength</th>\n    </tr>\n  </thead>\n  <tbody>\n    <tr>\n      <th>0</th>\n      <td>r_subdomain</td>\n      <td>Domain_34a6231f101fdfa2b051beaa4b94d463fe5f9f4...</td>\n      <td>Domain_5052db3f33d5337ab631025f7d5de3c5ac559ed...</td>\n      <td>3</td>\n    </tr>\n    <tr>\n      <th>1</th>\n      <td>r_dns_a</td>\n      <td>Domain_34a6231f101fdfa2b051beaa4b94d463fe5f9f4...</td>\n      <td>IP_37f7ed5739b43757ff23c712ae4d60d16615c59c081...</td>\n      <td>3</td>\n    </tr>\n    <tr>\n      <th>2</th>\n      <td>r_cert</td>\n      <td>Domain_34a6231f101fdfa2b051beaa4b94d463fe5f9f4...</td>\n      <td>Cert_9ace6aae20e3ac6d9ebfae8938b91112460b27ad2...</td>\n      <td>3</td>\n    </tr>\n    <tr>\n      <th>3</th>\n      <td>r_dns_a</td>\n      <td>Domain_5052db3f33d5337ab631025f7d5de3c5ac559ed...</td>\n      <td>IP_37f7ed5739b43757ff23c712ae4d60d16615c59c081...</td>\n      <td>3</td>\n    </tr>\n    <tr>\n      <th>4</th>\n      <td>r_dns_a</td>\n      <td>Domain_32b4d5d93789d5436fe729499c7b4d311742797...</td>\n      <td>IP_37f7ed5739b43757ff23c712ae4d60d16615c59c081...</td>\n      <td>3</td>\n    </tr>\n  </tbody>\n</table>\n</div>"
     },
     "execution_count": 6,
     "metadata": {},
     "output_type": "execute_result"
    }
   ],
   "source": [
    "very_strong_links = [\"r_cert\", \"r_subdomain\", \"r_request_jump\", \"r_dns_a\"]\n",
    "strong_links = [\"r_whois_name\", \"r_whois_email\", \"r_whois_phone\"]\n",
    "common_links = [\"r_cert_chain\", \"r_cname\"]\n",
    "weak_links = [\"r_asn\", \"r_cidr\"]\n",
    "# ignore_links = [\"r_cert\", \"r_asn\", \"r_cidr\"]\n",
    "\n",
    "df_link[\"link_strength\"] = 0\n",
    "df_link.loc[df_link['relation'].isin(very_strong_links), 'link_strength'] = 3\n",
    "df_link.loc[df_link['relation'].isin(strong_links), 'link_strength'] = 3\n",
    "df_link.loc[df_link['relation'].isin(common_links), 'link_strength'] = 2\n",
    "df_link.loc[df_link['relation'].isin(weak_links), 'link_strength'] = 1\n",
    "# df_link.loc[df_link['relation'].isin(ignore_links), 'link_strength'] = 0\n",
    "df_link.head()"
   ],
   "metadata": {
    "collapsed": false,
    "pycharm": {
     "name": "#%%\n"
    }
   }
  },
  {
   "cell_type": "markdown",
   "source": [
    "### Explorer"
   ],
   "metadata": {
    "collapsed": false,
    "pycharm": {
     "name": "#%% md\n"
    }
   }
  },
  {
   "cell_type": "code",
   "execution_count": 23,
   "outputs": [
    {
     "data": {
      "text/plain": "['Domain_34a6231f101fdfa2b051beaa4b94d463fe5f9f42b7789bbe60f6fd4c292ee7ac',\n 'Domain_5052db3f33d5337ab631025f7d5de3c5ac559edb2c40deda5530c0051f39b1e2',\n 'Domain_32b4d5d93789d5436fe729499c7b4d311742797f406a045c55cd3f7f58c6464a',\n 'Domain_70d6d09e0e5ab16df4420cd6ff62b1704e2ea516e0aaab1fd269e43a934fee74',\n 'Domain_e970e2e4ae6537c1e115622d09bb056db4e3de916e711902ed353e7c2b5a8923',\n 'Domain_2d3bbcec29453b6f56fb85ea28e8e5ea5fc5f5562e0f896b6b52b113a6cc1e44',\n 'Domain_41a5458d86f6db3ceb80f9f8dde0b5a87ee44ee0aeb7edfda94a1047d80838bf',\n 'Domain_e3a8e57b0b69b4f7fef7c8679ce19aec842b11671d4c9c8f72d7e7ec0ab0d753',\n 'Domain_ee295d27baf607dcd72d7ad52895cbc9b9d15a65f23491d4a42ec435aaf0876a',\n 'Domain_7755ee12f2a47cd68e9ede7b1e906a80667e61e53d63a758b227135bc1cadead',\n 'Domain_9bbf71ad49989e141f42613d1bf41bb85d4e0cdd538417292884ea4fd340c9ca',\n 'Domain_a76a96cf47d602947a8641a680cdd995dd06c4b9065713165f4f9b48aecca8b4',\n 'Domain_6f51b90ab3ab80b45407724da4f21428fc679ab578242223ba6be8020bd6b2c0',\n 'Domain_c6fb2192fe6ba2de0f1258c168f34382df63658359ee831bbda9f669db2e0499',\n 'Domain_47e5873650de508c8d9a8cdeef87c5a5536decc8b49ed2b0ff09e9b58c04dd26',\n 'Domain_e9906a199dc5060fd8673b70cf1b7e7ffc4aa318fca6c6a8bf7d654e0447e3b1',\n 'Domain_71d2570dff9ad6ff3973b83c5d9c46ee5470144111c4764165cc772e7d011e36',\n 'Domain_52718967cbfce467669c66aef2e802650688697f53adf77064120e1ef4747bce',\n 'Domain_ca1457f910b630bf41b6fbd2193860796d7e58bd160cf3fff13a94fb0eff52ef',\n 'Domain_ed5eca0681098e07e69ac7cfaabf03409e86276345aa19bf46d80f8c47a75db8',\n 'Domain_e10bd6bd62a5e3e0e14a2dd74b0b875a2ad24a6e04d4db341ce5ac94c7e1c3a4',\n 'Domain_450b9ec5e6e3dcdb500838823cdc4a706802791bcbcc9f316c6bb14c86412c24',\n 'Domain_765050be51cb547a0fef3e431e3779f65f484bded3d9b8767820fcb8d3932c17',\n 'Domain_82a61c370a447487d11c85e11ace07a54bfa04043ecaeab8afacdad99af374c9',\n 'Domain_82f43df57405272b620a87c326972caba7ed9654bfbdb2ec96a6261e1e81a29f',\n 'Domain_cc61e9c547bbff352fbc928eabf1a7aa748d19e1243008a601acde97dcd19774',\n 'Domain_1a1ccf62df31fa251e3641331ecbe4a781df7a787818d71693ab481349beab0d',\n 'Domain_66268c7015b145a22ec7a0c137cbc3d3a3908c22a0966942faa910eb117d1caf',\n 'Domain_bf376c62a482f81a24a83853c7e361987a0cc648b08a5e25cf23f6cbece88870',\n 'Domain_5e1aa4219cb4fcadcb9b611d1054784e375cc75a28aebf491752a73b380b4beb',\n 'Domain_583cf20362c27583fec209199347ddf9f2261500f266f4e9fc645efa613e0c3c',\n 'Domain_02b41c73282112d4b58d00eb6aefb32b1cfd05606ac65a65a2542bf77d2a7684',\n 'Domain_976ca7ce8c203dc49cbc7205374c9d33265cf5b2b7f14f8e53d6773231d7dbc1',\n 'Domain_a6ce4527281e02be81b6c005f4869b5b922d9c9cafe43bcca49e08f655cd66d5',\n 'Domain_2fa18b3a77599af570f00d9b5295ae71859899639b55f585971187a2bfb3d6f5',\n 'Domain_b12be23dcf9939073da32a0d7837b54168e5d7d4ce54c235be39fa5f0e5589bc',\n 'Domain_c392b775979382685fc47e18d0191213b6d14c29ee8dd641b61b1230cc643ed2',\n 'Domain_a3322584eaabc2faa2f1da0873b04b4c9333f2553ef2537f6f2d80410790bd71',\n 'Domain_fdab3c811678568ce3e9af6a5f8e35eb9969be3cd6a07e78f0fc20e01274836c',\n 'Domain_60fcd06e63ab65c71570ac27e64bc41e63f0dcc4c27a593780401d6ae9118847',\n 'Domain_eb890ee74292f23e4dfbfe29facbb92a9b4a0aa40cb85886bb2df9901e9f587b',\n 'Domain_3a4c7224c452261e97018919e721c3014813ab667a3221d7ac726afe0b8e385a',\n 'Domain_d661a5b8dd62bfa8b20847bb5ff70368c371079b849b10edd9a2443296956c28',\n 'Domain_951a32c0f3cd497917d458275079e1d0c50bddd60914a4c039e4377236bff128',\n 'Domain_3063a0302039d8eefbfba6d41d1d123e3344661a9038f40859d0c859d22cf528',\n 'Domain_28d26091ef22a5472607d2d3d29db879fd5ee60b4d2bf5709e5c5165c56fa1c8',\n 'Domain_2f5731a64aca2761cff32883ae38a104c02e43a03936855888ac4dcdc6676723',\n 'Domain_7a853ffeb2d37eb55dabfbe2a4e81aa6f665497e6a2c9c682a4acad23d641302',\n 'Domain_b0ba5ff2370e445581d1fdbc22a21a26df636ed4de08d1112a2009f1450918a2',\n 'Domain_0690b1224208aa7279554748003282933fb9594ecf3ff242c20cec4418470385',\n 'Domain_9bf5d9c16e3a6652b138457ca050a15583f85c6d0560caa91f59d16d5b55e3f5',\n 'Domain_0bb8faad1f714bcdd4f5be083b8dbb0d7e0bb1d26a33e48e40b1a7ede2d2b944',\n 'Domain_a4319eb2903f26acfe6cd3361fc1c5faae35b7651d667f333a4766a28978f512',\n 'Domain_af0eaa3ebe6c03efceb7318a2d2177fa07864337db02a22d193d1ed97bf2ff91',\n 'Domain_9141a7fb5af6bc0fa1af04fee0e336be364872cb65cee1f3d27adadb2ded319f',\n 'Domain_11c83ac6f6fa6531680d6d2031371c4b75ea92489f0a96ac3a998b244f5e5097',\n 'Domain_5d9908a9f8a3d292f5a1e8accc4537048243c0e315781357071d211774a40d34',\n 'Domain_ce6df2710c4e0a2dae5fb5da0dbf9d5c412dbc1787452b0d61ad74b98a8f7291',\n 'Domain_5f0a700b835d2cb66613c55256c1b76d0b60d0c11f7aeff265c8dde1a539bf7d',\n 'Domain_79ea6eb5ddd9c27915bbc024bbb167d7f8cfd686c71eb5fd945b480e7b371dab',\n 'Domain_c03e2b2e317aa858a0924d5c12350e11921f7a068d68f5bc73cf2cca726ab226',\n 'Domain_c0fbbd8fba521229db56e8c590d9172ea042bcf7cb6fbdbb8bcc4ad05792decc',\n 'Domain_cfdadd2c8b833c49f5af87cd376b2410057d6039377455f0852e8892b353e4e5',\n 'Domain_e61dcf614e8412151a203356e2456f8eee3671b02ad57850963db8d90caf9c3a',\n 'Domain_412f08821afd3f3db92a652e3b8df2a6e1150d99df96b754aadb0c1bda1d7ea0',\n 'Domain_579973552fc7ce5a0ea66c88ea67aa35fcb0d2afb1ca20ff19d8508afad8ba7a',\n 'Domain_6a34d81288c39600772695f3398ec6cd882b10f3bfc387ef7fb99f1a489e87cd',\n 'Domain_70a9c3378af73d6f33259624691289ba0fa22efda8bd58cb69c236a87a6f6c96',\n 'Domain_8e5181a042ca09786bece555e8a3be705846ecf7196d1ff3afd7e1362448d4ec',\n 'Domain_f021929febb56723ed51d56edfec40667f55f8379635b0deda7f08e2f654d4e1',\n 'Domain_9415b20a1c09338d8cfe45815e566db4ada64f4b93590f85e813b2c82887287a',\n 'Domain_902ed89bc74e60bb9227ce6c71997e659072458aadc885a788e91358b62cd232',\n 'Domain_16724d47ed67d9700093dbc178327b4ed1af4d05a0bf447fa5bb437da53e556a',\n 'Domain_513cc143f598864d825b5352742c85d0e325baa5917efce7b3df69753badd443',\n 'Domain_3a404a335193d226e67fc23c964c31fd33e6a51b92e8c3b38acd6ef55c9dcd7c',\n 'Domain_b8b0d03fa76d4b145b1a69753a76c708f4f5d22255c8ec693fcfa5d4452c4780',\n 'Domain_d9fade1c82581ff9ac18b968e3a68c243a563fefe82413706fd8525cd6374b07',\n 'Domain_e1258454608087bfb90aebc491ba69eb9e81c1212b8bea892e0a85cd1de42a68',\n 'Domain_f7a7745ca4b68d3a17217d6c4bcf0b58619409615fc3d08f73d7027553b9a4de',\n 'Domain_17233fa32bb09c29dfd0e7e76ae33d419e6510ac3c94aeebc4149d406c450a49',\n 'Domain_bd0c559d9681225f4b4eb5830f82541f112661b77198430088a4e0b72a0cab4c',\n 'Domain_de47803013058aecb14b43e8083092468647cb033fb21a0f5c7f0329aa7d3397',\n 'Domain_407eec739ab253e0a63ace938ac9e23226bef7967cc1e955c098db1c2a0c7d2b',\n 'Domain_503d266cbab3b24636d9ab632a7825394a1422f5db409334e55496bbcb3bc993',\n 'Domain_a1392620303972333a7fab6230b6ae3aaaeb0afa534c96946de70a85f9e848d9',\n 'Domain_0b8a92be161ba3069ce4d69d9520deeab598bdf020c6c04bd2f6aeb03ed51d29',\n 'Domain_117dba174df9ed038db037c7ecda2ccbb861737a63207423459b7b3aef23e1b0',\n 'Domain_eb5351ba7af7cc3d93e11e203664cca4072d067e2152e57909a11ceb1cd78e89',\n 'Domain_7ff94fe2eae23aa958a616449e46292d3e5886717fd7345f496de27223c6e70e',\n 'Domain_d45bbb54e15e2a270b2536db6a27808dfcf239f7d235d45a50bb6f944d72abb2',\n 'Domain_e703113d2e370845c54cebf0866954300d94a3223b3547901a5c8d5b888ced3c',\n 'Domain_3d62e6f0188e2119b8fbe2c17ab20eb4dc06ad7fb6d726dac826ebf3f9588fa5',\n 'Domain_a0b7abae72aaee3e3e203317116855cfd9589967b058eb85ffc69ffcbb7d19b0',\n 'Domain_e17c68fd70adf51d7c475dcac9685e9da54c62d630cd37ca423804e503b259ec',\n 'Domain_bb9efa84372c2d54197d92b0a8d82dde5bb5473b38c6006f6d759b1324a0802a',\n 'Domain_8581808a73160e86a498bda75b9ce9343c6e9bdd4b96154e20cf4bc8e2252aba',\n 'Domain_9863ec44ba2738006432d3a833faf1f314a58b714684a320861a56ca238aaa76',\n 'Domain_5ce9966cf3dcbbebac6e6cd6b0dcc39e6a16daf41344ce094f17e669b089ec59',\n 'Domain_a3c5aacfa6ba368db872b232d67378247cf1995ad48905a967d6df56d4915e20',\n 'Domain_d3d7f88b08f692ea9faba178e8ef4bb24458893f7d29088265f385cad16252a9',\n 'Domain_24c9fa468fd5b8a0a183c7db67982b477d651dedbdbc0f9ede4b813f94eae13d',\n 'Domain_9cccf0543303ec3203d126d015f4c55888ef96d001823ca431d72ea76ca31e12',\n 'Domain_a2ed9cf35d43aaf760ac59ab21f49e45b762fc7d4196877abd5f70218a2341d9',\n 'Domain_6f571e392345d0df240b01094dd49fc5762337effd7a33cc8730c08bdfbbe831',\n 'Domain_d279563da0da294b0d976752e860b8e63d53ea367e4310be7f36ac0cfc8dd3e6',\n 'Domain_0d9f06a82e90193f68e72e53acd55e23c74afb0e3589608627e423c64d19f6db',\n 'Domain_0586b66338e82edf74a0a7d65d1e5835a86647b2e3781e5718c6330e0aca3617',\n 'Domain_df35f0a5a272525f008cd4ce6f5e874ee979e6cdd439c2db9401764babccc40f',\n 'Domain_149bebae336db20900cd0be3f423b1744f0757ba2456d6ab4b985099364ffb73',\n 'Domain_59a42dd617a7e00e80c2caeb2c70c2bfd077968525b74348bffd81c6d8149eb5',\n 'Domain_0395700fdbf0d8da2b2c78d37b7778e37dbf3963ec16bbe980fed01f63af9415',\n 'Domain_447ab966314fae3a05ecec40dc5a6f9972a63862bcb8792c5a8c97af741a5802',\n 'Domain_47e6a1f54265a0f72afdadb4c39f78117de94baa729b1fe95ef38eb9c5a878d1',\n 'Domain_34dc7342042fcf1558c22e50569c9970955f85a1338eb2cc9a50348bfda9e162',\n 'Domain_0f3d5e29ea794b4b431335ff8cc86a1d37e335ef7ee41f26ca12012f8b2d6ab9',\n 'Domain_b0f7aa2ee2206102b17c9c6a72529c09899ac022b5779ef26cdf924d29139df6',\n 'Domain_6be6c21f0c190558ee8469bad2d463acdac6de9adda060c4fb9b84ffb6a519ac',\n 'Domain_ac4bf0e6d724d338ccd19ff41bd931e19aedf5ab611fa7b7ba6dff2d4acd412f',\n 'Domain_4b8712e57225059f35fb986278f5604265c7bd574a2b0a84c85844fb573bbf1d',\n 'Domain_c24e818c7dc650565cefd5798202f28de26805a06c13dc1527fa787239d4a1aa',\n 'Domain_30bb11eee1161e0518042349fbb1dfcf050580c38f2b2bddbc2bf64c2c473948',\n 'Domain_0729083806224f5d9f6883883843035d5687c23ed10cf559a1d8f5e0ef38e4d9',\n 'Domain_6de3cf8b67be5200574b70c30a5a7ee1ffb12121da867837bb5a2b85ce4679bc',\n 'Domain_1efdea87ded17a6ecd80fd2f3c86a17d989fab3bfc68db72f51b04577206cd51',\n 'Domain_727c1dfe0902a104ca7fc4d5cc703e92e42a3b2b83abb861a20a23694cb48e31',\n 'Domain_f0f443a2b6403dc5274ad00ed62532fb572d74b5b83976ac79689c1190cd883b',\n 'Domain_c463c97e71921dafad350017e9a68b54d97e2723f620ca907fef01ba91548c14',\n 'Domain_baefc98add89f481ab676bc848ec62906eff72681967af634ec3b29f6bdc2bdd',\n 'Domain_8a8fcc80cf6afb29ff664d9826a5c386a72c4d445f28d8e24bae3b1202ba16f9',\n 'Domain_6f414d4650f00c4c25707049e0ce321519d367668493a42b65668e70e79d4a6e',\n 'Domain_ef93be9fb7b5f5c2f6983de7bb77f7ee20bd0e9b968200bd609896a405019bef',\n 'Domain_65b74c9ea8408e130b989c5cb4fb8b5e2275c1974bde2fa9e13ee0ee7069c6b2',\n 'Domain_04ec1514db775d3c0f782c8e6cc1a9a54b8f550587ed2b5e2cd571d2a7c19fdd',\n 'Domain_c54c8ca525c7156bbd9d0960206f14c9b588883e48435ea16d02c405a5b00389',\n 'Domain_464dd59a45c4873860c7d9ab329c8ac42da7f5c6ee7b51eaee23e06b6834d842',\n 'Domain_34bb1f3cdee643466713194597bbdb38d3e3054f40397cba60ed2e93f607f0e5',\n 'Domain_74d25f677694beee0f610c636c4276acfbedc35f2aa97fc6fd5f142ea4075952',\n 'Domain_5244ba26db690c17509e245c683b526ffe0579c61b8086e8a159e64190f1d644',\n 'Domain_ada40e2d495f4d1939b90d4c1def18e500053a476083e3c464bf231abc74e4c9',\n 'Domain_1c288bca4a61ebf176f8e4298caac1cc04254f99952d77cd7a6ef228dde62397',\n 'Domain_9b5fe49379ee56490caad55fcd2688cc505d76333f086fd8da7bec7f7952b7fa',\n 'Domain_a3a940a67471dbe80f66d875620ee3606ca7a773e095a529a3989041d6e12938',\n 'Domain_da6448eacaff9d424f01d435f35fe4c4090ffb82d88d64b07df8288596db5a18',\n 'Domain_7939d01c5b99c39d2a0f2b418f6060b917804e60c15309811ef4059257c0818a',\n 'Domain_7da35665aec46aab1d829560d643408b498379090ce8caab75378bf35aab9b20',\n 'Domain_7e55bc539176a4b751b9575118c16214d8f64e55eb1b3a66ed0401a7839f7a1d',\n 'Domain_3da5f6a875aa2a1ef78ea219b6f188091e9a55be723205f1f57e374b6bce2cee',\n 'Domain_eeb696401699231c5074c42b978a48c4ad599b8db5c9707e2a61c36f272708a1',\n 'Domain_f2a15c9d4e250210a63c1382ad3d875b268543a80108910e4748ff8c6f0a010e',\n 'Domain_2f889caa31a3e18b6c71846185152fa1ef1c6a003ac4e35f94afb2041add9a5f',\n 'Domain_de953c4ebd55382b4a00562b8c21d78187d82540d398b644defc77725674919a',\n 'Domain_c7f40691e553bc1300e330c8701cc1c797dd05a43af1c4fa4a3d7b2391946322',\n 'Domain_16a6b77f37264c031ad922bcb6f0ecfd0df5c90c035bb259713f936b91be2f18',\n 'Domain_5aebda7c0c67ceaf8ada33dcf4fc719324ab6b7ed62189a6d013bb28a00183ce',\n 'Domain_22d674eb113c302906379110ad180e3c90c2a22340959d846faf8021460068c3',\n 'Domain_28e3a8a1ddba9883964d32c9e9630d36af11ba8e4f1b893f7dcbf9f9c2787f59',\n 'Domain_bd0740550a635a04695efe7ad9ac43fae3951a9f37a5172734143c3c1c65e08b',\n 'Domain_249c716b68f06805aafbe33fb3bc52a5b2d81a6c7017754d97588f44368ec704',\n 'Domain_1b157d78a1070c75e799255f4568da32c565a4fab36276d10908e47c2a9f8ba8',\n 'Domain_3384d2d85dd79771135b88e40cec715d12fdad48a981640b6f7716437a995a86',\n 'Domain_88cb07b4ae043e70906c9c7678689e2b1073f61779b45f3ee0d135fbca7b4f3c',\n 'Domain_e08bd89833cbc6180c51cb2bccc8a5c474ab129a5ab64067707515ec20d6d60b',\n 'Domain_229c583dfada5a07e3e165be23ac4f504d2b87ab2f2cc46e08df1444f99ab9f8',\n 'Domain_f6e970952f67b22df5c573c4077d1b530d4f466381352cc82e5e95b0c729b700',\n 'Domain_a77670a553ec6dc77d15901135497cbd4fe60cd473784056c457a82cc07eb09b',\n 'Domain_0c66f15fa29c66c134f0926525424c96df9deb00d786818636ad7bb6fc010d1c',\n 'Domain_45e85b10b5f83b77367812974a4de443fd7fc6dcdf48cba2e68085e4ef270002',\n 'Domain_2ad0e4d64d43168136f5300c1230e9985c6551bb35da913fd739acc350ab2b98',\n 'Domain_25f726671448b3999d2232b442bef961dea1d79c2116863b4280b3081012de4f',\n 'Domain_ecb6a1cb6808f2a04d3e074586adf770edf8b978addbf5ad47ea4c476ad3902f',\n 'Domain_1e4f17054585733bc5af6e504c15b66fae25019e1cffe82ff78785545cefa9be',\n 'Domain_e5e34ad079fa8e284b47409407dde50949da066862dbb1a83f0e1f4a31ae2cf3',\n 'Domain_aff80b16a1cbfd91ab3a158048e5c99d4a053ab9ea757ed84141fa7a39e3411c',\n 'Domain_a862079db9fcb59b2b81b3a114aced6a857fd0adb30f434ff683b89f1e4abb7b',\n 'Domain_9a29122f1eefd5d8dd1b20f14ca9b796608e7567fd769c94ab2e39143347e081',\n 'Domain_5908b907c4faf7a2bbf7e2b9a25b29c52f085728777a65bc76b38ebfbce3aa2a',\n 'Domain_c7192213c2f7ba0ab539547679bbfab79920d200146ad6347dd669d8a6f60bea',\n 'Domain_9a1954f84e6070174caa0614e0b79bfac42c4416ae8f200836749ae05a3c492c',\n 'Domain_a23199abe7be107b209ee6e84edb0489d6f8f1d6c7f4b79e5c082df5e362dc6e',\n 'Domain_ddf389bc4953d1d3a9d267d0ff9332182adb9e93f41444fa65f53294daebc806',\n 'Domain_38f09ea90010124484f42ef3b9739b698bde4de26b505c523a03d08de19b9a67',\n 'Domain_16a3c8545732ca5cc0475714040bb4f4c0a04d7798bd440d2a00046f9d66aa78',\n 'Domain_f566bc4852b9b623a60fc0655bbc5e8cf828ef9c6e2293f4d1ad89e4d5cb6466',\n 'Domain_61befc7014010dffed9239b8a133396e1a88fa822703b677b123268eb16be3f7',\n 'Domain_c58c149eec59bb14b0c102a0f303d4c20366926b5c3206555d2937474124beb9',\n 'Domain_39dee509d29142caf91607613e7ff0ae8032944c338a5f7a42be54a7cdad16ff',\n 'Domain_f42f2fc2da3314de4122ce5cb847c368909a555b7873224c86ca2116a57d0a48',\n 'Domain_ff4a2654ba66a3808fd1cce0ec0ec1e1d9f8d54461a6f3f9c89b7572e9920d14',\n 'Domain_5c522455cac4ee6870ffd9a6f9568c86394744df821291928eb4ff8a779efbb3',\n 'Domain_b8e5ab786da2df272ec5ae73af2b674b14736d5427fc80ce26a0d06f0f066003',\n 'Domain_265a76394baa234c4829ec74f434deeb78a5d57ab0e355c9f8fccc7952d18142',\n 'Domain_ef6a36adce3940eba868b053f48ec421dae5b9565c19757e592a9f2c878dac29',\n 'Domain_f3554b666038baffa5814c319d3053ee2c2eb30d31d0ef509a1a463386b69845',\n 'Domain_34caddc77293ca23a3536dccd6e4833c6b90dc26018b42713bed42e7633abd67',\n 'Domain_d10f4490b0d6a65597d87a02037ae7a4894712346275bf23125d7328e5cb1786',\n 'Domain_bab7738855aebe08106629db55cc37bbab6032d0c83e0b50545f7fadad00a7fb',\n 'Domain_c8c83f3cd027d851cbdab5c2f8c98b78e4a855b26a7602a0954643c66b37cd1d',\n 'Domain_a71091f5759ed561630df961cc82f00c0f8bb077e90c346c9486039b1c87e55a',\n 'Domain_c2213cce44dfcc1c733ffbb2bd044d19bb5bb63c188095283327f1b9e7042154',\n 'Domain_908b3ecdc7ed08edb4a9af450fd37133f1a8e831b31f7194c5b75802081b13bc',\n 'Domain_1af571b08126316100c5881d0b6e2dc7e349572d3dc30623d117b6ba1e604f69',\n 'Domain_3463c4d7394dd9ed9e0bcafeaed3cf8691dc7dac01cbe3e84bba8391d93a7b38',\n 'Domain_ef009d056f7c9b31e8d62c8eedfeb6cbc43d8c2b10dadf85990b5d555b423007',\n 'Domain_c6576689ff4de430e82fd41fef771c978c21a5ec72d78a730c6dd9f5fc9fdf50',\n 'Domain_e38ff43e69597e1feaf84de0dfe2951936caecfe3068fac95f72056facc3a84b',\n 'Domain_0593f12a48b5ad25bbfd65b936ecb20d772a23ef7d5270f59940fec486f8de21',\n 'Domain_afd826ef13c05bc22f4781e7ad58b8cf5a2b66fc0b65b94cefee484aca14bcaf',\n 'Domain_7084151479e166730726d5b3f87515ea694ba334234059aaf8892ad0c5ac774c',\n 'Domain_02cb978b4a8b75d4bc1f0516ff59f72b1ba389f10b0e5dfa8e049b4715854d22',\n 'Domain_d0e35f169952a364be85deb02bb2b4914f8d99fad348e202b6deb5c5addd3c03',\n 'Domain_e579145aba9bf72788c1ffc010ebd363d6ec21c854e35dd885ced1cf0ecfcf4d',\n 'Domain_a9e7a0e1de9300bda3d012ca63ddd36ca4c20d32eab82cc91e46803a51320cb1',\n 'Domain_63e637a207df78f6c5abf5dcb0ea8a4b3bdcd94e27b021b4aa619ec98d076bb5',\n 'Domain_489b83038001756dccb92fa2938f7ef1bc876ffb83151e784076c21684c99c92',\n 'Domain_35b38a6029ac49d2704c1728e41a200f91d9a780907fcca88c72e475eccc1f9b',\n 'Domain_4263a8efa1b37e979df4620ffea8e1e778d6e32b0d9842220b0bfdc13e21d81e',\n 'Domain_940d6538154fc44b762de26af652815ee206f13a4e9e7b66d893ec032df1da1a',\n 'Domain_c2529c9c926ff08c980d52f95ebc3e709631d8c4db04af9b7d42e27bc3ce8595',\n 'Domain_aa29d58ff6a79bee3cb2c8dedc3ab38f6a2cae77725abea1743effd73ae39ca3',\n 'Domain_1aeae2d0b97f5be5a085f0e8d213f15c4ced40f4b18e17fa6e0a005a14722620',\n 'Domain_82b3002d789b745d0d6c4eea20353178dbb9ed9924395168eab7a5b19692a34d',\n 'Domain_db635ce87d13ec17bf84b9b8a92237953aaf055c9e42ebb1d6c9f91bec2abdca',\n 'Domain_aa9eaf739708ee43231ba7c19bb9d2a539c0ac6615debb3501ddc2103e6a54f5',\n 'Domain_f9ab3c7add76ae127b29d9b65c43c2d8919c440e1b308b4d963fd44e2b2ffbe7',\n 'Domain_0b5d15ede90ac290e9ea23b9f6f62f128df7f245e154a2f452d4f8ebdf149a91',\n 'Domain_6c58d1254fd0da87b1a83a0254f3d19c408c5076cab5231a857959adfb073c42',\n 'Domain_4599a5acda54da2013276b8206e7e4e326eb9927fee2026882a01142b82ca081',\n 'Domain_f980adc8130e8fcd71db1bebb258e7edde216d2d6e3757eb09d30a273f3afb1b',\n 'Domain_702049c8923d5144d1e160f96f9d4aae1e8a0768edcb99a0836b9eb01c7d39a3',\n 'Domain_bbbc4d78c339e4f5ae701e89d0ad8d24736490cd0aba8da8d316c0008898fe64',\n 'Domain_c5c69f9feb31d333a42adc084640a21ceaebc79372c046c94e8606b1f313d3a5',\n 'Domain_ac4f88d7d9228672bf14df410974bb99282d814b560ef68c94e3ddd1c6593ff7',\n 'Domain_ffe85525b5092e085a3058c17803cd54be854ae6e8f57db515735d653e5b9f2b',\n 'Domain_b204bd76b1f885cd752561e8af442dc3dd569d04cebdedc701346f8b1d49853b',\n 'Domain_3c3a5d54d22b192ebf1ffedd15f2f1dc1ca4b6c62b152fcb64c9aad927f462cf',\n 'Domain_93ff96b53d58ea1b6ddb492e8541b67f8073786ddacbb5db0337b5cefde5e9c7',\n 'Domain_9e77ff402a3155f09fa233602ad0f380c48445098e53e3e1cf404aedaa7af749',\n 'Domain_862543d1c5c027f08a0c804055c77fb5297c242db3832e6d04d5c1857fff214f',\n 'Domain_f59b79946077c5c10822f98f235bb7f2f5f61d7754fff96c67c7f31b7e06d59b',\n 'Domain_3c7d4f73802ac0fcc7bbcbb5c17fe4ae3c8592284d3e44140ece6d863967d837',\n 'Domain_c66d4709f39c19b63efa0bc445a10d5b4888edcbce6a0974144943abf5d94ef6',\n 'Domain_f9efabedf3c643a02afb08cfe52064af2fa73da12b4fbf6376af0441ca61da4e',\n 'Domain_0478020df410854d4aec4f6d03f2cadeb8c1e142b085d540e577bd6d3e173b6e',\n 'Domain_3e78856d039d713728ee76a6b847a4b77d8bd6d6dffe3f0ac3a0ad18a80e1a7d',\n 'Domain_8e363b9f864a3fdd7ac4f502128fb126603a7de086beff3805170d7795ddc133',\n 'Domain_d67a4c38d147d991584f87030dd16dcb65ba09d1034b028f4a0f58a42b9f4526',\n 'Domain_67f4829c78970416a3e93332766c0ffdee0e293738940f47107482d32b285e81',\n 'Domain_3e9ceb8e4d1c591de421e0dad198d93bbb249b953d124eb9ba9a911289771855',\n 'Domain_9d80019635dfc81e82da378580d9f6c695469acbeeac09666eef7c07bde277b4',\n 'Domain_ee6227df847bb7436c0d5ad44938a491141cce396ebabfa1a066a1c18f1305b1',\n 'Domain_a3e772f800d5d086342e0601e906bf9ed999b2bfd34c643c8eb2645b24196eeb',\n 'Domain_bd394e0ac457254c064a7f36e3e2bfcd871cf9beb3fe66e780654d76789498e8',\n 'Domain_f51c77bcd1b6b0fe53013fe69df67aadd64e2e3c22731278c5f103cce9326194',\n 'Domain_95e562d10c740ead08e44e355b1a3ef4c4e20505f83fc5f1610add885a9c1e40',\n 'Domain_53acaec4764ea985f57476777732a75d5b2ca59e18eca75ae5d7ea3f4325d395',\n 'Domain_7a65bca277893ada64e95c27c0a9f4e919181b96227784a745d10cc81598b33b',\n 'Domain_3d7302d71fcf0dbf8bf967367240541b8dec096584cf30289d524a1ee4ae8c7f',\n 'Domain_6c9d297457fbeac716f918aef0fb61b091f5fbf2c890b77768f8194d4b48bb4b',\n 'Domain_df1f29cf94f07f6b5f399e223ff84910040697ae83fdce030e765e3b33d369af',\n 'Domain_6ca01b489785c04c3f1df793ceed43b3c920cd68d96ddffa2dbffe8050b9fea5',\n 'Domain_6b86b920fa18123a4b0b8a1b9cfb2953e279f23bdebf9c08ddb161963c6df0f7',\n 'Domain_9e083d67a261ba2eaae52e79f538020df302468fbf6e49466ac17be50a991ee6',\n 'Domain_6811b4c6802a044c545577eaf6333bb24f5761e03e66103719fe9380ca33fef0',\n 'Domain_e9ec4332b9d50da149756818f6a589646a0004e566f041adc2c4bc5537195506',\n 'Domain_aec0ff68921a049c935ae83271881a2af9534d88f47416298759d947eb05b52c',\n 'Domain_03e558169fbed3a3f98512a9c8e881d534306cf6bf3c2a54c64d9fc98273449b',\n 'Domain_8f535f1781fc608b5a30aace258bb7099ab6beda0843f915467cf6297c8e2305',\n 'Domain_825d5aba0c73fb9e3344d94b88dcc2bc8b273306a7cca7df95caeadba72f5054',\n 'Domain_882089d82b02aa90593e8e84f49cff655dbf4215b884879dd50e8e5e8326155f',\n 'Domain_54eddb9a91678dfff327a9bb31a1fc2a28ef05c4f2c775b6cc8c9dfed4927fee',\n 'Domain_ab57dfc137ab454b718be25a2f6c4a0beee5ab0c646ac6a20276710f8030a0d9',\n 'Domain_0c24af0439f93435f74c5f4d83597f7476ac318b452c7c24f1d1ac0eec27fcca',\n 'Domain_9a5ffb4ea23f638fa3c48a605c7f0f460758e4a778f60e2b6fb751a32c2ee956',\n 'Domain_2b9e2748d2248c57d8018b7b82b73cb4a138fcafaba577d8c202d2c12aaf8f23',\n 'Domain_86445526b410e4f725c9e54fdac766f5a007dd775eddf0f69243fe1e07a8ffed',\n 'Domain_a454ac643b5e95f4d3c404caa4f712798318a06f299ce2f33e6550e2bdc44e6d',\n 'Domain_529b77aee2e849cb89e951da5e8eabb8dbcb8dd3a578026c5a3b87f6a852a817',\n 'Domain_803d641351d8b9eb924768e11ab4a7cdd8249659c095597188b9b7115dafb5aa',\n 'Domain_331b66f8a8a05c1f9238c6b6dbe0143d69b17f77d6d6c574d97c0fa57106eb92',\n 'Domain_905fb767e47b4b9f307e1610180f09ecff0ad3f1a9797105887a35b92888318f',\n 'Domain_311146a2bf11059a822cfe4e90f763b874fbab17e6b0e697db1c89718c849a07',\n 'Domain_27aec32d8e0722f88d50d94f021ff512e7d4b8c926f16cf81080fb9fd1343389',\n 'Domain_ecb4ad3940210b54477ac36e4e6fb063f145c43152d32b296531883b8169aabc',\n 'Domain_d16407084719e0e83ba9e3cd8bdb45c59dc083ac97b30f76f6f3a7d555efd3a6',\n 'Domain_508974cf2c75044fc9c0bf9d3b4c8e35abae0bf0f739e6263b8fbb3a4a7a669b',\n 'Domain_3ec9c5a857a7a6bf950bfc0c4ffce56878b38bbf6f4db65f95884bb354e6440d',\n 'Domain_c9bfb42c5cde677b7818e133d7213d5e1c9ec00a1082db4a6010def2df930814',\n 'Domain_0e22764ab3b8b3a1f7b5f1239366cff087a9f45e2036316438e1b3d1ac2d226a',\n 'Domain_d4e230f1151ca94dcee66badb1138552ddd0ec4a932c743b2e959dff742bd9be',\n 'Domain_d6916fcab423764a3a6fe40aeae5733510d98e5ea6a68024622770077883102c',\n 'Domain_109f985182dfada5281e969c8b1cbc0df1f8311578ab562bdd23d47ec0977dba',\n 'Domain_1d2f4a4d3d1892c56853ed1c66bc783325873057167561e1e1fa872a5d5b9539',\n 'Domain_312d1235640a4cf55f403a2db527a1ff97b2bdb6358e983501f49b92a62acdaf',\n 'Domain_eebc9cbb22abaeccc11a8fd556680d685cda1ec3ace656b61158bf339f05d03b',\n 'Domain_dc4415520fe159e523fdb23e88768662fe8f6f6f10b5e757ab8dcfe212d9975b',\n 'Domain_a883e5914484061710844dfcca6e682d87a6bd761a48cf70e2ba921edb88d32b',\n 'Domain_189484d45f17320aa3ed3c1fbcdededeaa5ddfe141d6f89799df75f9d70a334b',\n 'Domain_ca1ba642d2655beea0ff2878525c5ca4cad30c9eefd370e52d1d78664815b14f',\n 'Domain_b3eef036194f841d46039d183b79e5ed292a71ba689fd317a1c559e4a947c4f5',\n 'Domain_94234c88b9281326e6c5b5d850fd34913fbe1a98712a7c5c376944226415ea7c',\n 'Domain_01a38638ae510101918044949477eab55b5b5ccdecbef90f1e5e3ce418be49f7',\n 'Domain_3b4bc893650f14ca3cc06ce30ab099c719ed82346d1b34755251a89bd81313df',\n 'Domain_301eb7c7e049895b79460e11dbe034352cacaed77d38fbea8088e51b03c37ad5',\n 'Domain_6642b5f9fc0fdb858b92250b5fc67c46ab60d3be584dc2c74784e9fe1e44ead9',\n 'Domain_f97ff87365662963ef578be5e8ce6f67e2308cb0615ab16069c5b125da46c477',\n 'Domain_c3581afd50e3287845985b4587b7a6a59bb7aeea9e3747b100db7d73f0ba86a9',\n 'Domain_4b1eb88f3484b9b815040307377174a2b24632d602bde4892e4a43faa658fbbf',\n 'Domain_b61e27d7375c89508e84d8fd6e2c15e662005bd41ab2a9ab4027859f1d6a87ff',\n 'Domain_5188e2c51df4d12ba6c31f4dc48c8bfb2c486f64d07d909aaf2d000bbe110b92',\n 'Domain_29f1e493321c01d13f3fbe79feeee6fce63f4ea7b5d634d56d992e28d04e5f1b',\n 'Domain_15f77ee78ad7b9e6b42b26d45175b4c72cf99c786e492c465b74d848da7a01a9',\n 'Domain_60cfa18e370c70de995e7f426e3ef6023ca708f0557a1f5ec55e835065e193f1',\n 'Domain_d55172734031be160248509bb762723faafee372a5f1559f58b3cfe66f067f06',\n 'Domain_afecaafc9d5a4ecfb4b7e34e8f4e49f6eb30510a1588342fbc405781c7bcfd5b',\n 'Domain_b82d9583f6ccac532bc2d94237a4822c55f74f9cd1cddf34c95e8ba5c137b5e0',\n 'Domain_c24cec9e7beb221d59cc201403d2cf60ecb1d96aedf6c15538da54ef3650b8f7',\n 'Domain_882f989662018df5b1e1bd8e3921ea2c12ad538ca9a5d3862301e0107554c9f5',\n 'Domain_478adba9d64cc267388afe45836a2640a51283c2989f98000d2487cad89b7d2e',\n 'Domain_8275bc4a23d99f04b20fd177ae8bdf3ba70779a778b3575654c7fa489b92ea07',\n 'Domain_7de02030aa2f25c7070c17aae114b2d9b99b5f45c5b2b1d5e4f7fcfed59db594',\n 'Domain_1a81501e359c15d0cd9b0cf7ae11fbc853fc05cd8ca363103428fe0ffac04247',\n 'Domain_a08e70301ecc76bb6b593a9284706107a67dbe7d96f6bf05f08c833acf9d11b7',\n 'Domain_170429d5b3c270acdf0bb2e2bb5ecc94bf98b56241aee3df95ae368a977b2be7',\n 'Domain_fb67b79e67e35fc505331c41f68c77cb12b66266259c3506f7af42a8047343b9',\n 'Domain_2cbc96d26d86e0bed5d00a5414ebd55a510aed64e182c36b5942aa5a95517364',\n 'Domain_82b101768f19e8579a23b94ac2c0fea21e1e28075aa6263a898c0ea914c23897',\n 'Domain_cc5b19dd5069874964ec69e714104137b19360fff8d201be62f76c4a26d9d5be',\n 'Domain_ebdb379bb45137bfbd6577c59bb063143f8f8ddb3776cb8da538fb7034bead52',\n 'Domain_d7fafa8fe2800509f0cb42a748aa5be87379a7ce9302922e4a32900726c4b1c3',\n 'Domain_8775478fce98463e36aa3cf507a50122c87305d41d75d53feb79ee8edce62988',\n 'Domain_c605d9cd64e23e08347fdc09dfe962d4db17607d24e15a7f28f01dbf8b739bb0',\n 'Domain_4f9f260c3cf60400f42dee3b50e8a3ee01be39fc13f41d4e929b3e9622740e7a',\n 'Domain_f548c1f383929c774a34904c19de7c9bb2cb4c3a9c3b18f0a0b6547f79f0893d',\n 'Domain_46fea1c51897a2662666a121f4857ace87bf7efab290e8d41d21472cb2b4e270',\n 'Domain_8a13e3edb80e6a170c725fbcb8f09d5f34d6fbfffb71693289b01c9c11abdf42',\n 'Domain_82c255f41d0ff35978e6b78a3709057b7a1d8e9d67f08263676b5a6e9558a2f0',\n 'Domain_71ddf0e842ff8f2180e1b7e3df41e999e80540f39826f66c6493997d7f21c457',\n 'Domain_b466f9676162f4ed667d04325c4cb502244ec3b104bd1e69be3a9696d363d865',\n 'Domain_9b4b316bfbbbaf103cc7bfbc2c916d4c5023a045834151778773a8841b67ae62',\n 'Domain_e6d210f48353d09e3441432d1187dda7454835814e26576488b6aaedfd255b4f',\n 'Domain_5e9be5e1067ab20ee486d2c76a9bb16eeb8eb8712834b1a94009f2dacdf739ac',\n 'Domain_8b45b6980b4d3655a0c03b01d9532107277166b6f1e47d1f5154f523c1d97c7f',\n 'Domain_c7ea5dab4aeb6d1e2ead7ae2ca869cf8b0783d4cb2fc65708a565ab218197da8',\n 'Domain_984568cf9a81e527a69477982786c9ca4e8150760bb351f473eed3bf70494a09',\n 'Domain_e79fff29c84f98811aa6657534bcc07d84af33ee67b101b8bb2eb19314bcb20b',\n 'Domain_6f5799da1e5e146b93cf05d444ed65aec2026d1ae9241c75101882b3a620f08a',\n 'Domain_aedf21afa90efea5681ac6bb2d9497e5bec50c5d1b1744d8035d1ece876bdd72',\n 'Domain_612b66b21934bc9c913dd525654a12eea6748da1c8d47c46c1193426bcb8c1fb',\n 'Domain_212e19805ba0d557e4a0e13265c5a9847255358ce43ba1aefb3fca145f2c5abe',\n 'Domain_70019efc41142653a167831e148a432fcf11ca7ec15e8a7655998a095a7b4d69',\n 'Domain_1e16f28ae1fa05edd39c8799446fdef08fa2917f239c41718c1bc1631f028387',\n 'Domain_3e648fe7935971854ce45f096eeaec2eb6665f965796d301a9f81c00019bd55e',\n 'Domain_9a6aad9831883572fb7a5e53b288ec4fed4cd61695de6668eced0f63d0f078d2',\n 'Domain_c7517de733163b1d19ff2c963d9e7c3466eeda85f1c1cee9760d4017af89e3b6',\n 'Domain_84a6fa6a1eb7ac1ba92063788d1a86f0811807fd53f855e0a5f1da4e3444808f',\n 'Domain_df5ba6d9d75c14cdd0f5684d925b16115c5a8a0f65c177d03c4371493f5e58df',\n 'Domain_51ee0819420741c654d149e0362a862955182b4afa2c53a902c7eaac2dfb4160',\n 'Domain_43593597d4d5c899f39b17dc19a37a0470f978503de9caae7c208277e8352c30',\n 'Domain_284667993868cc833ce7bb5c442a45da61a24b368cf35d27c019a144c0e64897',\n 'Domain_1a3270eda48c528cfe04a0ca108c59724957bc6b0a68dd8c691babfbfd4c7547',\n 'Domain_0e6928f4a7b7c3cf0b4eb67440aedb3bc48f75d718f4fa687f1119932ab6dbc2',\n 'Domain_d795fe6398057b2e7d0407a81ee287cadf90249bf45e5894920a56e2ce603374',\n 'Domain_2f3c8bc9aede008452f42e2616bda929d5fb158fcbaa76ed78e6be3ce416cdd8',\n 'Domain_358576530d2103ed4e84989677c9dab7c51628a44a4efc2d1928e753f58e9da5',\n 'Domain_0272a829d7f8f5889d3add0d7b2889bd609cf4f829636d90b115e7be0f4475a1',\n 'Domain_69793004791799e78240276f00322444a4654ccc9a364620069b75add2ec4762',\n 'Domain_b67c68208d9984b249d40bcfd346dc28e846f9ef277c0faf98c6054d224f57b1',\n 'Domain_5065f6f06f54046c423930dbc82af1f71e140cd347015f3ef977f4159f8c2b7b',\n 'Domain_034bdea935464e3addc9cbfc7a6449ada054e4941f7f9ec62609acae650ec480',\n 'Domain_912831e886e1379c10d12ecb5ce353fdca4338fbb68a7b481ebad45c6a80340d',\n 'Domain_7e76893ae0388237d737004c1c8d6ffc3a1284d4ed6e36ce355e3739fc2ba067',\n 'Domain_65084868466c1193ba03d20a0ecada92566ac27e1fd9f935ce0c2c9795956595',\n 'Domain_af6044f8f425c08976964d67995939c67828b7fee244729a35a1eea8c860433e',\n 'Domain_92a2b0e7147ab1f2637151e21c2a145ab7d29c70f9f1e4c75cd2f6d69f51992d',\n 'Domain_93e3b3ac70216c15fcc2b81c6bcab82e4ff7093fe8027c56c9e6efe595d86fb2',\n 'Domain_0ce10dd6fb4ff12d75ea7a33fe0d5cb96eab6e0f7cbe4e1bda5c913d0a99f04d',\n 'Domain_f7ff341db77a4f58932dab2cfe68fe408d0eb9b58180ec47a1ffaf5e7066b255',\n 'Domain_a006cf20739f219ecebb3e14e2da5ed025a8a6f450ada68e496de5cd091208ca',\n 'Domain_e5aa3366b892c5b9ed8b000b8701a74bb1d9d22c891c378523332dfb9d35279d',\n 'Domain_d3d92ffe51746b618b98cacaa3078a64e2d97ffeeda57c7d89f3e1da147a0409',\n 'Domain_1d16670c6656e56a5790c37a0ca7e21c72b307967adada27575e613ae6da935b',\n 'Domain_f8ee4cad503ccbca1f9ba851641b0baeb374ebf821f8645dcbecc8027b10c4a5',\n 'Domain_6bb5b3cd9580476827ee1420c5129ab31a9583e894ed182734539e964e8b9814',\n 'Domain_7d7b91723920abb39c8dbabfe0984ede2abe3580f70160325be09e0300bed83c',\n 'Domain_ed41862caafaa647e465dbe59853fefb339d9fafc5f35410feafc376494e9be1',\n 'Domain_52768eb31970fb28b686c55ca5d30adf9372f0e309a31361ba893e8b7a5dff97',\n 'Domain_4ffccf05856502db475bda6914cf429800893ca117df80e0cf6150eca50f188c',\n 'Domain_d07e8a7c7803afbcaebc9ab03e62f913fdd5bdccf97df1ee8d83f6a478009b74',\n 'Domain_c7622a1983e1c97a72c7626b602863f6a74ac02c96a848f0a530ea9fede052b5',\n 'Domain_e9ab170f965fa8dc1d125847c0df3863bbc3baa098366bbeec8004fbf6a27f0b',\n 'Domain_ba4484e0b3896aa3b167374717a86399a26d92c7ac54d583ea8c18063fe355e8',\n 'Domain_6781689def289f5e3cd9a5063eece28730eea420c9378197039710ca7a25979d',\n 'Domain_a5eed2cafed9f14ea383c003e00f65e5020e1748bf1f44fe66103e0fc30a12c4',\n 'Domain_12a5941629fba9afba595d182a035fac9da5d2217b4fc27a6974419fffe401c6',\n 'Domain_f99d5b7d2a507552202227bddc1176907c21a821fcd2d5ec571511479acfabae',\n 'Domain_20f9ba8d2bd43c5d36753d7f6b1c0afec0e5ce525b8ee3a4badaac33776fa8f0',\n 'Domain_c5a732dd18a0e68c1d858f6ca4959b6b42b57b97f438c0dfd504cb811653491e',\n 'Domain_11c19960d2682988ee725e942183b21173b5fc066b2bb4dda9d92953642a8083',\n 'Domain_100e3cea31ce8aa2bc772c89d47d7a02b10530a64c11f29fd7b21968601d7ca6',\n 'Domain_b90caa4dd4c8c57ea07a10764c99c1526e28906605d307f42732eb288bb6b638',\n 'Domain_4630b4a719664e206d96375d1268547432b799f6e6439c31e889f83ad9a5ba06',\n 'Domain_89f1440a33ae767f9ae4479aa259974b495910512de2541b3f1fc66f8830719c',\n 'Domain_7e33c9bea97665914877f4813209f04ac0ae4c33c6d7ca6f49c02660a5c1d3d4',\n 'Domain_179cf8e20a4bbff02733a2177f007e0bd35e47936f60d21a594dddfd85ebdadd',\n 'Domain_b6411689104ee6e28f359c97dc25a888368b9cd6bde8c3bcb644efa1f5c2b4ab',\n 'Domain_942af6a8a95353794bb575e7d5d05f512c7fc1237372bf8c02e19255bd885385',\n 'Domain_a66ecb9ee3cac1282ee3906c48a55fc695e80ead1c888bba9bbff215e62fcfb2',\n 'Domain_a76db3b3690429148772ef9c4a65f08dc6d3bcba895b4f49ae44bcc4f1a33f9b',\n 'Domain_e322dd450d2f28182a901bffcd7acf3ef56c63608e50c8c4fcd8395950936066',\n 'Domain_6ca84a5afcd42ccc20acc5b2bcfb8ba619dbe9925505e90c13d90cae8457755f',\n 'Domain_8d75e56ef8d157251af402074ad417349f3a76c3424718149de64f228ed80cba',\n 'Domain_2afe1e83ae772885a74527b1f8fa249d2d282d6b8b4badec534e874695cbe7c9',\n 'Domain_9968ec4bf5687691febc947b8708ea27395dc947e030d682a0405bd674502efe',\n 'Domain_742e463c581f1fae71046af1db34c55fa316fa6528c1ad98c1c28231176670f7',\n 'Domain_3f5f57d4faad6244072f3d9e2acdbe246aafd9f7926123fcaf22a829063a615e',\n 'Domain_2e37f329f466902a47d1db93762b950b97291007f2220b163425519b89a0a3da',\n 'Domain_6eac9870573bcfe21074eda3b7faa866317a4e171ae5eb3e5ee045e998ad9c87',\n 'Domain_1dce5619686b895a415b9b6eb29055c4e39ffb77c68fbbb085e0e498c0fa7764',\n 'Domain_4e443c5536b42dc926b668e86d927959a4643466abe0113bc2cf7ba0d6a73a05',\n 'Domain_d1ace3feac43e76aca92097948d23bc0e2b811878e3ac9609f81289f70f135d3',\n 'Domain_5773dc1e4d822d7c71f8c13a7bc52f34d0bb497bea5343e6f6a7edb921ac0d95',\n 'Domain_49e3dc24e9a661f64e1d70c84b0bbe0c3e1be9d22db68f3fc232f30b5083d86d',\n 'Domain_7a79157fe0cabfc5115c3dd355c2ac445f4a3e9d3d80ab0f8c5d4f808314477e',\n 'Domain_d210c0436142ab192c78dff4afebbee0e583c4cd1824060fb90efec65c3d586e',\n 'Domain_47efbb0be0aa20ec19a7c7348f557fe6a2bf5715569802b1d95b5b8e38c1c8f4',\n 'Domain_db170d1b553020f5ef401942c4cf0efefb12b790311c451e96befac4e5bb161f',\n 'Domain_86fdea3310f4742979469ad4125c556d36abea93c1756cd6e0c5e9aca1e2f6e8',\n 'Domain_9f89d82bf874c86fa45591aecda01cdd6cd234d5ff05e23dc3464d84a929259c',\n 'Domain_fdeeb4d2d2e41aa1c6a58b59a09a56c5825458543976a2ba548a277f5d417fe4',\n 'Domain_f27f2f421f21b2bd168215651b570341fb6db98f7c336afdd8b1deded2efce2d',\n 'Domain_8659e9de39a88dc208eae9c4eab0791afd0406142fd7220cac3e7793dc802a43',\n 'Domain_3bf7aa352cbbc0454ce9c1905e1552238a78670a42ab21c970799f665f5b9832',\n 'Domain_c142daeec513050c95cc22c21c20cae1c514f96e983fc134f93c5f57fdaa779d',\n 'Domain_8beb0f1933e57cbf4566c5fa7aab0d2fd31580c4c3d56314932d8555724aed11',\n 'Domain_3989c93f45d5cf609ecc7cb714e88cdde596856f5e21cd86f338b17fb376fe48',\n 'Domain_eec28292b4e0392b0c6d724c308f4c2c9beb0bd854ac5b147bf45d263c8c5729',\n 'Domain_1d4b5bce32b7cb9ba324b6b464b422ce937a88d7198e5605f53154fe40d476fd',\n 'Domain_5a03f2bb4004d41c166b1eb1b1c47e1b69545e8f6b4ec9042db14aaca0027b27',\n 'Domain_44a8f03ee6c3a84a253cbb717ee42b71a7cdd1a7c17d9c2be8a071a0f6b66dbb',\n 'Domain_3ba673ca046cd0a1f4a37638065e959755c9becc81c577fc350582d7c943322c',\n 'Domain_9763d7e17f7d1be9cd7bdee96f2a91835e1d2cc6bddcf0a66d15de9588583473',\n 'Domain_d3d782811791be0eb6acccbb4f871b9679dba1efa608f91bbfd0e113c04c6a7b',\n 'Domain_870a0de7b0b5311a38260914013628a6fae551d579cfd419fc74d7761ece26cb',\n 'Domain_c08cd6ae78eb8cc9834fe6a5e04a407f99b4348a3893d2412f665b419bd26ce8',\n 'Domain_28d043d7a87ea550ea24e362d4636490689df17733f8971172d392ba48fe37f2',\n 'Domain_42c0a985af7a7394b11c1e6b14e4d51899eb6a34a3aaf4873b451535aa59dab9',\n 'Domain_d4f1ef229fdcf0b8427eb9f27e7f83b61ecefbb7820f8ed761b98c6d0d1f68df',\n 'Domain_31fc74657aad0ae13753ee82beef5b3d8e7a1eabdf28e4487b8f3d4bc433b6e1',\n 'Domain_15773493ae7469115ce4cd19ad037712ac2fe251342a758d29db33a53f12e9c5',\n 'Domain_d0e76fa418e0099749ee46934e1a5a627c91ea3cf4e343c26cd791d5ff51bc3a',\n 'Domain_c48842d2c78e1b768912c754886caf85dd04ac76a7119f29b5d9cf105c941bb8',\n 'Domain_2c64f3124778c0f8cc6b388b1e7b74808dc8fd82bf286ab9e33077a34858eb19',\n 'Domain_c0901231f509ca0ffe4a17a6fec98d647c79932a9198f0e28537ae4625055ab8',\n 'Domain_e93d1557c8be6836546fb100c110dc5f9cc9d5b8ced6e8a5abaa64180bc80fb2',\n 'Domain_de036f7986361cad84a67fd17e43b1fa634cad5f491e181b6aa720a67808662d',\n 'Domain_82cb86e6ecb8aec534758296d195660a9e026d8681fbe29723a8bc19fd95ccd3',\n 'Domain_62f016925dc08c13258a76409385b98286fbb5e26fd3cbcc3351f2b2570eab87',\n 'Domain_49d249f3622b81e17ce4c1252ac3299149c79406c6cc29ea7fefcbcb682d7179',\n 'Domain_5657ecade12de607d524e4c1f5b5e475ea00ee01351cdd3e55be229e6c8ba51c',\n 'Domain_507b632e422868489d003ce010681fa507eaea900ccbacb481b928fbbcea6333',\n 'Domain_842be1ff0a5929b79686ceb9b6e9300afaac9f42278185921efcddec5d7cdced',\n 'Domain_8636529185b6ac17ee9a0a9d1e0a25d150d7afc3b5d560bf92b5b3bc081be8c1',\n 'Domain_50fefb386ffdc05e80cafb26b5f7ef02f9ac2f4fee0f74db85eadb53c85e91b6',\n 'Domain_b6868523355be1837a673f1ec0fe7dd6e15da937b9ee71a8a63b7cf7fea23bac',\n 'Domain_928cb9f6f60a6e04376def6333e5bad7b1e4b744ec0f77c51bfbc1845e75f07e',\n 'Domain_21273b7b01fa18e584dd4c219a884b4cc1b80b544b98883a803b415b0b5de786',\n 'Domain_98303f1b6c3332ff76c0d0d5b7da7e7fff1be875fe15a4937417f28292cdbe46',\n 'Domain_ef8f73d7f6a61cfc4ef53d0e75bf194a892e33bac1bd8b22d4ec92b23de3e056',\n 'Domain_9ab9309f1c0d6db4d106c62b18220549bfff0357940b5420c30d33e41d5617bd',\n 'Domain_ea8c3762a2c1203a586383bbbd1a63527ed50a22c041c5f2090551bec4ce42ee',\n 'Domain_e3a8c0d7fda8ba3704b15833663825d5e9a09669c45140ad8917dfdb2d286a8e',\n 'Domain_5bb644bbe0cd945e7331df5215818a966d439f9cf7e854d15c4649c12468c3c6',\n 'Domain_4680ea9dda613f439ae2d178e091e01d48b88ab8f1fd947b02484f8fe04fa5f8',\n 'Domain_b792595c42907341832db523e2ddfa8630cf0c962c9210403dcef01c35e3ddbf',\n 'Domain_dcc5a01d87c8dffb24ecb58b2ca3d262944af96ce2ff5d8663594524e029666d',\n 'Domain_e516de881b7cd0c7212dad95f088ffbc4734b44af11a26a0da1af0b66e453887',\n 'Domain_76516da24a4ce82344916cea428e9fd2031003b7646ee2ad9370d0df77a3f414',\n 'Domain_90b3f09677304503dd75997b5efdfca98906d80de180ab1d47786ba1af0cdfaa',\n 'Domain_b1d7d045264ad77437f0d23601959a810f9bbff991d39539a1d7ba2a63c17b8d',\n 'Domain_ddcfe0954db7dc87256b23b78b882819d6db913d7b6574c52d2d897b134bae41',\n 'Domain_377fe14948c4ba2d9b4bb7586a85d44cdd512f77711e3592c59cde8b0bb77efb',\n 'Domain_c1fbcbe824e7e6ebe0d521e0a9eadd458c91ff3452cc9703c6bc2c0c1d798ffe',\n 'Domain_6b516609aea9d0259e751db49363831c566bd3cdf38070b3c2f51c70ef15ecf2',\n 'Domain_007abc6b2af745778d0a04ad5b09d2f516cdeaacba3fbad2ec4f7e6303e962d6',\n 'Domain_394aa9b4ff6ce1de60a3206ba559a81e2ff38276870a9f7abe6dfdc21993ada0',\n 'Domain_9d3f88d2decbc2f2e035f6ce688707a9fe70df2b4e64c1d0f6b731747e07b8fe',\n 'Domain_b7b245851dbf52f7929b74ce0c7d691d368fbc996964e695c2f85bbee314a0ee',\n 'Domain_25044bb9c5f4a65fbe433fcf3ab8920338df3c1e24face6862e8a4473652da20',\n 'Domain_fd8dedde63bbec6804c25f16ec8989dba0040bf11cbd47ea3b2c71af2eca5f36',\n 'Domain_e04a9443d2135892cacec9321cf56a83e37c5df392f25bf1939e62edd15bc819',\n 'Domain_2b1d3bc88c29f712f04a124beae5fdccfe653642cc85dcbb2156c219ad6d6099',\n 'Domain_bf590134d121613919515a522c6410e99de5f3b579223be7af28d74f9c68f236',\n 'Domain_aee15dbb6fc55f4a9c6781800119b919247465263be059fb7df22f7b18b0498d',\n 'Domain_6033823403648f699db62b24684e7cb681a8dfe40d366a02f1d37a4b7f358833',\n 'Domain_11d28d08af640ba8b7c54ac8a5dd5449254f9fc20ed99ad7c4826b2ab4d9e07e',\n 'Domain_33a7c344b637e90ac0c0d680564653235207e6b87edcb9d2bec3ed7ba84593bd',\n 'Domain_294f12fffaa1206f7f2dfc9d494d8316e4e40289a8286411e1f28bfdb8c035c8',\n 'Domain_cd43f3bfe561da642df3952c06860d6bfed08b09c88376231d5fd5ba8082ba23',\n 'Domain_168ab3216401c681f78570bb613bd8fe400b445431ad9bb70bec3138de2007e2',\n 'Domain_9605a334012881984f52ec8349830cb64d681a601503ba16e0600b71ed352a69',\n 'Domain_8b43333f23b84864e73861f575ed974ecc11055fed0892939c59e36b13ac9a59',\n 'Domain_92372d386f244a15cc23a87246e166002e2e6230098381e09dcf8a2c930093ff',\n 'Domain_56f75dc84f1310a13032a49dc622e31e2df6611f4625b998998fd61124bb53c4',\n 'Domain_7068cdb622677081bd866918fba932cf2b0a00e963c2cb722eec4899705773eb',\n 'Domain_02c630afa069e64aa91a2ee26a15afdcf1bf26d9250536b194f0e1a91e896bdf',\n 'Domain_13a3d8b80a3e4fa45d6eab9fcfd71e9e0a5f3dedc529c138f1a583092032cc14',\n 'Domain_cdf19281f13ffeeb4d8c362d21606171fa7f4d54839bd56563dc029617b2a8d0',\n 'Domain_be39c81c6a143ea1b6b36173a7f1bf2fc4c2fdb98810b2f1bf63b60bdaea6a13',\n 'Domain_08363bfedb7bacad889c366499f8fa14fcb39d645a36c44ace2d39fd32c4821c',\n 'Domain_026911bd6cffa5e180126b5851f8dd9277941b2e774f5aef8fd58bce266f72e7',\n 'Domain_7f0358a44585be49f02c52514d204d569d891779be7e26b1c0d74c9c0a1943f7',\n 'Domain_f451c09efec566cc84879817c7aab11d1bb09cc4014367a22441779ba7a60d26',\n 'Domain_a245bb3126e7edd0c1f860eb15fd2c1ad16c28e55b17db467213ab7790f00d4a',\n 'Domain_6a40429b4efa97e1eed587409348fdbf2d90072e9573efe512cdf2e8f9fba27d',\n 'Domain_dab9e6ceba1005a187b614f58bae14aae215f485277398c2cf57711ebfd6b666',\n 'Domain_0898e86c85e0f1901be73308e29de242751d6384628b1dd0384fff262de7af49',\n 'Domain_28d4802b8e96702f5470056adb30ea87048981e879d06cea38b8b68f6db20462',\n 'Domain_06bb335907571bc453a9d5084accbbd7581c38e6fcab078228666585ce18a314',\n 'Domain_db539388ebf79d8196d2156501df13d74302088b1ffb1d90505fb9119e7d702a',\n 'Domain_33531434ed935061f8ce3884ed31777204f21c90d54cf3a23ce2295477bb5be4',\n 'Domain_b1ad6a7f36ef3f26e743502d3d9ba4e08e30af5d87baa1452ef523e1ce7496b4',\n 'Domain_65440cac586cfc38750f8284ca3bab1798c736889307185c46602776813bc1d7',\n 'Domain_5441d0468c2e91bc00fabe99f6a7e479caee783a0d2e76179798dfa3c712a36c',\n 'Domain_1daf8b0ed529825374a56a91235cb1de64f629df97d2e18c13573f4f319b3b2c',\n 'Domain_67e8a3bb5a4619589065e3bf5610cd25f2b0b9e0de66d9d8a09fbb4624c18987',\n 'Domain_fa221c6b280eaa1ec10b0cfdb76791f2c7b4c58c6e45bed094467cbf3850eb4b',\n 'Domain_049d9b5f7a3331dec405cf94034208e17239dd7fdc633b49100a1be44382e17d',\n 'Domain_a16c8f40aa0574c08adb3543319524a838856b527eebf839b85553733aae5bd1',\n 'Domain_25db2c69b7e4c665ca7955d4c516010192ec6de2ec7d6ae3351507800dd3aac8',\n 'Domain_949d02b468a0d4c6689c0b95c59769d0282092339905ffd02246186431dd9b1f',\n 'Domain_b0beb07d1f8eb3c280c3323f13d4f7d0b1e2d36fe9a989b3d57e952d9cb1f9cd',\n 'Domain_dd4f6245ca3310d1c1d39015ca7978a01129fe35ac01a0962aa998e15e76f7ff',\n 'Domain_d4f3506956340560aa79d7f3316031fb62320db2c3c14107e1be1bb57506399f',\n 'Domain_1fe67ba2ec3546bcb87caad71675021c76ffb784b7b57f2022c4f58a79d23a07',\n 'Domain_e16ee2f91bdda04adc809f846d50e8650c67724b0c553c42dd41e14fc97c6b8f',\n 'Domain_bf4eabca780e0b775ae03037601a43540acccdccde247f5ffa68c0faf458e600',\n 'Domain_69a6c3267c06a2ba0acad1b62116dac0a0b0290625970034ae3de3347e901455',\n 'Domain_557888f637872bea550b8e30f687b8b899bd5ea66f0a717ce687fdf5686d5c60',\n 'Domain_59f2a03271434cd797e34bdca1940ab7d15cdaf87759742dd3012d9fca8aa1ad',\n 'Domain_fcce0ba00cd6f1af5e2a641349e75fb600fddd476a1fb0f8178ab3469e18574a',\n 'Domain_8718cffd3ad7c0cca85f2da2ddd6accb1cd6e90a5c2f3c8153f7ceeab868e3a8',\n 'Domain_d7bd1007d6f5d9821e89941723d3fcf498cf6ace79c6193960ac412f7305b2f7',\n 'Domain_83f8178ae6d337a409b437f77736370c6dc57c94d8050f8d020f13745a2a3a66',\n 'Domain_56fa199e251d1b30c9789c8264767210031515b11d59b22c4c7ef53f4a7843e7',\n 'Domain_f3c3795ac98419838081ace95b814a2518f900583231fb8b4b0434b934dd9903',\n 'Domain_970a6396b9d06a941052342b805fe38eb9f5626cd8e379d6f569375651e85ed9',\n 'Domain_eca136cb651ee1dd39bc3c00bbb2c97549bfc11f04ab50a652657b6eddf4e65b',\n 'Domain_a241343b44ca507fbdb8f8e362b95bfcb24481aa9693d9116e96ca908db69741',\n 'Domain_2657fa5ea210cd18ce8efb8c81a4627bc0a8ff2590c8a1a4722bc7bbaefb5d44',\n 'Domain_b513384de428fa00b9d3db0a8b77d0ce85b1c58317b073d8fb0d0f58e78eeed4',\n 'Domain_dffc66637d23c38ffbeaf78bd8b0b2610121aabf1aa5935f1fbf15e998421a81',\n 'Domain_426b84c6582962ff6282c3c8cadfc0b9f9d19f8fdb945ef7997bc33eabfb7d62',\n 'Domain_7f547ba1c89334265764f93198a611fea6377faf4faffb9badb5b005d1884793',\n 'Domain_8f95d376ff8a0939e8a1442a6ae9cb469c72bed286df87e462333926c8eff492',\n 'Domain_9767f7064e3a897b1e224b05728ae03bc94b9ccfc6b58c413603171dc946196b',\n 'Domain_9b2cbb09af999a98c8d7b815ea3b77cd05153bd50f06a512d9d6c10b0a0a5f77',\n 'Domain_e0eb7c4dd99da5140f7e73b5e898c85cc576d13f994fcc1aace4d234b67fc12d',\n 'Domain_d239f511a6dc5d65d954dfff5c782fe9fc993a89e242036070bc5c3dd25cc429',\n 'Domain_1750801125df0d4e2401608e725feccc5aa068efe75fb7cfd272965f54e60be9',\n 'Domain_9c266a915b21b660b221e32b48da232854b4b83e4346496d52b6d9a93d683cca',\n 'Domain_bc054d9c056e6fd662a008cd13577e9c6247fcdd81eca50e7ee685f42f616a5c',\n 'Domain_43844afade0bd2f562dd30191a25fe39ef036914304d49a08fc195a5b74e455b',\n 'Domain_0111931a0fcf23c58d61676b72afb38c1e1025bdb82259363f6143dd47ede3b7',\n 'Domain_310be1143b09708101c95e095ae799896729e9ca2cfb8187b83ac9a27282c24a',\n 'Domain_ae02495a6f41de19947614588779f06ff5024be944e27d886723cb02decf3b79',\n 'Domain_a9e33ba2dfd9ee01038a77147b8450bdea9515edc12b33b69339133e1f327075',\n 'Domain_67915bde9c22f51ed7f97edede9f07b79ce3850802b5c3b932e355a2c19b6b5a',\n 'Domain_de8c6db52183f7a47a4cff145e6fa4cde13a4cddea4221795ffdd18c79c8abc0',\n 'Domain_cccf1cff7681d608b7f52120be09b16cdae7884607b733808a383c63eaa05c0d',\n 'Domain_42a3dad0372cea5293e6c9b6e29d05d87b2a5369b9f9e50beb9e1dc88e6dc0dd',\n 'Domain_20be2243f79ed793cd0a5418673154519424884b7f8bbce66ef72618b2f3d6c9',\n 'Domain_66aae0078c531ae6abccead9533fb4519482ad67bd8d2d5c4525f0347776238f',\n 'Domain_61f338013a08b303e2dc3b45f3d906ee7f7637ae799e126a67993f01c1a6ce8b',\n 'Domain_c4a0d2090b5086c5272a1cc3dbba3622c15fdc9783dcf8a83db045c225e8b6a9',\n 'Domain_24b23f56753c6ca453dedba287ca1b574d3c456b1830bc5e11152ded63bd746f',\n 'Domain_e3650d2c878d75560288bbc08ebdaab0aa3b1b47aa1e6bf7139918f32aecb01e',\n 'Domain_ffb4c6f42928ddb6a998ab5c8e7c3b8ca5538aa4f2f9a2d3fdd633d266f27d24',\n 'Domain_6d826ed0f5852c018a767a1f750918441121340b71c82cefa5f2aef231ccd757',\n 'Domain_27270f6ec986531e199d7aef25a581cd1e2d1fdf5ce6f884b497216120cf7f2b',\n 'Domain_91724176f5bf0bae3bae9d5450b97d56f2f609069b0d506e4d09b416336283aa',\n 'Domain_e5b4f0439efad9100dfdec2facb50faec3e14f41df2a2969b0e089f865838c9e',\n 'Domain_9078dd8b2f04fa42ff41b8fc7c1ac78243771bd414a9ee616fc92b26a74461e0',\n 'Domain_483a36eba25d622cbaaa8a9bdc8a278e57fad3538912f9b1c3e9241f03b04816',\n 'Domain_91f7e0947d215b5aa9e5e20466ca5d20fe98053bd1d594c16b46ca022dd82e89',\n 'Domain_1dc1833f606d374ee8eb154f48146821f7d66117fd706f4480f7723704e1e2ef',\n 'Domain_a6832ee86d0a7487a9d47b75224ecb74743a32e461317091b93e0c7b5df4e9ee',\n 'Domain_c7c66bd248ccf2f5dd90903110d7246bd1667f3bae0957b986df65d64616cf86',\n 'Domain_6929e72afaf2cc0b6c242e17b774bf2918395a90b52d7309aa7089c138806b93',\n 'Domain_4c6e3825fadc8e47d12e2892d164da4a412cb0638867493c55c37ad6f5403286',\n 'Domain_ad146d4cb8e5863968a9a45ea98ffeeb51fc839dd2c9fa7bc703a5ded99015d6',\n 'Domain_ba6f32e458f0e66fd84794a1602d9955962718bfad9cd086277ad1827b9b9cb1',\n 'Domain_18cfa9ac3ccfe9b7cc1299ec20a13033fa2f8475ec4865a5595eb903f3568241',\n 'Domain_40ee420cbba70fb92764b4b078fc9bce64c5aeebac3087740f873efa79bad083',\n 'Domain_efdeccc36c966789bfbdd4c93b59cd163386955f3604d3b7bf53f9010de42706',\n 'Domain_095aab795ef5c17fbd194d4fdcea25f8b94e743e60fe418757aac2c311553de1',\n 'Domain_0ac0f8073cadc17b046f078ce688828a52d96b672d4f5cb77ed9e4c06651ff81',\n 'Domain_74460820aa4821cfed75ccfa4fa71a26d0ab6c57dd88ad64b49f34d7d8ed3cdd',\n 'Domain_802a6d7e98548023860bf40b50295d48781496451daf11fb516559b18eef9742',\n 'Domain_aa8684adc56f5ea01c258c8ecd97b3881fd9de2192c1838464e6b77289795c1f',\n 'Domain_036e3f4a572b50284dbd55c1a4245f71558232324a32def054b38530588e1367',\n 'Domain_36b100baec4aaf60d62da4473a6b746baffd16bdad9028e381a03c2c9e8357bb',\n 'Domain_e899bc4707c2c759e470f99c4c75b218fb17d8d6ba9c882d72be9e342c027923',\n 'Domain_c32bb05f70913e23217d89eb65aff9288be9d9060eae990e4fa18c89c1eefe13',\n 'Domain_b3d8afb6d2f6a5d48e47230b053f64cafb84c6c278565a684c05a9e1a24f3f1e',\n 'Domain_9baede0b4e2b957e1be68b6c8070f737f13de8bf908b6a3a67832157aabbe835',\n 'Domain_473503f70cb3f7eb0146b0e85724594a7c17e69203596f7149fcac8f09b9de78',\n 'Domain_b6063e16d8baa05292afb5fcd6a8a503bf6cef18e87de7f9d6a132aec9d182b4',\n 'Domain_07f3d562df1111962a9fc88cf31163b7afca6746eab50165e378ba58dd1b01ae',\n 'Domain_9589223217ee142d135024521c33e2ba40d8c4facb7a88217ab0a94d68a5b641',\n 'Domain_c2141fc2ec1839ed77796980f0df671ceb93e8013c223998dd67a98b0013352d',\n 'Domain_c4ac96ed1474445e9c9f5629aba89f354ebeb850e57d6f0552b0b0cd7d8d13ae',\n 'Domain_5509a486d43446a3434f0d72d3305fade6bc7bbdec705b1a400a778786120c29',\n 'Domain_94241817b27b194faf62b487f5fbbc8193cb9eee8f6889bbe9e2bfd9e746510c',\n 'Domain_05bad6af064ea616cf09d5ae4b5392e8ef5cd1acb4495c223c7ccd4795d88c7d',\n 'Domain_db2ffaa86efc9a076aa648e33d3d8d413b863fd4441d0458e9ddccbcbc5953c3',\n 'Domain_08cddabf461316cf5d46911428177077c3ed1521404a2ce597866d460418a310',\n 'Domain_9c1983bdf2ddf96c4bac7cabc4a3a90048643e9a1e53ee5ca0f0a7d245ef5268',\n 'Domain_a9d057cf4154398a64eda92188ef698c9de7bec398b1651d80812715075356e0',\n 'Domain_8243f958d5b15f09819ccdac94ff1ef9e712c564a54903532c7477f183dd3ef1',\n 'Domain_9f0588b497ed13a0e399c06c974092b762e3bcaf981c72b72cd5c4bbb355eed9',\n 'Domain_667ae20539cafe7098d80a7f08e17b584e13950e70f0ed224d64f9fdbd5ac525',\n 'Domain_fac3217acd7c0ad31f2bc357c37b310a9b532c0128a4af6df352c2e86d64c2b0',\n 'Domain_a313d3340f0d33ad3efea1ea022cd6bf2eb95efa668a8369e4b9af24ea0e41b0',\n 'Domain_faf478d16fdab3b283f2765ce1ab5d5f3bd6af24139a5fa790ca7371bffa096b',\n 'Domain_eb1e105098519da5118649e4f287fbaae98801d115c4541dedc3734fa5cb2704',\n 'Domain_e85dc3100fe65380bccc56d03f120208020fd30f11ade55cc523bf7e6e217e29',\n 'Domain_ea144c9098b6963f93920d762495905b942d84ab546d62c59ed214e31dbb7f76',\n 'Domain_1c25dc745eb82bc32bf035e8b13d8a2e438a79e3acec09d0808176ce6aa91a06',\n 'Domain_256abd769c1e68b235ea138f55adde7b16e21e98e00a133b439171ac4061a117',\n 'Domain_beda3a25f34bab171cad24a0cd91c62e6e54fa84d4a8a8050653219655607289',\n 'Domain_0d4d03064321178c16bc58f730492ebc8e6b0756a7a73db0806228af75eebec1',\n 'Domain_57d2eff6fae33549094260bdec217afe0efa5266c614c44d3bb1c5d55db91491',\n 'Domain_6a74ec8e5506d03291c6d4e9c03234647666828b752f73b5d416fd34e1813496',\n 'Domain_9450eb53e9b8b5b921ceafdf687ba2ffa9b4dbd7a32b42129c4026838e1bce72',\n 'Domain_902812974da31efcde23399f9c34b92fcc20813d35b7da50f571d3303cd544fd',\n 'Domain_d5735b5587ed7c341528c43f23d930f9a9b86e3fc00d50c06b1b94a5d61d1c9e',\n 'Domain_f4068b776da2fcede99d7a88a180963f49df77f74edaf13a2ed3c3bd60baf240',\n 'Domain_e912a74539edcb99d676ebbe9dd7b8e968644cfc7ebd224427d1107cb8e98cae',\n 'Domain_68b211bc47be834114fd5f9946f5c6061375c37882095917bc2db586f89f4b67',\n 'Domain_fc3d7ffa4836c370cd17f3379266a04c367ba596f205ea7b89d7744d95df5108',\n 'Domain_2222c22aeb828e8c7f08ab179d3f5bc494c261d6f20726e93142cd08aa77c3a9',\n 'Domain_17192631046c49d3a06549fb562f88cc60aaa1c69cc59f2d6684d2c996a45efd',\n 'Domain_0eff824bbd0d0864b11a91bc776867ae25ea138cbdfa514cdf5f9b08597ffaa7',\n 'Domain_a92653b760b6dd69b8fb2bd182558469b5299c0b5e3459fc824a1cd3579544a9',\n 'Domain_a2d45635cb80ea880d926b6adecd09426a8aa36c0464826079efa9d33c14008a',\n 'Domain_df0884d9266c0050f28b623f5b85b56616e564d924884a46ee9c86d1ce13a732',\n 'Domain_f75f7726393678a405d3864576a910baba4a457b26e649a79065ab4e35a5192b',\n 'Domain_015c026a2df98bfef6a3aec7955d3740e2535f97e3e0075eb3deb6e9dbabbb89',\n 'Domain_f06444bd5c35ecb5037de5bde89d9d4b70d4d5d673368eb0f485579fdef45b1c',\n 'Domain_7ed55cdb54ef2d772171731b9547340f49a8f3745d5790e52ad7b73211f4bf1c',\n 'Domain_9bdba594dd65aeb7cd3063f91c666d7115240fbb5cbc6e91fcb799add8686d31',\n 'Domain_43bd94895ae762966e67baf346b7e6046b89d8d78edd80834ff6ec36555882c4',\n 'Domain_b6db015205a0c3dab86f107c649923e64d0ac0a7bf64580927838f288d402b73',\n 'Domain_1da67a91dbd7f671f8902a09c40bfc0b9ca70096c0a83a194a7b5af003b01e1c',\n 'Domain_73298c99fa283f494bb408c7c77da6bad4817afa1e32aac8c7baa6d13babf68b',\n 'Domain_0a508b186579e4040ba632efde0ca76c30c40ee7f96b94c5c23e58f2472fb1be',\n 'Domain_11ea5dae2aad8cfe7546620eee3647dcd4c0d6811b6b39b96b0495a8d4ce899b',\n 'Domain_f63d3155834e24b2f119d9bdfa9c850c57ec0a3a4df097b6ff6aa2c687f27f92',\n 'Domain_bf74a48280acd2c1daaa49c95c7e4903a0f5f966692684038f561abc24c40a15',\n 'Domain_be02475eeb5ae86fa9dcf3950c91fb3b794958f96a4f166c5d5524907f35a916',\n 'Domain_cb794b855980a1293f85b454e3f79379985c215e9cd06bbedbb186a44e48e0cf',\n 'Domain_f1d8c913ed90d1893536d73662f50016ea2e71e9bb4b62491dc1c63b86e080ba',\n 'Domain_41c4c5bce4ac965998f3a0b643200023e4049e16739416c89daeb94dca8f9789',\n 'Domain_abeeafce1fc85271217cd84cb8c951bad2e9527bd59c468c59dc0a3aedaa760f',\n 'Domain_84b5637edb9a30e537a20993965b61fe72cd9f0bf1e92374ae081d94a8f0d79a',\n 'Domain_0838d13bef318dea0b30727fe9394a17c26ad761474c5ed72ad86603a0c253c5',\n 'Domain_959052ce5301223cd1e44354d468935972e8a6417eeb06c050d67849eeeb992f',\n 'Domain_edbcb63bbe0d97e1fef501495b346284be245c02b1c0df22da72dea648f13ffc',\n 'Domain_2d39c459a80aba46968b8de7becb983a585971bbb2d83bcd74923e01110dfe8d',\n 'Domain_0cf85529eaf32af19dc0afb1c950a611697c375cb5b3436b59458a9b837ac88e',\n 'Domain_1dd80d94da29c045ff04e5a14ebb46fbe0270b5a2c69f0ee329b6270d07620b7',\n 'Domain_d431c1ccefec912ecf2585cd9a87db7605f25ac386606c111fc2f4253844e1d9',\n 'Domain_75e25dbf08f38ea6f47e2c56135599f8bbb4b8365685bc16e556a77e6ab80132',\n 'Domain_997826b7ac775d81c92505bf82786df8a33313eb2aa4cdb152581c929c6913cf',\n 'Domain_cdc60ecb4349720435a4667fcb8a1b54200581b511606e5dfcb95fe8086714ef',\n 'Domain_7ea6f69edc67472db0277f93a3e54716f9ecac85a141de9ca5799af94f28551a',\n 'Domain_67bd42daea2d8a146de4ec8b605ee0e12e21f620e32b98fcf6dfbcd7dd1b8596',\n 'Domain_4134502e44e3cbf82319813f06bfc45312507d5312da540e04b695a6c4972ced',\n 'Domain_66b46ab89dcae853b049ffb92a3fbeddec3c284bf487c37bb89835cc7fc014d7',\n 'Domain_e8ef851432528db6689ae7ef3e726612dc4a8c73c67493b3a3e3cb7380ddf441',\n 'Domain_2988541aef80a2ff89325f28ece78fd7915b6e2ca68060e84421e7f6e5020b85',\n 'Domain_d751e9bde65f977e1f98e9bcb68213e16afd34b0f48324100b79b25dd705a313',\n 'Domain_b9c12e905f7964fb64b4440da09689e03875cc19b6781792f0f5484d846ebfed',\n 'Domain_73015f9db6416cbcb29b724e9974c30ec70433b31607b61a08d5d6df786e9f01',\n 'Domain_6ce10000ee86cc61f90043fb29c544a6e15df4273516d637bf3e10524d9b279b',\n 'Domain_3ac861c0a9f403190284972a521cea1e7aaa05f67e0e04cac96dbf040c40a15a',\n 'Domain_c29ce943ba8c2d7c8dc2e85c3d68284d7f0f19d36161a3e05a8f3fab5956d615',\n 'Domain_8c5a286d07709aef9628b277641f4933630e1df371296d0600c6fc0ed67b5c72',\n 'Domain_b9e39952caa2c2e6022fd7d54af9ae778491dac1bf5cffbd4d0e9bd20beb22f1',\n 'Domain_aa40aa00b8228bb598141986a28b924887b4fc56a734f81c1d884501fe5f20f6',\n 'Domain_de5b38556d494491054b1f657c6bd6e5758f920a9ca065209726fdd6f37d4234',\n 'Domain_3f6c25993c14cf21a7ad267466639fcd15bbd53408fe74fac140a6e851835d7c',\n 'Domain_ab914647e96cf6f02540ab61eb5a0a60bb113ea3a6899ac84757fb124184c5d0',\n 'Domain_6ea069320bb65d6d51652c86ed04655ebba8aaae234a5671b47c948d0f62c215',\n 'Domain_211c57bcbd6e8fd88b099ae883aa44c078f4a8a7da4adbe49f3edc36660ebc44',\n 'Domain_b729456743c6b27dcde87081a3dcea5d01f8e03058c9adf7708d02a88f1e9eea',\n 'Domain_a98918b0669592e8d7322be172f60900574a055d2a144f71360ffd5946925977',\n 'Domain_ef85cceb7d33800513c21bb19e2cc4c478d86c221c61165f9550aa0b9eb373f8',\n 'Domain_7202f34a5f5e8874e81884473c26f69c6ef34ecb00ea59f1ce7f265d09dc4d4f',\n 'Domain_c196f097a02072898a1084db6fb702ea96820f68960753d009f48ca438ca9dbf',\n 'Domain_39342a2e71c67c1cbb3fca28d562a7f81bbfde2658ce2be8907924a693a692c9',\n 'Domain_b7c97cf3463f89a99039efbbece5c9d8a61f9ca77e62ead918e9519f641955d0',\n 'Domain_506dd7d69df3ad84d0cdc2a3d42e83d67c788b2abb3e9d7a6e72b7262955aa42',\n 'Domain_02f59c4ee69f6a30cc342d5ff8177662b4a1b77c2cac903bfa54c96f2889f077',\n 'Domain_67466eb3555c72e028786b6038a5857a63c9d225ff43ca7522438890a34a4b61',\n 'Domain_0d9687a97911249f3780eaef09fc7beba05b5de768711366e48bfcdaa16633c4',\n 'Domain_6da8f10bcc1bfac4f94cbe98acb574fdffdc20cabd5b79ca326ea3aecf5ea3cf',\n 'Domain_10f250f8594db88b813485287c6f22e7f64885e11705338b3f3776b740b6ad33',\n 'Domain_64ef84c7623cc2bfb57fa66386c3240cdde91b3f6cfe73d4955fbecc91a1ae7e',\n 'Domain_85299c02ae3b12153547f1ff7d0fd8e51d0830097c24a177ffb2422da5eb5a79',\n 'Domain_c4b41bcd8a1a1ea2e35790598959a3e485fc00a9ef6662614d119c2cbebab424',\n 'Domain_f046eb4cabb1fe60fef48a0efc651c0f8e87496074cacb0ebce5ed247159ea23',\n 'Domain_6a2e57c2605a38f8b202b2cae142e1228d55d9e07b52f12663156b8e354cee17',\n 'Domain_521cf5da0ad041ab5a0b8ecb2eec4c61832acf23e0e8aa316c70ecb57425b43e',\n 'Domain_c558999d8e1cc257b67dbd3fd0f10a4140da246eb1fdd7f99b7002ebd235e4bf',\n 'Domain_74fbec2fcae3f58aa5b10cd7dc1dae6e3fb46f588dde1a3d96925d1a10411f06',\n 'Domain_4badd3f3ae6f250c6c4b61e49d919d6c7626a1408e04c00b093e833677a57f06',\n 'Domain_81d0c67eefd7057c3fe3266bcb6772c6e6b68dbfb624dcc99d24a5019e4a8b2d',\n 'Domain_fe0c5d24484c368e7a3434fd2d09165385f238f367c529ccc62a1c809104ffb2',\n 'Domain_2d06c97ce3e040e47dbc3699fb566bddd83c06482ba1f54afaecde2a4f708a9b',\n 'Domain_819fd455d8db967fe70fe0e22a60dc3e6ac0dd79b595e3e9b435cb7ed97e1a61',\n 'Domain_8d4d90213e38633b34be5196c328d329fce94d94b01797b7a6cba319f3c9b12a',\n 'Domain_a2ab9b9d4a58d1174180284f0d8e31e277f5c5b0b8e0309db1e82c061555b081',\n 'Domain_092d2f0bd10d12678ddca5b6ead593d9d4ae4b0cd8e7b6539997b7d976cacf64',\n 'Domain_1cf6a270ddccbb7bb1d4c1d32c41f2070838d375bf808da214f34aa664eb26d5',\n 'Domain_b876c2909e6cb8ebeabc2b1acabfca771f095d79f130ab1e5364c918b9631946',\n 'Domain_b3ca09a90a9ec1ed299658223de250f5aebc1f020aeda65e7c22a8a7a13a4112',\n 'Domain_a86393e829d7772cfe793117c2196a4896c7d881ff249c8f6969ec370479fddc',\n 'Domain_8a9f09faa8e24814aaa241125b2cd35ac97af41d99ba4067258a41a93f2b0c3c',\n 'Domain_61e1fdce7d6b8a011a5952d0e76803308372ee7425a026887bcfadb01cd145a9',\n 'Domain_fd37a657014b2c45570386500ca45340b6da61096107422f9a2975d8776312a1',\n 'Domain_187f1d1a5bb53daeb7e0d3528546230e38d68b38a30f76d0e88859db1b592cb2',\n 'Domain_7875ab96029b22c001b484e5ff13fde602e5a70e2a60c7f29b8d2eff4f176e79',\n 'Domain_588402d068dc29c4012369fd782120d546a689f3657557387141e2fee0649832',\n 'Domain_cfde1398adf476cca53e442288940873e9e404a858e59593e9148ab6b407fa1a',\n 'Domain_7fdb376c85de20b55dfdf37f7fc284df7cce55048ed418fe09fa5f20daddb725',\n 'Domain_90d49e932cb8b701ebf2771d72c0f91d3bd4b2691c6a93bd655b8648df4956b6',\n 'Domain_be47885d8b5847ea3ebe2e8a8f159b4ee94015e8e1b946a04143eccbfa8ee836',\n 'Domain_5796aee4449ef44254c94a5882bce9f2ee939ca747acf51491279f839dad082a',\n 'Domain_d3654e3eaba2cbcf9ab2ab1172a5127c8de8af14510d4a7c642d1f22d0b68f0e',\n 'Domain_5b33c4d08c55f72cae1b2649c0103e47d35b81e10cc62d9c1c172d847f71ac9d',\n 'Domain_e517a88f110e2781b7748032e1c08b8f28db00f15a80f1565143ad9b27420ae6',\n 'Domain_455a0811fe8a989fec2ed81213c31d62c8024751cfa5534445576d6f6ac10ed1',\n 'Domain_ffa1daaab40f6a1a13f853121fa9ed7ef0aed47217362b822b3c5156bd402693',\n 'Domain_99caf71f0d87cfbebfb2acc35e02b3708eaa0a923cfc02aafa8a7edc2c651338',\n 'Domain_a849715b769726e68a2213e9c9a7e8621d75b4355e8ec29857a759c3176d672b',\n 'Domain_5afa27ba13e570e70606315fcecea4e875233387d71898f5e09eaf91a2ead0ce',\n 'Domain_295e4dd55afbeb911016c38f44dae47e40fbd74f8d47536de1d2b06400d3f836',\n 'Domain_2548060ef062f94a2387fdf82ac7ec19d04ec20b926e86b509da3137c099798a',\n 'Domain_ff4972adcb6784b0005aa7e3ecfe9b4b169ef930bd7ea8b568762e6e2ea7f048',\n 'Domain_3f70a27fcdeec28246c9f95b4d2ac306e89a768e4d26be767ca160561d02413a',\n 'Domain_9f6518cf6462fefebe2ef60c8f11e75bd24c33f572ae06790fbef8868a2eacfd',\n 'Domain_acc69083bc9107cdb4b3629db62b1cd4d98d40b5fc7ef6f0779b006ae2199649',\n 'Domain_dd00e4320b2396d0705dead6172f8bb5129df01334caa54adb38d1f02f70099e',\n 'Domain_c87cd141b4a15189676c518a7ac8248368054646728a9a689ae3dd8e6391316d',\n 'Domain_e18c0d498aed24c22387ba93289176e25b79acc375eb531df10a0c17cedc6406',\n 'Domain_556d5fe57f0728a549d8e4365796e4dd36336d737c866b55f062e999b213d93d',\n 'Domain_ed316c71b1cfadc8b544ee45dbfb6ce16df9759bea11db20d66d2bdfbe74fc8f',\n 'Domain_0d4d2648407190f495d0217e81e2fcccb8b3d2cbf939c9967389b872e9011ec8',\n 'Domain_a957d9d0c4fc1ac42a0cf1049dc4989fd32578455307aa3c648e1cb1e6ee8855',\n 'Domain_bf67725ce5ec64a05546ef4ac3ab4e1241738a9cfccda183b82e961178d1c581',\n 'Domain_721bca1e107157fe9ce7c974f74dc1401e9d2f48114f66847cfb45961499c6ba',\n 'Domain_a4030070f08fa1058f83a6bf0d647cd69efa9962ae1fcaa17e37d5912bfdc3f9',\n 'Domain_6636e983988a3d4f1a4f29165238bd9d74ed050f20b3be5221d898cb6001ab51',\n 'Domain_194c462f481b91b7f386ead199af4006f30a05488618209301a8e356e2d18d65',\n 'Domain_78786c3b5f738cac1c4efb2914e35fbace1bdda433b6481f7a9d3297e716a608',\n 'Domain_eed2d20d28954f2b16a5274b72a5c685aacec80fb3a7dc5dd336a9055c5607c5',\n 'Domain_79549711125b7e1a39fb8ec6d837a6d39b7237c310b1646f93c0e5690d259f90',\n 'Domain_9a85a8baf572faa8d6cb52015a893acf826361384fed6e17fd1040e3a8df1656',\n 'Domain_9f76b12c4f3a3e71afecd15f039b9cb4c10979af45abadd615fb4899cdee8252',\n 'Domain_6e0a297eb08b1818f7024677e012c14367ad084f43da53144af6839cf866967c',\n 'Domain_bba161e49ef265cc291e5eda9e0184af8fd47f83248a5114b7f5b7e53f6bf5e4',\n 'Domain_7edf4c2b95796901b0574b37c1a4b6b98b4bed8eb9c938f2feb705b8f4688a13',\n 'Domain_da4b017ce0cd0966d680ce54682bb2a9e6d768344cfea2eda54ab4ef83d225e0',\n 'Domain_f8cf0d5f4b27483bb82ed0d45e120b8a10126cca0fbb050b8f64d8ddc058bf81',\n 'Domain_bf577ef3a21d7fc06817557ced14ab77c28498b4681823d85176ca9f0628fff1',\n 'Domain_d0a6fff2285fefd43b8d5c0fab9dd9db2920bb6223cb6a32f81553b14852971c',\n 'Domain_9731bf3aef61713f9abde3342dde9fe1dd56619abcdc7e246133cb2263ebcec3',\n 'Domain_54fd796a4b127382575a59982ac8614f54275892505308a0aa8b288a8c85be49',\n 'Domain_c17540be65f9f7b19fb3933218f51f91bedee9231579911f708ace49b9344dc7',\n 'Domain_2703ca4b37bad29fde90e534bf6f624483f664bf8e807b4850281a788a58e596',\n 'Domain_20c9a213ec5b87972c03cb28eee1f73d04d6885c32c06f1e40db6a8b2c4b396b',\n 'Domain_b750b652f00cf691e757e8eb5a4cbad43b01201f284a22e2865e8e0ed788b895',\n 'Domain_b410ec1ef48c0569d07389af0e72d3eed56e643d7908dc7a07a50438f7fda762',\n 'Domain_4a397268083390206af1dbf11d51dd104721d99ce07fae96622ea75ce0dbcec5',\n 'Domain_71da5ef0c5e3c880d61c85b8c723256d19d3002eb13e6adf65a95f3fdc9c126b',\n 'Domain_1860c4c7fe394a048abde5027bb8e0caf368a137c4ea5140b687a1f9d195351e',\n 'Domain_e39a55e3e65474a47803b712ad91fbefab0f0e14bdd83fc4a29eb4c87521e251',\n 'Domain_5f222d7cbcbc2387283e6b67b97f522434fb30e647cbadab48b7bb4a196fbc72',\n 'Domain_c108471541f305361723a0641c0c4340276733f854d6b15fcd2b770ce25d3c9f',\n 'Domain_fc2b13789d336a10b7cd9ae53125b9beb18f527c360878f086469f9596178cc5',\n 'Domain_1ad469d6a6fcd2063bec549b265e72fa0ac966faaa9600ca8a1f4e6d3ae972cb',\n 'Domain_a003bd429ee4e2d46d04707890418f0392318806c463b958a76026959b9e0af4',\n 'Domain_ea6e3d0644fcaa7bd30e5987c1d3b72e4dbbaa7a38c004b85fbcc03afb563f01',\n 'Domain_4a018031c914411124286e4e4d26517c0e37b387aa07c80716c098af2ca39f2d',\n 'Domain_3e697230c7ca0bc70779b38dbd4eb73236e35693d10888a6f3d6aa15fadacbb0',\n 'Domain_5e77f0ac863d02ee30d45cb876b9a26732aed78b8422e61d45d0bbebd6273fd3',\n 'Domain_aa04e88842260fbdc300d71ebe4c108a65b0f2f75d59ca0bef5f513e27106472',\n 'Domain_cd5cc5e4dd7ecd0e970faf3a4e388ea5c37d204e257770dd2ec2a0913961fe51',\n 'Domain_2b713b4b9e026fe6a0fa0bb2953de9ef09b658cb4952ee88464ad268d5afe372',\n 'Domain_64af67c5b38fad72cddc7404d01f72ca169c45ebce950382ffe14a93f069d57e',\n 'Domain_1061c7a2a907dc6fab80801d4aaa54eb47e3b1c4c330fe34e0b409fb8d8a9932',\n 'Domain_d9a96b6b12212dca4b7060498004a4e9a0434f4a4bf53abe62e0145a41967cca',\n 'Domain_f22c41f659a515a03b795d45196fdb98788befcfc5beec1917cf3d9450ce95c5',\n 'Domain_7d2da880f01a40e9784994ae1dd8817f0142a2fd76a4ed9bbd400b4c82e61330',\n 'Domain_4739157b0ee74d3da53e5851b366bed85e48459a7b24dfe048ff3a43d475e08e',\n 'Domain_b774a20abf579ce41412a16fbe19e5969a15cc36196098149d0dbec30af09eaa',\n 'Domain_abb8d4649a817b345f472f856b442c8370ded795e1f89d70aa1f081edba63d7c',\n 'Domain_acf772092fe9d54ee3a1313e1b89a12e16af0dad76b2a1ba3a194383bcb480f9',\n 'Domain_eaa7f2abf578311115f487d9d0109a41e1060cb79ab4f0a17c5c7b94ccba2fe2',\n 'Domain_a22979b30b13955a73dfc6073c1652982b573530ac620346ff9ec277df087681',\n 'Domain_722471064951e03ec7827c762ceaf9e6e37113f700afa8de8d19153111ebab00',\n 'Domain_819ac74f638d1f5fba9e1cfceb72eee2b228e9c89d702ecab1f10cdadc923a30',\n 'Domain_92d9fc87890cef69ce0da16372b19f6f91d86539e017247ff44a610bff5c53b9',\n 'Domain_7ef2956aa35f8f252ee1a2bbfae3a33bf89be5e73ac6e2ac650016c8ea784761',\n 'Domain_82cc92b43bbae70e91fa9a6ca96b0b92bc81e54958f4275df20f580a5baeb58c',\n 'Domain_4cad37322846793abbf44330439d7ddf1025f0e9358e08017e1daf0f5253996c',\n 'Domain_dca99c918a22f063af50b7a52f1f4be5a0291fdbc2499bc30b0145ef119370c1',\n 'Domain_cd4d4dbda5e33bfbbca75745a549bfffab6d4d9d76795f52fb79f10679cf90bc',\n 'Domain_6c541d16bc4381e8fff8494f2f0b6cd0243cad517376051278117cab247d9cae',\n 'Domain_ae188e7cf8fa73f0311e053892c9670f402f256f2f7772879098fafbbc75bd32',\n 'Domain_c0866d916405931e82e4bf5b4e28a7feed32ef05bd00e64490f10772fd29e7f9',\n 'Domain_21e6d13ab017c1dec85ae1b9c16dee7b439d4b16cf3551e9a1bcef66eb270c6a',\n 'Domain_35b5a7b3820067367528be8046b7e368436fcaa9def449fe3693c76eb3deb8a8',\n 'Domain_f69e1d1d4a2a325e61bed844616503d1d5cb552b423e63400ded671fee69d102',\n 'Domain_d16761aa18f6a271a5353d23a1281a1b626edd3c0293b3811ea4fad931022a10',\n 'Domain_db0a7a64ff7dc9b3c9c11d497a5e785a2a8dbadb17ea35726050b6f59fb54551',\n 'Domain_a402c04ba7473920233c27ab5e06510180aadb2cf3ded0525a400d3bfcabbda1',\n 'Domain_66cbf922206ad5c07c258b8542735a629b83c6fd7d1f0d0fb634ddb58261cafa',\n 'Domain_48a817e3aa601899331442ca5a6712929a8af7c50e88cf2103157c8cbc72ffa4',\n 'Domain_76d5f02937b7d69c752e834895ea239f9396a9292739bb8c0ec2a73efdc3da67',\n 'Domain_5a735345d18581b9547be7dde0aed24afb10c263934c1ac39c7551e4b1ee9da9',\n 'Domain_b6968a94e503da3836e1cefc22a63636858cebbf72621a4846b0ee2441c1ff59',\n 'Domain_06ec164a8ff22de96056256cabd62f521783713c6b43e14f39a595fa04104796',\n 'Domain_995875a34cbed1f7c955f1a64192e3991a9ba082bba33fdf5da1df5273b5d9a3',\n 'Domain_79894e79c3e9305e29b6605f66d522cf2d1d34164a9c6e583851c96b5842e9a2',\n 'Domain_afd80fcdef9aa93e579293c39bfab95c94ec55b0d58a626c499663df880aa80c',\n 'Domain_851d99e4e533cd0c6cf13efceaa0c94608de644bc419e697cf024190967c5a07',\n 'Domain_1fa048e620cdec7694e80ce2c93c99744694e562ae410d7a62d5b33dac9369c4',\n 'Domain_445993c46df9d260c5e85937d2929551fad7a59ede53511947e0ea5763c8ae8e',\n 'Domain_da7977042e39ba8f7d3350f2767ac58072d9254a2e0cb99f4a1472bbbd73716b',\n 'Domain_b75818f00e28ffefd85d6323c24de3fec2c17d785ee3e2548f0148992e86fb41',\n 'Domain_992c942749a5e98a4116e5489753765413967f1deb49f9d2480d526e0c9b82f9',\n 'Domain_62c7f81e21109830e54eb4c5f5893376cec4e180cb5de411bd267f801d20d4fc',\n 'Domain_71e811aade04498ebd20a282b0519c95feff01785725a8d13c83d4b333afff19',\n 'Domain_2ef8421c9a4ca325304bccc0f6d9940a44439f0bb11feddcf314ff3c3d15107b',\n 'Domain_96934382638e4948f24ea06c19df69fd693c57791d388d3ea97627f8e8a0e2a6',\n 'Domain_e161c9db5f3f36d48a138413f7c7f4f70724a6128d9e23cb2bc50d03e678e099',\n 'Domain_d29d5a83c8a594f052e2ae21f33dc607eae3b1f59ac0b38973b7efa6266de3e7',\n 'Domain_9e2aa3b37c92a94bbe0a3f4bc4feee34ea41112463d618728ff39e3640033c1b',\n 'Domain_451ecc64adb3ed6d69d8008d0cbd95c142b2ac61e51fece397da58c15c22f23c',\n 'Domain_fa2ba4af7f4895e50eb0aaaa09ed923e6432decfd25d4de300133354c5db9abc',\n 'Domain_d812023082e7f8332f12617fe89c23753319b27773105873fdff2c9bc6fb855c',\n 'Domain_77b4224662ca3d45f0217b8ad4ce4d61ddb5a295931b9cf8f33ebbd1b6fb510f',\n 'Domain_1569af644171dd0e288cfe4159d9e5d9efe8605b479c13005a34db4e8171162c',\n 'Domain_a0ee5ee3471a56e6f1c4045661a083e1dd245c91991456c0d90f0ba95be69e89',\n 'Domain_92d7617b1b7507b23ae7478575cbbef76b0ed23be4ea2d767df900bb4268954c',\n 'Domain_45a3e46d7f83e68c766a1b99000806d9357dfdd557a42da72fcdfae90e194e7e',\n 'Domain_51f613cfa4d6824972b9d882706cf023e4930da93bd81f152ee54c47aaf5ed38',\n 'Domain_899143cc7b7367458cfe14c116bca0a2da9c41b33ac94d312bb7ea6683dcb314',\n 'Domain_74ed803a36254c86d3808e1bb2fe88f5305c60232115ad6a65e8db471b9c99aa',\n 'Domain_7df8d99dcda8f6c7b7aee59687b7e723b553df7c3fa778e1e5e382a34f28bd4b',\n 'Domain_71b4bc2d4591d472a459633ebb53dd94d5b91a1f344dfe5ec22be425397c0b8f',\n 'Domain_c26c3d3807628ade2562fe247e0914af2986b4f6b07a62dc6d1e0452b03d4da0',\n 'Domain_a36fbaad456cef3f69cfd11e86ff5e9b6d53e9743d0a11b9aac56b9d7fa90009',\n 'Domain_93cfeca8ae48a6d35becb4492d4eda38da2e36d5611ac1ef359b30df356bc144',\n 'Domain_e369bcc6ad1028a399224f70315e69c97b2ca41188b5cd09ceead816265983ae',\n 'Domain_29b1d6500252af777510c703fcef789682896376db577b0403c5dc1beb89c1d6',\n 'Domain_3e551ac1c5dcef2c22b269087c2e1c9b6105db3982a4567346c2b8a2c347a2ea',\n 'Domain_7fa288d332e3af93a93ab751d268effd9c17d060c35373b6f1fc6cb60cab3425',\n 'Domain_6413622c3646fda1bc2e15a295d7b5102d0a508980c1b56e87f03d74a0a63d47',\n 'Domain_9f2b4a0cb072dbfc913030289c3afaad274ca55616dac253a8bc2f44fb1bfebc',\n 'Domain_fd6bcade65db8c39e542750eee3c81834950166f7f4c1d0b31d7f420ab64842c',\n 'Domain_6ad4634750a0f0ad0123db7501049e99c67cae9146f2d0166e02d4c0d92c6713',\n 'Domain_3e269eb230bc2fdfa2c597e0386222c0ee5b91a6430567e4fcb7605109385e75',\n 'Domain_059b8eb74c384a948853c1b20a90bf1804ca6df97aa8fa78c8255c2b238797e7',\n 'Domain_7de66fb3aeef7252fb6ac69aefd61afa87fe314476ef0bc84316c742440d5e59',\n 'Domain_2add83e93081d2b2298f12f2975df3ed19d1fd6cf4a1d5931c69b44be09c61f7',\n 'Domain_568b0b2581b8f1cd4d97a46e853d1ade739fad49761d54bd492c853d2724aa2f',\n 'Domain_b44fddaca62e062b4a1a19a6c8399a19e55925c1e398e94b2df44217b6b6712c',\n 'Domain_c532042c46b97fe85c7330075ca6caabdb65d4ed7a493d81ab6a7a2a5802865d',\n 'Domain_b81a8aef41fa1b02ec961d487fdc58889400e6998b5e76590b0b86bc685f8742',\n 'Domain_54cd0c9f1dd2c06b3032717eca82d62fa76852d7c1ba6fe4472bc1b595b2eaad',\n 'Domain_4256f9c0e3291cb8aa026750aa7cc3955082266c0e95d74fb9ede5838918ef75',\n 'Domain_dfd6001bc8a099a5d8e4a1bd8bf1872ab44181d0d4a992a3c4d1fed9c023df74',\n 'Domain_e6199af28126c0df41fe876f13f8d41e2cf398314ef1dbf9020e5a0ecd6ebee9',\n 'Domain_5f2238e6c31a43304f9fe62bbd4a52e16b5e4bc7b4c35786eb540711389ec4ab',\n 'Domain_9e87de2066f50061bc56ec3a73de016a9687cf0b59cc7e2f6eb17efea50bf908',\n 'Domain_7a45d22f0bff3ac1a0d196b9d52f235e33e0d0f67d826f3c145e45b06d3c4d9b',\n 'Domain_8663637c8bf05709f8e1e5b4f75e7cffa5d4a4ddf3b07f4cc9fc115e1db4687a',\n 'Domain_be84ec29f1d9cf3898178b53c9a14d659d26d9959b0e94feb9c58a8826b38f0f',\n 'Domain_1274ef67f0dbcd0f88d7bf105d5617b6e62cb368e615e2d66e921a9d88ada75c',\n 'Domain_f9adadc5ff75a2676d0f587cb2c3f41339841ce9d09eb935c562b720248986cc',\n 'Domain_f8669c311712ce12bb8613d57c7fd8f32124f4d77928ce3cf7cf8fefc177bc89',\n 'Domain_cd7d5f86bd65588eabec8abec7acc94b00240d421236d5290d21bc540973e40f',\n 'Domain_6e845d8787acd33bf8331c1d27ff90b5e6c8afb792c21475fe25a62094452377',\n 'Domain_74bc37f2a3e09bafcbb2701271e26fbb33053ff8497fed969e68e90b26dfb31c',\n 'Domain_3fe79e762688a36399c4d57140ad2f5dd73ea63c47b05399f7b128b67513fb6e',\n 'Domain_3f8c77411215a8f09e2bb1347cfab42b3422730c4074bb7d971cc74cd7cbea6c',\n 'Domain_01985e5715c7c94fb290dfb84c7a720a8c3f3cdeeb7b9d33b47ff3ab764111ea',\n 'Domain_1ed4b619af2bf8b2c7a6f142dcadfa2da39486d5075de7800a1a16b2a3921159',\n 'Domain_9399dc2aa6bca5ccff24be7907051bae805e9c431254e114bc62fe752c797961',\n 'Domain_87274f81fe1389c7ec10c1ac2819d2234fb682ec4ae493fb21b6136433d56bd3',\n 'Domain_73445f1350e108169b96099555741d0901526b6b0b5a2c91101133b1c18ba663',\n 'Domain_17b75227a815218487edc9fe3b1e3e2393d761ec38bd659b7057940bfe299741',\n 'Domain_fe3f54e90f647f8c2851f0d47fcb0095cf573f5e30d9f549169cdc47db565711',\n 'Domain_6771f54c2dc345860198285fd6a0989e61b575980b0fc8984b38e8caae4a9b3f',\n 'Domain_9f36f2777b33787d6867184af934548bd00cfac6cf3c315bbc9bbbf092274ca8',\n 'Domain_8906a4a3edddde3fce7e313a559b35a68bf019957da1dd4536f71acd9b3bb197',\n 'Domain_dba9abf99d717cbb32be282e00d7c6e32dec6689e5a11f3383a4650ad2365c44',\n 'Domain_63daf5bea3b48e50ba09deefb856668c4ae14050c89f8b7b447a447e3229d757',\n 'Domain_5f2a7c12f9f0b7b9072f71ecd90e67e6b4c726f37746d1220428e893f26007a3',\n 'Domain_1cbd5e21968a5ab18ba247a758ced6372b09b4cd3b4021269aded2ef819d08fa',\n 'Domain_d065f0416b70a7f1a411ebd7b887069f53e7413064fdbf65b8da3532d1c0a54f',\n 'Domain_76322bea38d8dc21406427869555be8a64c82492a5c875c01de5db8654f2fdaf',\n 'Domain_3e0ff4d49148d09edaf73bb7d0577304fb7daad3529105256f68d2ab4c960e1e',\n 'Domain_a4e9424a642cd0121a0947c2fbfcfa8fdfb8b4f20d2ebceaf7b2647cd021b634',\n 'Domain_3226183dde93c11eae12d0e2e7461483f24b30dc627d859395629629a64854d2',\n 'Domain_30843e7706f3320e45ee38adb65a134968ac73a31d15eee396798ed030cb1de7',\n 'Domain_1ff2bfe03f61daef72c52456000b14f2b77a8dde45ec7d546f6f2c714a1d8a40',\n 'Domain_13b6e6912d780582cbc5a5aa353b95a806389cfdde5c6986ef8814030d911302',\n 'Domain_55167a51267c52ea5f7d41127fb145eaf6018efe2bdf773d87b4a67a5dcc6599',\n 'Domain_373c4789588bd153fa1b95347ab3b5065079f4f029a7c33afb7cb17e85a8c7be',\n 'Domain_1fcc9282403a56f94ef3b9d8089cd180dbe4c21ad5a4684a2ef855866990da5a',\n 'Domain_4ef371276122ab7a2df2a54b465c8ebd7a487faa66e9c7e65031fa978b7d4271',\n 'Domain_f6ae6ac65a1b68afb5036a4cd6ec3a0173524f8a849779ef5861c0552357aa18',\n 'Domain_14e4a3548dabb25e59bee8164cca0aabda3a7925f4093ab933b0efb0df8c20a0',\n 'Domain_10ef856b56b5843ab3c76e4d75241ad9dab6178886be45a1255848e11af1ab5a',\n 'Domain_400b6f4959f5abeb7c771b327c5d424390a40100dd83430df62c6ce5213cf310',\n 'Domain_55c6f8f6ea736b2c66c1799e7d81c723959ab9d6c70b962ab4a1bcbff22c0d3d',\n 'Domain_d620945371fc5c55291724402ab0dd239da2a2dc3acee3d5be21054098ac84d2',\n 'Domain_d913945c591db55dcccd5a1a475ab5d50291ea8a2945c62ec8a946fac62bdedd',\n 'Domain_82897522e599daceb68a6001547af406d9c655d12b8232f50c18c160d898fa56',\n 'Domain_cd76bea0236bbb0216412524da456e6edd915c961051bed3cc39a0510c9feea3',\n 'Domain_5793f2cb77bcaa071fbe58c3a416644d47eb238c65026a8a15bf11c460e90889',\n 'Domain_b76ca073793809fb7b7d3095980fc8557e0efd9dbde1f964aee27107f915f034',\n 'Domain_9fd873e71a3b8fc742949e66c7f7430c9b9f86ec87b9ef398599a86ee9c4f2bc',\n 'Domain_8a4e53ef8a18db5e0ce16488fc22141de625738d4c48ce45488338ba990799ee',\n 'Domain_89cb66a79a3fd9f2aa6a3a92cdbc777a8193b41e004e2b00364290cfe0ec7e34',\n 'Domain_a527f4bb7022f68107b4eb3d894939e5914e849a08afe082d98b05dd91936171',\n 'Domain_8fdedf886842054eeb98e6d3aa6e747cd7b3c2a05772b943a182d0537dd173d8',\n 'Domain_c8867c59a4e8bb966d6a80bcc30a9b642421893f615be63cbc040a48c93b8c48',\n 'Domain_e103dc8a825ec6d0532ce0bf261c3da9a6ccb31f6713321afcc751ed3f4a60b8',\n 'Domain_f822228bf4507b1364516a987a2972b8e6804543940ecd5ea7730c8cc6904f95',\n 'Domain_cf98c83a2706b682c8107f5d1fe84d2ab552a84cc87c4bfd9cd13165fd2d86ef',\n 'Domain_46030b794f699bdeffc8895477119d4dee95eafe93ee88f0a0125e8e98d03ce1',\n 'Domain_7a31f1963a3671d078d6ee8681e1369dc8e9894fa1deba71a8f795e97a929a6e',\n 'Domain_066e264198445bd1cce900899b13943a8dbc202f7435dde1272f1961a6184125',\n 'Domain_a5e097103c33d7a3494c7d4b1354c8f3db2ac227fff0dcf649ea2713f34e5b79',\n 'Domain_0636b5e7706ace1b8437464e3599e55215536624296ee02677f803e18c974e80',\n 'Domain_f05b5acd3f4fa1fca76876f5eaaeb5bf944612a63fe5430ca3ea5d44d507399d',\n 'Domain_03c97479b5345d0d4de3fd671ca2ead0f3bfa8100c6be492337bceb37b7e587d',\n 'Domain_cc08396ae3414f753aa59780b6349d5aeca374cde030d4fd4caa5a3a51fffa89',\n 'Domain_6da075c4681f8e4a2bffeb2dc5595b8c1337fd8ad6efa712357d1827e727afbb',\n 'Domain_4194f7193ab1db000545c0448c956255a7e44e6afa0fb822991af48ef50f5082',\n 'Domain_ef8f0592da8bee9012daab0ded5ccdaac996198d58952328ac6da44fe6a96a4f',\n 'Domain_069153a47c9e81dd00337b7266ca0150cbaa24eefea558578f07c6fee09752c3',\n 'Domain_db4881f8ca4c46855690ee40537f055604f002b8d4805cbf561b76974ddf16b6',\n 'Domain_ea1d8d211b41a2acd6de2e462f050f9bd442d1b27ec9fbae59b5e4d4509fa4ee',\n 'Domain_a745d9235f9c6788a76d619311af1ed4e62d1126299b790af6cfdd5edbf9daa9',\n 'Domain_5aad56e78f39171b2e34e3472b6ef105094939ab63060247f3410a71d4272f9c',\n 'Domain_77398d9fb836bfa22c0ea81b4f07ef56330564c29563252562f3414333f1f812',\n 'Domain_164991b939141d1758605e32016f041ca06a91becf90b018bc5d07b3d0ca6be9',\n 'Domain_8beed5e6aa4901d2b59ac09d584c8f590a304a04c1b01deab05c927f66a3ceca',\n 'Domain_878b9508573f52d09d4e16fb9d0c05e2099658da96056d3b37881e8c57e9e075',\n 'Domain_5b065702aa73fe7d67daa4d6242e1f5ef70ca088dfada96cbba25459cee98e8a',\n 'Domain_35950cbd75e4f980c1b5931b6ca5981efbf5108633a6a2f42f1a7ace2dbe62b6',\n 'Domain_96753d557feb28d449002317e8fae7bce7f1d8b6f6638ff4553ae8b3c7652b96',\n 'Domain_65d8a41b75fc4dd26ab39129055ff6829f9e9a6b315d901df90c23fd64f44ceb',\n 'Domain_beb3b50a60c346c06e5cda1b2c6d971f1102fdd070bad5dd00a0e2b1b1e68a0c',\n 'Domain_93396bd7fa831a4f385fd13aa294ec2e1e25e6f45485755b397b7c38c0abf242',\n 'Domain_b8176b7501e5890f9af54e94c5c08542d2ffd730386fa2ba20d24b765f4d9ca2',\n 'Domain_6e6464bfd9a7f94d2c6de25bb9d9a4c291edbca2814dbfc94c463ace2e7d0973',\n 'Domain_ba3b9ba643f4d6203bc4a88802a514915d771a36f956928cf38d09e92c3f1f82',\n 'Domain_50537b44a717f1acf6bc24d51f4dc920d21893467bfc8c2b683bbb4b72f550d6',\n 'Domain_009774e7594c908616ca52d94edbea7c0965e30672fb4a3a6f69efc9f88c2ba4',\n 'Domain_24333d5701c20e73f72a43cc42b8598c40ab26ac81b6ed4d1be3e33371c79f6d',\n 'Domain_0c62647d062d8d8008cf48471f80c20c5b62da9cda824056a3ade77920e5c13e',\n 'Domain_7452c3636ef2c15d385f80e6c66840820df3f29dc038c80bc773b38ce8526377',\n 'Domain_33334f871592fd43c3fa3acbdd51fa3eeef7aeff6b8fb3dbac8c35bbadebea0e',\n 'Domain_60a415043ba51a390502f1d6a9577b8182abab88e21658a03c0f6b4cddf687c4',\n 'Domain_62502c5e793b2435ceb89a36dd61adff18021201435ed53db4c8e7f7d218e17c',\n 'Domain_82e7b2802ec4dccf26f89594a23ed7c8c036f775e6d72c9a11f1124214484d54',\n 'Domain_c7a89f364a501f1e7fd30f3260991b3d78b7ce4cd0976bd6754203b5fa3a9234',\n 'Domain_e7215787f618797bc180738e28f8ae21ea9c520ffb832c2ae35a3b700f7e9813',\n 'Domain_a22aa13b5187c961bdb1e9ab2e9a03cdad4fdd19eb4a14a54040da72a4b163fd',\n 'Domain_e5e1da9e0859a3a7be585241819bfd9bee55f4ad70ce04b587ea92b16311e5c8',\n 'Domain_902b5fa41a4f9e2e7a3ae87b924de5b190e308e5b30da21d781216ded77c69df',\n 'Domain_420dddc26d441c16a90c7513d0045917c91d37fc74820f5367b7513c80c64eae',\n 'Domain_ddc01d7ced4bf120cb459a8dc62ff30f567690405c4baa25c5cd012d5a593b76',\n 'Domain_88f8b485fb0c7048bc2726cceb3ff0c6d2fe8edf6b52a85195863bc92d5ad246',\n 'Domain_2eb916f9476fa2f6a9e24faeb6187a99f9331ba8a12f93ee9f6439d886d41bbb',\n 'Domain_aa4078e2f933a57e807136735c179e007a8228c6cf9e28f90e9d9cba07859075',\n 'Domain_4e010e09021e40606d9026fa5dbd3c9f011d121d3dfa41a7617247e77590826f',\n 'Domain_10e0a5b00cd96d2c0625ee8eeb988eb070c3400ec409412c1edfd6a864858928',\n 'Domain_8eae3c0c4e4539cb0d0fb73e754bb11dead3e0de2364f75b2c7cacf22f858c07',\n 'Domain_de2631b73037bea620e808f01a2f93b7e85a9fc9af6648b93b1ebba3614212c9',\n 'Domain_ea23812b507309b9ffbe19af381a5e5cd221cdea8c47836deb7bc9564def6752',\n 'Domain_2a0d82c22a4419e787745c7bb5bd77fcfc96879ee1dc362687acdc88d3b91b57',\n 'Domain_204cfe7080c712836a46b3a7912e65ce1a5b71f8a8d25851b9f1e60571bdc2b6',\n ...]"
     },
     "execution_count": 23,
     "metadata": {},
     "output_type": "execute_result"
    }
   ],
   "source": [
    "illegal_domains = df_node[df_node['industry'] != '[]']['id'].to_list()\n",
    "illegal_domains"
   ],
   "metadata": {
    "collapsed": false,
    "pycharm": {
     "name": "#%%\n"
    }
   }
  },
  {
   "cell_type": "code",
   "execution_count": 53,
   "outputs": [],
   "source": [
    "cores = set()\n",
    "visited_nodes = set()\n",
    "ip_cert = {}"
   ],
   "metadata": {
    "collapsed": false,
    "pycharm": {
     "name": "#%%\n"
    }
   }
  },
  {
   "cell_type": "code",
   "execution_count": 131,
   "outputs": [],
   "source": [
    "def Search(node_id, depth, path):\n",
    "    visited_nodes.add(node_id)\n",
    "\n",
    "    if len(visited_nodes) % 3000 == 0:\n",
    "        print(\"#visited nodes: %d\\t#core nodes: %d\" % (len(visited_nodes), len(cores)))\n",
    "\n",
    "    if depth == 0: return\n",
    "\n",
    "    df = df_link[(df_link['source'] == node_id) | (df_link['target'] == node_id)]\n",
    "    if node_id.startswith(\"Cert\"):\n",
    "        df = df[(df['relation'] != 'r_cert') | (df['source'].isin(illegal_domains)) | (df['source'].isin(cores))]\n",
    "\n",
    "    neighbors = []\n",
    "    for _, link in df.iterrows():\n",
    "        if link['source'] not in visited_nodes:\n",
    "            neighbors.append({\"id\": link['source'], \"depth\": link['link_strength']})\n",
    "\n",
    "        if link['target'] not in visited_nodes:\n",
    "            neighbors.append({\"id\": link['target'], \"depth\": link['link_strength']})\n",
    "\n",
    "    # find a clue node!\n",
    "    if (len(df[(~df['source'].isin(path)) & (df['source'].isin(clues))]) != 0) or (len(\n",
    "            df[(~df['target'].isin(path)) & (df['target'].isin(clues))]) != 0):\n",
    "        print(\"Find a path.\")\n",
    "        for path_node in path:\n",
    "            cores.add(path_node)\n",
    "\n",
    "    for neighbor in neighbors:\n",
    "        node_id = neighbor[\"id\"]\n",
    "\n",
    "        path.append(node_id)\n",
    "        Search(node_id, min(depth - 1, neighbor[\"depth\"]), path)\n",
    "        path.remove(node_id)"
   ],
   "metadata": {
    "collapsed": false,
    "pycharm": {
     "name": "#%%\n"
    }
   }
  },
  {
   "cell_type": "code",
   "execution_count": 289,
   "outputs": [],
   "source": [
    "def SearchCores(node_id, depth, core_threshold=2):\n",
    "    visited_nodes.add(node_id)\n",
    "\n",
    "    if node_id.startswith(\"IP\") or node_id.startswith(\"Cert\"):\n",
    "        ip_cert[node_id] = 1 if (node_id not in ip_cert) else ip_cert[node_id] + 1\n",
    "        if ip_cert[node_id] > core_threshold:\n",
    "            cores.add(node_id)\n",
    "\n",
    "    if len(visited_nodes) % 3000 == 0:\n",
    "        print(\"Search Cores #visited nodes: %d\\t#core nodes: %d\" % (len(visited_nodes), len(cores)))\n",
    "\n",
    "    if depth == 0: return\n",
    "\n",
    "    df = df_link[(df_link['source'] == node_id) | (df_link['target'] == node_id)]\n",
    "    # if node_id.startswith(\"Cert\"):\n",
    "    #     df = df[(df['relation'] != 'r_cert') | (df['source'].isin(illegal_domains)) | (df['source'].isin(cores))]\n",
    "\n",
    "    neighbors = []\n",
    "    is_useful = False\n",
    "    for _, link in df.iterrows():\n",
    "        if link['source'] not in visited_nodes:\n",
    "            neighbors.append({\"id\": link['source'], \"depth\": link['link_strength']})\n",
    "\n",
    "        if link['target'] not in visited_nodes:\n",
    "            neighbors.append({\"id\": link['target'], \"depth\": link['link_strength']})\n",
    "\n",
    "        if ~is_useful and node_id.startswith(\"Domain\") and link['relation'] in ['r_dns_a', 'r_cert'] and link[\n",
    "            'target'] in cores:\n",
    "            # if link['relation'] == 'r_cert':\n",
    "            #     print(df[df['relation'].isin(['r_dns_a', 'r_cert'])]['target'].to_list())\n",
    "            is_useful = True\n",
    "\n",
    "    if is_useful:\n",
    "        for _, link in df.iterrows():\n",
    "            if link['relation'] == 'r_dns_a' and link['target'] not in cores:\n",
    "                cores.add(link['target'])\n",
    "                cores.add(node_id)\n",
    "\n",
    "    for neighbor in neighbors:\n",
    "        SearchCores(neighbor[\"id\"], min(depth - 1, neighbor[\"depth\"]))"
   ],
   "metadata": {
    "collapsed": false,
    "pycharm": {
     "name": "#%%\n"
    }
   }
  },
  {
   "cell_type": "markdown",
   "source": [
    "### Drawer"
   ],
   "metadata": {
    "collapsed": false,
    "pycharm": {
     "name": "#%% md\n"
    }
   }
  },
  {
   "cell_type": "code",
   "execution_count": 290,
   "outputs": [],
   "source": [
    "from pyecharts.charts import Graph\n",
    "from pyecharts import options as opts\n",
    "\n",
    "\n",
    "def Draw(nodes, df_links, name):\n",
    "    name_length = 15\n",
    "\n",
    "    node_list = []\n",
    "    for node in nodes:\n",
    "        if node in clues:\n",
    "            node_list.append({\"name\": node[0:name_length], \"itemStyle\": {\"color\": \"#71995a\"}})\n",
    "        else:\n",
    "            node_list.append({\"name\": node[0:name_length]})\n",
    "\n",
    "    link_list = []\n",
    "    for index, row in df_links.iterrows():\n",
    "        link_list.append(\n",
    "            {\"source\": row['source'][0:name_length], \"target\": row['target'][0:name_length], \"value\": row['relation']})\n",
    "\n",
    "    print(\"#node: %d\\t#links: %d\" % (len(node_list), len(link_list)))\n",
    "\n",
    "    c = (\n",
    "        Graph()\n",
    "            .add(\"\", node_list, link_list, repulsion=1000, edge_label=opts.LabelOpts(\n",
    "            is_show=True, position=\"middle\", formatter=\"relation\"))\n",
    "            .set_global_opts(title_opts=opts.TitleOpts(title=name))\n",
    "            .render(name + \".html\")\n",
    "    )"
   ],
   "metadata": {
    "collapsed": false,
    "pycharm": {
     "name": "#%%\n"
    }
   }
  },
  {
   "cell_type": "markdown",
   "source": [
    "### JSON Generator"
   ],
   "metadata": {
    "collapsed": false,
    "pycharm": {
     "name": "#%% md\n"
    }
   }
  },
  {
   "cell_type": "code",
   "execution_count": 291,
   "outputs": [],
   "source": [
    "def ToJSON(nodes, df_links, name):\n",
    "    df_json_node = df_node[df_node['id'].isin(nodes)]\n",
    "    df_json_node = df_json_node.rename(columns={\"type\": \"group\"})\n",
    "\n",
    "    df_json_link = df_links.drop(['link_strength'], axis=1)\n",
    "    df_json_link = df_json_link.rename(columns={\"relation\": \"value\"})\n",
    "\n",
    "    if not os.path.exists(name):\n",
    "        os.mkdir(name)\n",
    "    df_json_node.to_json(name + \"/nodes.json\", orient=\"records\")\n",
    "    df_json_link.to_json(name + \"/links.json\", orient=\"records\")"
   ],
   "metadata": {
    "collapsed": false,
    "pycharm": {
     "name": "#%%\n"
    }
   }
  },
  {
   "cell_type": "code",
   "execution_count": 292,
   "outputs": [],
   "source": [
    "def Filter(relation, df_graph, cores, threshold=20):\n",
    "    df_relation = df_graph[df_graph['relation'] == relation]\n",
    "    domains = []\n",
    "    uniques = df_relation['target'].unique()\n",
    "    for unique in uniques:\n",
    "        df = df_relation[df_relation['target'] == unique]\n",
    "        if len(df) > threshold:\n",
    "            df = df.sample(threshold)\n",
    "        domains += df['source'].to_list()\n",
    "\n",
    "    df_graph = df_graph[\n",
    "        (df_graph['relation'] != relation) | (df_graph['source'].isin(domains)) | df_graph['source'].isin(cores)]\n",
    "\n",
    "    return df_graph"
   ],
   "metadata": {
    "collapsed": false,
    "pycharm": {
     "name": "#%%\n"
    }
   }
  },
  {
   "cell_type": "code",
   "execution_count": 305,
   "outputs": [],
   "source": [
    "name = \"group-1\"\n",
    "if not os.path.exists(name):\n",
    "    os.mkdir(name)\n",
    "\n",
    "clues = [\"Domain_c58c149eec59bb14b0c102a0f303d4c20366926b5c3206555d2937474124beb9\",\n",
    "         \"Domain_f3554b666038baffa5814c319d3053ee2c2eb30d31d0ef509a1a463386b69845\"]\n",
    "\n",
    "# clues = [\"Domain_b10f98a9b53806ccd3a5ee45676c7c09366545c5b12aa96955cde3953e7ad058\",\n",
    "#          \"IP_400c19e584976ff2a35950659d4d148a3d146f1b71692468132b849b0eb8702c\"]\n",
    "#\n",
    "# clues = [\"Domain_24acfd52f9ceb424d4a2643a832638ce1673b8689fa952d9010dd44949e6b1d9\",\n",
    "#          \"Domain_9c72287c3f9bb38cb0186acf37b7054442b75ac32324dfd245aed46a03026de1\",\n",
    "#          \"Domain_717aa5778731a1f4d6f0218dd3a27b114c839213b4af781427ac1e22dc9a7dea\",\n",
    "#          \"Domain_8748687a61811032f0ed1dcdb57e01efef9983a6d9c236b82997b07477e66177\",\n",
    "#          \"Whois_Phone_f4a84443fb72da27731660695dd00877e8ce25b264ec418504fface62cdcbbd7\"]\n",
    "#\n",
    "# clues = [\"IP_7e730b193c2496fc908086e8c44fc2dbbf7766e599fabde86a4bcb6afdaad66e\",\n",
    "#          \"Cert_6724539e5c0851f37dcf91b7ac85cb35fcd9f8ba4df0107332c308aa53d63bdb\"]\n",
    "#\n",
    "# clues = [\"Whois_Phone_fd0a3f6712ff520edae7e554cb6dfb4bdd2af1e4a97a39ed9357b31b6888b4af\",\n",
    "#          \"IP_21ce145cae6730a99300bf677b83bbe430cc0ec957047172e73659372f0031b8\",\n",
    "#          \"Domain_7939d01c5b99c39d2a0f2b418f6060b917804e60c15309811ef4059257c0818a\",\n",
    "#          \"Domain_587da0bac152713947db682a5443ef639e35f77a3b59e246e8a07c5eccae67e5\"]"
   ],
   "metadata": {
    "collapsed": false,
    "pycharm": {
     "name": "#%%\n"
    }
   }
  },
  {
   "cell_type": "code",
   "execution_count": null,
   "outputs": [
    {
     "name": "stdout",
     "output_type": "stream",
     "text": [
      "Search Cores #visited nodes: 3000\t#core nodes: 2\n"
     ]
    }
   ],
   "source": [
    "cores.clear()\n",
    "for clue in clues:\n",
    "    cores.add(clue)\n",
    "\n",
    "visited_nodes.clear()\n",
    "ip_cert.clear()\n",
    "for clue in clues:\n",
    "    SearchCores(clue, 3, 2)\n",
    "\n",
    "cores_ = copy.deepcopy(cores)\n",
    "visited_nodes.clear()\n",
    "for core in cores_:\n",
    "    Search(core, 3, [core])\n",
    "\n",
    "print(\"#cores: %d\" % len(cores))\n",
    "print(\"#visited nodes: %d\" % len(visited_nodes))"
   ],
   "metadata": {
    "collapsed": false,
    "pycharm": {
     "name": "#%%\n",
     "is_executing": true
    }
   }
  },
  {
   "cell_type": "code",
   "execution_count": null,
   "outputs": [],
   "source": [
    "sketch_nodes = copy.deepcopy(cores)\n",
    "df_sketch = df_link[(df_link['source'].isin(sketch_nodes)) & (df_link['target'].isin(sketch_nodes))]\n",
    "\n",
    "# filter cert and ip\n",
    "df_sketch = Filter('r_cert', df_sketch, sketch_nodes)\n",
    "df_sketch = Filter('r_dns_a', df_sketch, sketch_nodes)\n",
    "df_sketch = Filter('r_whois_phone', df_sketch, sketch_nodes)\n",
    "df_sketch = Filter('r_cidr', df_sketch, sketch_nodes)\n",
    "\n",
    "# sketch_nodes = df_sketch['source'].to_list() + df_sketch['target'].to_list()\n",
    "# sketch_nodes = set(sketch_nodes)\n",
    "\n",
    "Draw(sketch_nodes, df_sketch, name + \"/sketch\")\n",
    "ToJSON(sketch_nodes, df_sketch, name + \"/sketch\")"
   ],
   "metadata": {
    "collapsed": false,
    "pycharm": {
     "name": "#%%\n",
     "is_executing": true
    }
   }
  },
  {
   "cell_type": "markdown",
   "source": [
    "### Cores Nodes"
   ],
   "metadata": {
    "collapsed": false,
    "pycharm": {
     "name": "#%% md\n"
    }
   }
  },
  {
   "cell_type": "code",
   "execution_count": null,
   "outputs": [],
   "source": [
    "# find all related ip and certs along the path\n",
    "cores_ip_cert = copy.deepcopy(cores)\n",
    "df_depth = df_link[(df_link['source'].isin(cores)) | (df_link['target'].isin(cores))]\n",
    "nodes = df_depth['source'].to_list() + df_depth['target'].to_list()\n",
    "for node in nodes:\n",
    "    if node.startswith(\"IP\") or node.startswith(\"Cert\"):\n",
    "        cores_ip_cert.add(node)\n",
    "\n",
    "df_cores_ip_certs = df_link[(df_link['source'].isin(cores_ip_cert)) | (df_link['target'].isin(cores_ip_cert))]\n",
    "\n",
    "# filter cert and ip\n",
    "df_cores_ip_certs = Filter('r_cert', df_cores_ip_certs, cores_ip_cert)\n",
    "df_cores_ip_certs = Filter('r_dns_a', df_cores_ip_certs, cores_ip_cert)\n",
    "df_cores_ip_certs = Filter('r_whois_phone', df_cores_ip_certs, cores_ip_cert)\n",
    "df_cores_ip_certs = Filter('r_cidr', df_cores_ip_certs, cores_ip_cert, 5)\n",
    "\n",
    "cores_nodes = df_cores_ip_certs['source'].to_list() + df_cores_ip_certs['target'].to_list()\n",
    "cores_nodes = set(cores_nodes)\n",
    "\n",
    "Draw(cores_nodes, df_cores_ip_certs, name + \"/cores\")\n",
    "ToJSON(cores_nodes, df_cores_ip_certs, name + \"/cores\")"
   ],
   "metadata": {
    "collapsed": false,
    "pycharm": {
     "name": "#%%\n",
     "is_executing": true
    }
   }
  },
  {
   "cell_type": "markdown",
   "source": [
    "### Subgraph - all"
   ],
   "metadata": {
    "collapsed": false,
    "pycharm": {
     "name": "#%% md\n"
    }
   }
  },
  {
   "cell_type": "code",
   "execution_count": null,
   "outputs": [],
   "source": [
    "subgraph_nodes = copy.deepcopy(cores_nodes)\n",
    "df_subgraph = df_link[(df_link['source'].isin(subgraph_nodes)) | (df_link['target'].isin(subgraph_nodes))]\n",
    "\n",
    "# filter cert and ip\n",
    "df_subgraph = Filter('r_cert', df_subgraph, subgraph_nodes)\n",
    "df_subgraph = Filter('r_dns_a', df_subgraph, subgraph_nodes)\n",
    "\n",
    "subgraph_nodes = df_subgraph['source'].to_list() + df_subgraph['target'].to_list()\n",
    "subgraph_nodes = set(subgraph_nodes)\n",
    "\n",
    "Draw(subgraph_nodes, df_subgraph, name + \"/subgraph-all\")\n",
    "ToJSON(subgraph_nodes, df_subgraph, name + \"/subgraph-all\")"
   ],
   "metadata": {
    "collapsed": false,
    "pycharm": {
     "name": "#%%\n",
     "is_executing": true
    }
   }
  },
  {
   "cell_type": "markdown",
   "source": [
    "### Subgraph - illegal"
   ],
   "metadata": {
    "collapsed": false,
    "pycharm": {
     "name": "#%% md\n"
    }
   }
  },
  {
   "cell_type": "code",
   "execution_count": null,
   "outputs": [],
   "source": [
    "# if we only care illegal nodes?\n",
    "illegal_domain = df_node[df_node['industry'] != '[]']['id']\n",
    "df_subgraph_illegal = df_subgraph[\n",
    "    (df_subgraph['source'].isin(illegal_domain)) | df_subgraph['source'].isin(cores_nodes)]\n",
    "\n",
    "subgraph_nodes_illegal = df_subgraph_illegal['source'].to_list() + df_subgraph_illegal['target'].to_list()\n",
    "subgraph_nodes_illegal = set(subgraph_nodes_illegal)\n",
    "\n",
    "Draw(subgraph_nodes_illegal, df_subgraph_illegal, name + \"/subgraph-illegal\")\n",
    "ToJSON(subgraph_nodes_illegal, df_subgraph_illegal, name + \"/subgraph-illegal\")"
   ],
   "metadata": {
    "collapsed": false,
    "pycharm": {
     "name": "#%%\n",
     "is_executing": true
    }
   }
  },
  {
   "cell_type": "code",
   "execution_count": null,
   "outputs": [],
   "source": [],
   "metadata": {
    "collapsed": false,
    "pycharm": {
     "name": "#%%\n"
    }
   }
  }
 ],
 "metadata": {
  "kernelspec": {
   "display_name": "Python 3",
   "language": "python",
   "name": "python3"
  },
  "language_info": {
   "codemirror_mode": {
    "name": "ipython",
    "version": 2
   },
   "file_extension": ".py",
   "mimetype": "text/x-python",
   "name": "python",
   "nbconvert_exporter": "python",
   "pygments_lexer": "ipython2",
   "version": "2.7.6"
  }
 },
 "nbformat": 4,
 "nbformat_minor": 0
}